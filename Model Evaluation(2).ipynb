{
 "metadata": {
  "language_info": {
   "codemirror_mode": {
    "name": "ipython",
    "version": 3
   },
   "file_extension": ".py",
   "mimetype": "text/x-python",
   "name": "python",
   "nbconvert_exporter": "python",
   "pygments_lexer": "ipython3",
   "version": "3.8.3-final"
  },
  "orig_nbformat": 2,
  "kernelspec": {
   "name": "python3",
   "display_name": "Python 3.8.3 64-bit (conda)",
   "metadata": {
    "interpreter": {
     "hash": "f6cadb433fb4d5e490a52a7886e50fe75cf2fd39fd559aabdd1f0f7248e07363"
    }
   }
  }
 },
 "nbformat": 4,
 "nbformat_minor": 2,
 "cells": [
  {
   "source": [
    "# Hyperparameter Tunning for Regression"
   ],
   "cell_type": "markdown",
   "metadata": {}
  },
  {
   "cell_type": "code",
   "execution_count": 156,
   "metadata": {},
   "outputs": [],
   "source": [
    "import pandas as pd\n",
    "import numpy as np\n",
    "import seaborn as sns"
   ]
  },
  {
   "cell_type": "code",
   "execution_count": 157,
   "metadata": {},
   "outputs": [],
   "source": [
    "tips= sns.load_dataset('tips')"
   ]
  },
  {
   "cell_type": "code",
   "execution_count": 158,
   "metadata": {},
   "outputs": [
    {
     "output_type": "execute_result",
     "data": {
      "text/plain": [
       "     total_bill   tip     sex smoker   day    time  size\n",
       "0         16.99  1.01  Female     No   Sun  Dinner     2\n",
       "1         10.34  1.66    Male     No   Sun  Dinner     3\n",
       "2         21.01  3.50    Male     No   Sun  Dinner     3\n",
       "3         23.68  3.31    Male     No   Sun  Dinner     2\n",
       "4         24.59  3.61  Female     No   Sun  Dinner     4\n",
       "..          ...   ...     ...    ...   ...     ...   ...\n",
       "239       29.03  5.92    Male     No   Sat  Dinner     3\n",
       "240       27.18  2.00  Female    Yes   Sat  Dinner     2\n",
       "241       22.67  2.00    Male    Yes   Sat  Dinner     2\n",
       "242       17.82  1.75    Male     No   Sat  Dinner     2\n",
       "243       18.78  3.00  Female     No  Thur  Dinner     2\n",
       "\n",
       "[244 rows x 7 columns]"
      ],
      "text/html": "<div>\n<style scoped>\n    .dataframe tbody tr th:only-of-type {\n        vertical-align: middle;\n    }\n\n    .dataframe tbody tr th {\n        vertical-align: top;\n    }\n\n    .dataframe thead th {\n        text-align: right;\n    }\n</style>\n<table border=\"1\" class=\"dataframe\">\n  <thead>\n    <tr style=\"text-align: right;\">\n      <th></th>\n      <th>total_bill</th>\n      <th>tip</th>\n      <th>sex</th>\n      <th>smoker</th>\n      <th>day</th>\n      <th>time</th>\n      <th>size</th>\n    </tr>\n  </thead>\n  <tbody>\n    <tr>\n      <th>0</th>\n      <td>16.99</td>\n      <td>1.01</td>\n      <td>Female</td>\n      <td>No</td>\n      <td>Sun</td>\n      <td>Dinner</td>\n      <td>2</td>\n    </tr>\n    <tr>\n      <th>1</th>\n      <td>10.34</td>\n      <td>1.66</td>\n      <td>Male</td>\n      <td>No</td>\n      <td>Sun</td>\n      <td>Dinner</td>\n      <td>3</td>\n    </tr>\n    <tr>\n      <th>2</th>\n      <td>21.01</td>\n      <td>3.50</td>\n      <td>Male</td>\n      <td>No</td>\n      <td>Sun</td>\n      <td>Dinner</td>\n      <td>3</td>\n    </tr>\n    <tr>\n      <th>3</th>\n      <td>23.68</td>\n      <td>3.31</td>\n      <td>Male</td>\n      <td>No</td>\n      <td>Sun</td>\n      <td>Dinner</td>\n      <td>2</td>\n    </tr>\n    <tr>\n      <th>4</th>\n      <td>24.59</td>\n      <td>3.61</td>\n      <td>Female</td>\n      <td>No</td>\n      <td>Sun</td>\n      <td>Dinner</td>\n      <td>4</td>\n    </tr>\n    <tr>\n      <th>...</th>\n      <td>...</td>\n      <td>...</td>\n      <td>...</td>\n      <td>...</td>\n      <td>...</td>\n      <td>...</td>\n      <td>...</td>\n    </tr>\n    <tr>\n      <th>239</th>\n      <td>29.03</td>\n      <td>5.92</td>\n      <td>Male</td>\n      <td>No</td>\n      <td>Sat</td>\n      <td>Dinner</td>\n      <td>3</td>\n    </tr>\n    <tr>\n      <th>240</th>\n      <td>27.18</td>\n      <td>2.00</td>\n      <td>Female</td>\n      <td>Yes</td>\n      <td>Sat</td>\n      <td>Dinner</td>\n      <td>2</td>\n    </tr>\n    <tr>\n      <th>241</th>\n      <td>22.67</td>\n      <td>2.00</td>\n      <td>Male</td>\n      <td>Yes</td>\n      <td>Sat</td>\n      <td>Dinner</td>\n      <td>2</td>\n    </tr>\n    <tr>\n      <th>242</th>\n      <td>17.82</td>\n      <td>1.75</td>\n      <td>Male</td>\n      <td>No</td>\n      <td>Sat</td>\n      <td>Dinner</td>\n      <td>2</td>\n    </tr>\n    <tr>\n      <th>243</th>\n      <td>18.78</td>\n      <td>3.00</td>\n      <td>Female</td>\n      <td>No</td>\n      <td>Thur</td>\n      <td>Dinner</td>\n      <td>2</td>\n    </tr>\n  </tbody>\n</table>\n<p>244 rows × 7 columns</p>\n</div>"
     },
     "metadata": {},
     "execution_count": 158
    }
   ],
   "source": [
    "tips"
   ]
  },
  {
   "source": [
    "## Data Splitting"
   ],
   "cell_type": "markdown",
   "metadata": {}
  },
  {
   "cell_type": "code",
   "execution_count": 159,
   "metadata": {},
   "outputs": [],
   "source": [
    "X= tips.drop('tip', axis=1)\n",
    "y= tips['tip']"
   ]
  },
  {
   "cell_type": "code",
   "execution_count": 160,
   "metadata": {},
   "outputs": [],
   "source": [
    "from sklearn.model_selection import train_test_split"
   ]
  },
  {
   "cell_type": "code",
   "execution_count": 161,
   "metadata": {},
   "outputs": [],
   "source": [
    "X_train_val, X_test, y_train_val, y_test= train_test_split(X,y, test_size=0.2, random_state=2020)"
   ]
  },
  {
   "source": [
    "## Transformer"
   ],
   "cell_type": "markdown",
   "metadata": {}
  },
  {
   "cell_type": "code",
   "execution_count": 162,
   "metadata": {},
   "outputs": [],
   "source": [
    "from sklearn.compose import ColumnTransformer\n",
    "from sklearn.pipeline import Pipeline\n",
    "from sklearn.preprocessing import OneHotEncoder"
   ]
  },
  {
   "cell_type": "code",
   "execution_count": 163,
   "metadata": {},
   "outputs": [],
   "source": [
    "transformer= ColumnTransformer([('encoder', OneHotEncoder(drop='first'),['sex','smoker','day','time'])], remainder='passthrough')"
   ]
  },
  {
   "source": [
    "## Model Benchmark Selection"
   ],
   "cell_type": "markdown",
   "metadata": {}
  },
  {
   "cell_type": "code",
   "execution_count": 164,
   "metadata": {},
   "outputs": [],
   "source": [
    "from sklearn.tree import DecisionTreeRegressor\n",
    "from sklearn.linear_model import LinearRegression"
   ]
  },
  {
   "cell_type": "code",
   "execution_count": 165,
   "metadata": {},
   "outputs": [],
   "source": [
    "tree= DecisionTreeRegressor(max_depth=5, random_state=2020)\n",
    "linreg= LinearRegression()"
   ]
  },
  {
   "cell_type": "code",
   "execution_count": 166,
   "metadata": {},
   "outputs": [],
   "source": [
    "from sklearn.metrics import SCORERS"
   ]
  },
  {
   "cell_type": "code",
   "execution_count": 167,
   "metadata": {},
   "outputs": [
    {
     "output_type": "execute_result",
     "data": {
      "text/plain": [
       "{'explained_variance': make_scorer(explained_variance_score),\n",
       " 'r2': make_scorer(r2_score),\n",
       " 'max_error': make_scorer(max_error, greater_is_better=False),\n",
       " 'neg_median_absolute_error': make_scorer(median_absolute_error, greater_is_better=False),\n",
       " 'neg_mean_absolute_error': make_scorer(mean_absolute_error, greater_is_better=False),\n",
       " 'neg_mean_squared_error': make_scorer(mean_squared_error, greater_is_better=False),\n",
       " 'neg_mean_squared_log_error': make_scorer(mean_squared_log_error, greater_is_better=False),\n",
       " 'neg_root_mean_squared_error': make_scorer(mean_squared_error, greater_is_better=False, squared=False),\n",
       " 'neg_mean_poisson_deviance': make_scorer(mean_poisson_deviance, greater_is_better=False),\n",
       " 'neg_mean_gamma_deviance': make_scorer(mean_gamma_deviance, greater_is_better=False),\n",
       " 'accuracy': make_scorer(accuracy_score),\n",
       " 'roc_auc': make_scorer(roc_auc_score, needs_threshold=True),\n",
       " 'roc_auc_ovr': make_scorer(roc_auc_score, needs_proba=True, multi_class=ovr),\n",
       " 'roc_auc_ovo': make_scorer(roc_auc_score, needs_proba=True, multi_class=ovo),\n",
       " 'roc_auc_ovr_weighted': make_scorer(roc_auc_score, needs_proba=True, multi_class=ovr, average=weighted),\n",
       " 'roc_auc_ovo_weighted': make_scorer(roc_auc_score, needs_proba=True, multi_class=ovo, average=weighted),\n",
       " 'balanced_accuracy': make_scorer(balanced_accuracy_score),\n",
       " 'average_precision': make_scorer(average_precision_score, needs_threshold=True),\n",
       " 'neg_log_loss': make_scorer(log_loss, greater_is_better=False, needs_proba=True),\n",
       " 'neg_brier_score': make_scorer(brier_score_loss, greater_is_better=False, needs_proba=True),\n",
       " 'adjusted_rand_score': make_scorer(adjusted_rand_score),\n",
       " 'homogeneity_score': make_scorer(homogeneity_score),\n",
       " 'completeness_score': make_scorer(completeness_score),\n",
       " 'v_measure_score': make_scorer(v_measure_score),\n",
       " 'mutual_info_score': make_scorer(mutual_info_score),\n",
       " 'adjusted_mutual_info_score': make_scorer(adjusted_mutual_info_score),\n",
       " 'normalized_mutual_info_score': make_scorer(normalized_mutual_info_score),\n",
       " 'fowlkes_mallows_score': make_scorer(fowlkes_mallows_score),\n",
       " 'precision': make_scorer(precision_score, average=binary),\n",
       " 'precision_macro': make_scorer(precision_score, pos_label=None, average=macro),\n",
       " 'precision_micro': make_scorer(precision_score, pos_label=None, average=micro),\n",
       " 'precision_samples': make_scorer(precision_score, pos_label=None, average=samples),\n",
       " 'precision_weighted': make_scorer(precision_score, pos_label=None, average=weighted),\n",
       " 'recall': make_scorer(recall_score, average=binary),\n",
       " 'recall_macro': make_scorer(recall_score, pos_label=None, average=macro),\n",
       " 'recall_micro': make_scorer(recall_score, pos_label=None, average=micro),\n",
       " 'recall_samples': make_scorer(recall_score, pos_label=None, average=samples),\n",
       " 'recall_weighted': make_scorer(recall_score, pos_label=None, average=weighted),\n",
       " 'f1': make_scorer(f1_score, average=binary),\n",
       " 'f1_macro': make_scorer(f1_score, pos_label=None, average=macro),\n",
       " 'f1_micro': make_scorer(f1_score, pos_label=None, average=micro),\n",
       " 'f1_samples': make_scorer(f1_score, pos_label=None, average=samples),\n",
       " 'f1_weighted': make_scorer(f1_score, pos_label=None, average=weighted),\n",
       " 'jaccard': make_scorer(jaccard_score, average=binary),\n",
       " 'jaccard_macro': make_scorer(jaccard_score, pos_label=None, average=macro),\n",
       " 'jaccard_micro': make_scorer(jaccard_score, pos_label=None, average=micro),\n",
       " 'jaccard_samples': make_scorer(jaccard_score, pos_label=None, average=samples),\n",
       " 'jaccard_weighted': make_scorer(jaccard_score, pos_label=None, average=weighted)}"
      ]
     },
     "metadata": {},
     "execution_count": 167
    }
   ],
   "source": [
    "SCORERS"
   ]
  },
  {
   "cell_type": "code",
   "execution_count": 168,
   "metadata": {},
   "outputs": [],
   "source": [
    "from sklearn.model_selection import cross_val_score"
   ]
  },
  {
   "cell_type": "code",
   "execution_count": 169,
   "metadata": {},
   "outputs": [],
   "source": [
    "tree_pipe=Pipeline([\n",
    "    ('transformer', transformer),\n",
    "    ('tree',tree)\n",
    "])\n",
    "\n",
    "linreg_pipe=Pipeline([\n",
    "    ('transformer', transformer),\n",
    "    ('linreg',linreg)\n",
    "])"
   ]
  },
  {
   "cell_type": "code",
   "execution_count": 170,
   "metadata": {},
   "outputs": [
    {
     "output_type": "stream",
     "name": "stdout",
     "text": [
      "[-1.0686013  -1.05481258 -1.40873212 -1.36874835 -1.19188762]\n"
     ]
    }
   ],
   "source": [
    "tree_cv=cross_val_score(tree_pipe, X_train_val,y_train_val, scoring='neg_mean_squared_error')\n",
    "print(tree_cv)"
   ]
  },
  {
   "cell_type": "code",
   "execution_count": 171,
   "metadata": {},
   "outputs": [
    {
     "output_type": "stream",
     "name": "stdout",
     "text": [
      "mean score -1.2185563943289317\nstd score 0.14746811060758674\n"
     ]
    }
   ],
   "source": [
    "print('mean score', tree_cv.mean())\n",
    "print('std score', tree_cv.std())"
   ]
  },
  {
   "cell_type": "code",
   "execution_count": 172,
   "metadata": {},
   "outputs": [
    {
     "output_type": "execute_result",
     "data": {
      "text/plain": [
       "array([-0.87304358, -0.84277215, -1.05989713, -1.77937311, -1.10502143])"
      ]
     },
     "metadata": {},
     "execution_count": 172
    }
   ],
   "source": [
    "linreg_cv=cross_val_score(linreg_pipe,X_train_val,y_train_val, scoring='neg_mean_squared_error')\n",
    "linreg_cv"
   ]
  },
  {
   "cell_type": "code",
   "execution_count": 173,
   "metadata": {},
   "outputs": [
    {
     "output_type": "stream",
     "name": "stdout",
     "text": [
      "mean score -1.132021480300672\nstd score 0.3393316319526703\n"
     ]
    }
   ],
   "source": [
    "print('mean score', linreg_cv.mean())\n",
    "print('std score', linreg_cv.std())"
   ]
  },
  {
   "source": [
    "Sebagai benchmark, terpilih Decision Tree, karena, walau scorenya sedikit lebih besar (mse, makin kecil makin baik), tetapi, modelnya jauh lebih stabil (nilai score_std lebih kecil) "
   ],
   "cell_type": "markdown",
   "metadata": {}
  },
  {
   "source": [
    "## Model Performance with Test set"
   ],
   "cell_type": "markdown",
   "metadata": {}
  },
  {
   "cell_type": "code",
   "execution_count": 174,
   "metadata": {},
   "outputs": [],
   "source": [
    "from sklearn.metrics import mean_squared_error"
   ]
  },
  {
   "cell_type": "code",
   "execution_count": 175,
   "metadata": {},
   "outputs": [],
   "source": [
    "tree= DecisionTreeRegressor(max_depth=5, random_state= 2020)\n",
    "tree_pipe=Pipeline([\n",
    "    ('transformer', transformer),\n",
    "    ('tree',tree)\n",
    "])\n"
   ]
  },
  {
   "cell_type": "code",
   "execution_count": 176,
   "metadata": {},
   "outputs": [],
   "source": [
    "tree_pipe.fit(X_train_val,y_train_val)\n",
    "y_pred= tree_pipe.predict(X_test)"
   ]
  },
  {
   "cell_type": "code",
   "execution_count": 177,
   "metadata": {},
   "outputs": [
    {
     "output_type": "stream",
     "name": "stdout",
     "text": [
      "mse:  1.4808803946104498\n"
     ]
    }
   ],
   "source": [
    "print('mse: ',mean_squared_error(y_test,y_pred))"
   ]
  },
  {
   "cell_type": "code",
   "execution_count": 178,
   "metadata": {},
   "outputs": [
    {
     "output_type": "execute_result",
     "data": {
      "text/plain": [
       "<matplotlib.axes._subplots.AxesSubplot at 0x2075a7351f0>"
      ]
     },
     "metadata": {},
     "execution_count": 178
    },
    {
     "output_type": "display_data",
     "data": {
      "text/plain": "<Figure size 432x288 with 1 Axes>",
      "image/svg+xml": "<?xml version=\"1.0\" encoding=\"utf-8\" standalone=\"no\"?>\r\n<!DOCTYPE svg PUBLIC \"-//W3C//DTD SVG 1.1//EN\"\r\n  \"http://www.w3.org/Graphics/SVG/1.1/DTD/svg11.dtd\">\r\n<!-- Created with matplotlib (https://matplotlib.org/) -->\r\n<svg height=\"248.518125pt\" version=\"1.1\" viewBox=\"0 0 384.620312 248.518125\" width=\"384.620312pt\" xmlns=\"http://www.w3.org/2000/svg\" xmlns:xlink=\"http://www.w3.org/1999/xlink\">\r\n <defs>\r\n  <style type=\"text/css\">\r\n*{stroke-linecap:butt;stroke-linejoin:round;}\r\n  </style>\r\n </defs>\r\n <g id=\"figure_1\">\r\n  <g id=\"patch_1\">\r\n   <path d=\"M 0 248.518125 \r\nL 384.620312 248.518125 \r\nL 384.620312 0 \r\nL 0 0 \r\nz\r\n\" style=\"fill:none;\"/>\r\n  </g>\r\n  <g id=\"axes_1\">\r\n   <g id=\"patch_2\">\r\n    <path d=\"M 42.620313 224.64 \r\nL 377.420313 224.64 \r\nL 377.420313 7.2 \r\nL 42.620313 7.2 \r\nz\r\n\" style=\"fill:#ffffff;\"/>\r\n   </g>\r\n   <g id=\"PathCollection_1\">\r\n    <defs>\r\n     <path d=\"M 0 3 \r\nC 0.795609 3 1.55874 2.683901 2.12132 2.12132 \r\nC 2.683901 1.55874 3 0.795609 3 0 \r\nC 3 -0.795609 2.683901 -1.55874 2.12132 -2.12132 \r\nC 1.55874 -2.683901 0.795609 -3 0 -3 \r\nC -0.795609 -3 -1.55874 -2.683901 -2.12132 -2.12132 \r\nC -2.683901 -1.55874 -3 -0.795609 -3 0 \r\nC -3 0.795609 -2.683901 1.55874 -2.12132 2.12132 \r\nC -1.55874 2.683901 -0.795609 3 0 3 \r\nz\r\n\" id=\"m856c042f7a\" style=\"stroke:#ffffff;stroke-width:0.75;\"/>\r\n    </defs>\r\n    <g clip-path=\"url(#pc4470c09ec)\">\r\n     <use style=\"fill:#1f77b4;stroke:#ffffff;stroke-width:0.75;\" x=\"362.202131\" xlink:href=\"#m856c042f7a\" y=\"149.536388\"/>\r\n     <use style=\"fill:#1f77b4;stroke:#ffffff;stroke-width:0.75;\" x=\"93.203913\" xlink:href=\"#m856c042f7a\" y=\"162.632664\"/>\r\n     <use style=\"fill:#1f77b4;stroke:#ffffff;stroke-width:0.75;\" x=\"133.05802\" xlink:href=\"#m856c042f7a\" y=\"92.391746\"/>\r\n     <use style=\"fill:#1f77b4;stroke:#ffffff;stroke-width:0.75;\" x=\"151.93577\" xlink:href=\"#m856c042f7a\" y=\"171.236547\"/>\r\n     <use style=\"fill:#1f77b4;stroke:#ffffff;stroke-width:0.75;\" x=\"200.662216\" xlink:href=\"#m856c042f7a\" y=\"141.471761\"/>\r\n     <use style=\"fill:#1f77b4;stroke:#ffffff;stroke-width:0.75;\" x=\"133.05802\" xlink:href=\"#m856c042f7a\" y=\"101.802243\"/>\r\n     <use style=\"fill:#1f77b4;stroke:#ffffff;stroke-width:0.75;\" x=\"200.662216\" xlink:href=\"#m856c042f7a\" y=\"157.155924\"/>\r\n     <use style=\"fill:#1f77b4;stroke:#ffffff;stroke-width:0.75;\" x=\"93.203913\" xlink:href=\"#m856c042f7a\" y=\"140.674836\"/>\r\n     <use style=\"fill:#1f77b4;stroke:#ffffff;stroke-width:0.75;\" x=\"274.599041\" xlink:href=\"#m856c042f7a\" y=\"214.756364\"/>\r\n     <use style=\"fill:#1f77b4;stroke:#ffffff;stroke-width:0.75;\" x=\"200.662216\" xlink:href=\"#m856c042f7a\" y=\"172.840086\"/>\r\n     <use style=\"fill:#1f77b4;stroke:#ffffff;stroke-width:0.75;\" x=\"200.662216\" xlink:href=\"#m856c042f7a\" y=\"123.905499\"/>\r\n     <use style=\"fill:#1f77b4;stroke:#ffffff;stroke-width:0.75;\" x=\"362.202131\" xlink:href=\"#m856c042f7a\" y=\"146.399556\"/>\r\n     <use style=\"fill:#1f77b4;stroke:#ffffff;stroke-width:0.75;\" x=\"151.93577\" xlink:href=\"#m856c042f7a\" y=\"171.236547\"/>\r\n     <use style=\"fill:#1f77b4;stroke:#ffffff;stroke-width:0.75;\" x=\"102.447148\" xlink:href=\"#m856c042f7a\" y=\"117.291176\"/>\r\n     <use style=\"fill:#1f77b4;stroke:#ffffff;stroke-width:0.75;\" x=\"362.202131\" xlink:href=\"#m856c042f7a\" y=\"98.406019\"/>\r\n     <use style=\"fill:#1f77b4;stroke:#ffffff;stroke-width:0.75;\" x=\"200.662216\" xlink:href=\"#m856c042f7a\" y=\"128.297065\"/>\r\n     <use style=\"fill:#1f77b4;stroke:#ffffff;stroke-width:0.75;\" x=\"200.662216\" xlink:href=\"#m856c042f7a\" y=\"125.787599\"/>\r\n     <use style=\"fill:#1f77b4;stroke:#ffffff;stroke-width:0.75;\" x=\"173.306587\" xlink:href=\"#m856c042f7a\" y=\"178.818719\"/>\r\n     <use style=\"fill:#1f77b4;stroke:#ffffff;stroke-width:0.75;\" x=\"151.93577\" xlink:href=\"#m856c042f7a\" y=\"184.411244\"/>\r\n     <use style=\"fill:#1f77b4;stroke:#ffffff;stroke-width:0.75;\" x=\"174.748408\" xlink:href=\"#m856c042f7a\" y=\"145.13879\"/>\r\n     <use style=\"fill:#1f77b4;stroke:#ffffff;stroke-width:0.75;\" x=\"200.662216\" xlink:href=\"#m856c042f7a\" y=\"94.419274\"/>\r\n     <use style=\"fill:#1f77b4;stroke:#ffffff;stroke-width:0.75;\" x=\"133.05802\" xlink:href=\"#m856c042f7a\" y=\"117.486405\"/>\r\n     <use style=\"fill:#1f77b4;stroke:#ffffff;stroke-width:0.75;\" x=\"173.306587\" xlink:href=\"#m856c042f7a\" y=\"132.393599\"/>\r\n     <use style=\"fill:#1f77b4;stroke:#ffffff;stroke-width:0.75;\" x=\"200.662216\" xlink:href=\"#m856c042f7a\" y=\"204.208411\"/>\r\n     <use style=\"fill:#1f77b4;stroke:#ffffff;stroke-width:0.75;\" x=\"362.202131\" xlink:href=\"#m856c042f7a\" y=\"70.801893\"/>\r\n     <use style=\"fill:#1f77b4;stroke:#ffffff;stroke-width:0.75;\" x=\"220.077353\" xlink:href=\"#m856c042f7a\" y=\"148.360076\"/>\r\n     <use style=\"fill:#1f77b4;stroke:#ffffff;stroke-width:0.75;\" x=\"133.05802\" xlink:href=\"#m856c042f7a\" y=\"117.486405\"/>\r\n     <use style=\"fill:#1f77b4;stroke:#ffffff;stroke-width:0.75;\" x=\"58.133206\" xlink:href=\"#m856c042f7a\" y=\"169.324573\"/>\r\n     <use style=\"fill:#1f77b4;stroke:#ffffff;stroke-width:0.75;\" x=\"93.203913\" xlink:href=\"#m856c042f7a\" y=\"150.399017\"/>\r\n     <use style=\"fill:#1f77b4;stroke:#ffffff;stroke-width:0.75;\" x=\"167.250259\" xlink:href=\"#m856c042f7a\" y=\"126.480669\"/>\r\n     <use style=\"fill:#1f77b4;stroke:#ffffff;stroke-width:0.75;\" x=\"200.662216\" xlink:href=\"#m856c042f7a\" y=\"142.099128\"/>\r\n     <use style=\"fill:#1f77b4;stroke:#ffffff;stroke-width:0.75;\" x=\"174.748408\" xlink:href=\"#m856c042f7a\" y=\"93.694738\"/>\r\n     <use style=\"fill:#1f77b4;stroke:#ffffff;stroke-width:0.75;\" x=\"133.05802\" xlink:href=\"#m856c042f7a\" y=\"124.70112\"/>\r\n     <use style=\"fill:#1f77b4;stroke:#ffffff;stroke-width:0.75;\" x=\"200.662216\" xlink:href=\"#m856c042f7a\" y=\"116.377101\"/>\r\n     <use style=\"fill:#1f77b4;stroke:#ffffff;stroke-width:0.75;\" x=\"93.203913\" xlink:href=\"#m856c042f7a\" y=\"173.925261\"/>\r\n     <use style=\"fill:#1f77b4;stroke:#ffffff;stroke-width:0.75;\" x=\"274.599041\" xlink:href=\"#m856c042f7a\" y=\"142.9229\"/>\r\n     <use style=\"fill:#1f77b4;stroke:#ffffff;stroke-width:0.75;\" x=\"93.203913\" xlink:href=\"#m856c042f7a\" y=\"157.927415\"/>\r\n     <use style=\"fill:#1f77b4;stroke:#ffffff;stroke-width:0.75;\" x=\"200.662216\" xlink:href=\"#m856c042f7a\" y=\"141.471761\"/>\r\n     <use style=\"fill:#1f77b4;stroke:#ffffff;stroke-width:0.75;\" x=\"200.662216\" xlink:href=\"#m856c042f7a\" y=\"123.278133\"/>\r\n     <use style=\"fill:#1f77b4;stroke:#ffffff;stroke-width:0.75;\" x=\"102.447148\" xlink:href=\"#m856c042f7a\" y=\"122.310108\"/>\r\n     <use style=\"fill:#1f77b4;stroke:#ffffff;stroke-width:0.75;\" x=\"92.418015\" xlink:href=\"#m856c042f7a\" y=\"134.436025\"/>\r\n     <use style=\"fill:#1f77b4;stroke:#ffffff;stroke-width:0.75;\" x=\"58.133206\" xlink:href=\"#m856c042f7a\" y=\"161.482492\"/>\r\n     <use style=\"fill:#1f77b4;stroke:#ffffff;stroke-width:0.75;\" x=\"200.662216\" xlink:href=\"#m856c042f7a\" y=\"188.210565\"/>\r\n     <use style=\"fill:#1f77b4;stroke:#ffffff;stroke-width:0.75;\" x=\"321.310865\" xlink:href=\"#m856c042f7a\" y=\"168.592646\"/>\r\n     <use style=\"fill:#1f77b4;stroke:#ffffff;stroke-width:0.75;\" x=\"151.93577\" xlink:href=\"#m856c042f7a\" y=\"137.986123\"/>\r\n     <use style=\"fill:#1f77b4;stroke:#ffffff;stroke-width:0.75;\" x=\"151.93577\" xlink:href=\"#m856c042f7a\" y=\"171.236547\"/>\r\n     <use style=\"fill:#1f77b4;stroke:#ffffff;stroke-width:0.75;\" x=\"321.310865\" xlink:href=\"#m856c042f7a\" y=\"90.171833\"/>\r\n     <use style=\"fill:#1f77b4;stroke:#ffffff;stroke-width:0.75;\" x=\"255.332255\" xlink:href=\"#m856c042f7a\" y=\"122.912522\"/>\r\n     <use style=\"fill:#1f77b4;stroke:#ffffff;stroke-width:0.75;\" x=\"57.838494\" xlink:href=\"#m856c042f7a\" y=\"17.083636\"/>\r\n    </g>\r\n   </g>\r\n   <g id=\"matplotlib.axis_1\">\r\n    <g id=\"xtick_1\">\r\n     <g id=\"line2d_1\">\r\n      <defs>\r\n       <path d=\"M 0 0 \r\nL 0 3.5 \r\n\" id=\"mb69f880807\" style=\"stroke:#000000;stroke-width:0.8;\"/>\r\n      </defs>\r\n      <g>\r\n       <use style=\"stroke:#000000;stroke-width:0.8;\" x=\"57.838494\" xlink:href=\"#mb69f880807\" y=\"224.64\"/>\r\n      </g>\r\n     </g>\r\n     <g id=\"text_1\">\r\n      <!-- 1.5 -->\r\n      <defs>\r\n       <path d=\"M 12.40625 8.296875 \r\nL 28.515625 8.296875 \r\nL 28.515625 63.921875 \r\nL 10.984375 60.40625 \r\nL 10.984375 69.390625 \r\nL 28.421875 72.90625 \r\nL 38.28125 72.90625 \r\nL 38.28125 8.296875 \r\nL 54.390625 8.296875 \r\nL 54.390625 0 \r\nL 12.40625 0 \r\nz\r\n\" id=\"DejaVuSans-49\"/>\r\n       <path d=\"M 10.6875 12.40625 \r\nL 21 12.40625 \r\nL 21 0 \r\nL 10.6875 0 \r\nz\r\n\" id=\"DejaVuSans-46\"/>\r\n       <path d=\"M 10.796875 72.90625 \r\nL 49.515625 72.90625 \r\nL 49.515625 64.59375 \r\nL 19.828125 64.59375 \r\nL 19.828125 46.734375 \r\nQ 21.96875 47.46875 24.109375 47.828125 \r\nQ 26.265625 48.1875 28.421875 48.1875 \r\nQ 40.625 48.1875 47.75 41.5 \r\nQ 54.890625 34.8125 54.890625 23.390625 \r\nQ 54.890625 11.625 47.5625 5.09375 \r\nQ 40.234375 -1.421875 26.90625 -1.421875 \r\nQ 22.3125 -1.421875 17.546875 -0.640625 \r\nQ 12.796875 0.140625 7.71875 1.703125 \r\nL 7.71875 11.625 \r\nQ 12.109375 9.234375 16.796875 8.0625 \r\nQ 21.484375 6.890625 26.703125 6.890625 \r\nQ 35.15625 6.890625 40.078125 11.328125 \r\nQ 45.015625 15.765625 45.015625 23.390625 \r\nQ 45.015625 31 40.078125 35.4375 \r\nQ 35.15625 39.890625 26.703125 39.890625 \r\nQ 22.75 39.890625 18.8125 39.015625 \r\nQ 14.890625 38.140625 10.796875 36.28125 \r\nz\r\n\" id=\"DejaVuSans-53\"/>\r\n      </defs>\r\n      <g transform=\"translate(49.886932 239.238437)scale(0.1 -0.1)\">\r\n       <use xlink:href=\"#DejaVuSans-49\"/>\r\n       <use x=\"63.623047\" xlink:href=\"#DejaVuSans-46\"/>\r\n       <use x=\"95.410156\" xlink:href=\"#DejaVuSans-53\"/>\r\n      </g>\r\n     </g>\r\n    </g>\r\n    <g id=\"xtick_2\">\r\n     <g id=\"line2d_2\">\r\n      <g>\r\n       <use style=\"stroke:#000000;stroke-width:0.8;\" x=\"102.045268\" xlink:href=\"#mb69f880807\" y=\"224.64\"/>\r\n      </g>\r\n     </g>\r\n     <g id=\"text_2\">\r\n      <!-- 2.0 -->\r\n      <defs>\r\n       <path d=\"M 19.1875 8.296875 \r\nL 53.609375 8.296875 \r\nL 53.609375 0 \r\nL 7.328125 0 \r\nL 7.328125 8.296875 \r\nQ 12.9375 14.109375 22.625 23.890625 \r\nQ 32.328125 33.6875 34.8125 36.53125 \r\nQ 39.546875 41.84375 41.421875 45.53125 \r\nQ 43.3125 49.21875 43.3125 52.78125 \r\nQ 43.3125 58.59375 39.234375 62.25 \r\nQ 35.15625 65.921875 28.609375 65.921875 \r\nQ 23.96875 65.921875 18.8125 64.3125 \r\nQ 13.671875 62.703125 7.8125 59.421875 \r\nL 7.8125 69.390625 \r\nQ 13.765625 71.78125 18.9375 73 \r\nQ 24.125 74.21875 28.421875 74.21875 \r\nQ 39.75 74.21875 46.484375 68.546875 \r\nQ 53.21875 62.890625 53.21875 53.421875 \r\nQ 53.21875 48.921875 51.53125 44.890625 \r\nQ 49.859375 40.875 45.40625 35.40625 \r\nQ 44.1875 33.984375 37.640625 27.21875 \r\nQ 31.109375 20.453125 19.1875 8.296875 \r\nz\r\n\" id=\"DejaVuSans-50\"/>\r\n       <path d=\"M 31.78125 66.40625 \r\nQ 24.171875 66.40625 20.328125 58.90625 \r\nQ 16.5 51.421875 16.5 36.375 \r\nQ 16.5 21.390625 20.328125 13.890625 \r\nQ 24.171875 6.390625 31.78125 6.390625 \r\nQ 39.453125 6.390625 43.28125 13.890625 \r\nQ 47.125 21.390625 47.125 36.375 \r\nQ 47.125 51.421875 43.28125 58.90625 \r\nQ 39.453125 66.40625 31.78125 66.40625 \r\nz\r\nM 31.78125 74.21875 \r\nQ 44.046875 74.21875 50.515625 64.515625 \r\nQ 56.984375 54.828125 56.984375 36.375 \r\nQ 56.984375 17.96875 50.515625 8.265625 \r\nQ 44.046875 -1.421875 31.78125 -1.421875 \r\nQ 19.53125 -1.421875 13.0625 8.265625 \r\nQ 6.59375 17.96875 6.59375 36.375 \r\nQ 6.59375 54.828125 13.0625 64.515625 \r\nQ 19.53125 74.21875 31.78125 74.21875 \r\nz\r\n\" id=\"DejaVuSans-48\"/>\r\n      </defs>\r\n      <g transform=\"translate(94.093705 239.238437)scale(0.1 -0.1)\">\r\n       <use xlink:href=\"#DejaVuSans-50\"/>\r\n       <use x=\"63.623047\" xlink:href=\"#DejaVuSans-46\"/>\r\n       <use x=\"95.410156\" xlink:href=\"#DejaVuSans-48\"/>\r\n      </g>\r\n     </g>\r\n    </g>\r\n    <g id=\"xtick_3\">\r\n     <g id=\"line2d_3\">\r\n      <g>\r\n       <use style=\"stroke:#000000;stroke-width:0.8;\" x=\"146.252042\" xlink:href=\"#mb69f880807\" y=\"224.64\"/>\r\n      </g>\r\n     </g>\r\n     <g id=\"text_3\">\r\n      <!-- 2.5 -->\r\n      <g transform=\"translate(138.300479 239.238437)scale(0.1 -0.1)\">\r\n       <use xlink:href=\"#DejaVuSans-50\"/>\r\n       <use x=\"63.623047\" xlink:href=\"#DejaVuSans-46\"/>\r\n       <use x=\"95.410156\" xlink:href=\"#DejaVuSans-53\"/>\r\n      </g>\r\n     </g>\r\n    </g>\r\n    <g id=\"xtick_4\">\r\n     <g id=\"line2d_4\">\r\n      <g>\r\n       <use style=\"stroke:#000000;stroke-width:0.8;\" x=\"190.458815\" xlink:href=\"#mb69f880807\" y=\"224.64\"/>\r\n      </g>\r\n     </g>\r\n     <g id=\"text_4\">\r\n      <!-- 3.0 -->\r\n      <defs>\r\n       <path d=\"M 40.578125 39.3125 \r\nQ 47.65625 37.796875 51.625 33 \r\nQ 55.609375 28.21875 55.609375 21.1875 \r\nQ 55.609375 10.40625 48.1875 4.484375 \r\nQ 40.765625 -1.421875 27.09375 -1.421875 \r\nQ 22.515625 -1.421875 17.65625 -0.515625 \r\nQ 12.796875 0.390625 7.625 2.203125 \r\nL 7.625 11.71875 \r\nQ 11.71875 9.328125 16.59375 8.109375 \r\nQ 21.484375 6.890625 26.8125 6.890625 \r\nQ 36.078125 6.890625 40.9375 10.546875 \r\nQ 45.796875 14.203125 45.796875 21.1875 \r\nQ 45.796875 27.640625 41.28125 31.265625 \r\nQ 36.765625 34.90625 28.71875 34.90625 \r\nL 20.21875 34.90625 \r\nL 20.21875 43.015625 \r\nL 29.109375 43.015625 \r\nQ 36.375 43.015625 40.234375 45.921875 \r\nQ 44.09375 48.828125 44.09375 54.296875 \r\nQ 44.09375 59.90625 40.109375 62.90625 \r\nQ 36.140625 65.921875 28.71875 65.921875 \r\nQ 24.65625 65.921875 20.015625 65.03125 \r\nQ 15.375 64.15625 9.8125 62.3125 \r\nL 9.8125 71.09375 \r\nQ 15.4375 72.65625 20.34375 73.4375 \r\nQ 25.25 74.21875 29.59375 74.21875 \r\nQ 40.828125 74.21875 47.359375 69.109375 \r\nQ 53.90625 64.015625 53.90625 55.328125 \r\nQ 53.90625 49.265625 50.4375 45.09375 \r\nQ 46.96875 40.921875 40.578125 39.3125 \r\nz\r\n\" id=\"DejaVuSans-51\"/>\r\n      </defs>\r\n      <g transform=\"translate(182.507253 239.238437)scale(0.1 -0.1)\">\r\n       <use xlink:href=\"#DejaVuSans-51\"/>\r\n       <use x=\"63.623047\" xlink:href=\"#DejaVuSans-46\"/>\r\n       <use x=\"95.410156\" xlink:href=\"#DejaVuSans-48\"/>\r\n      </g>\r\n     </g>\r\n    </g>\r\n    <g id=\"xtick_5\">\r\n     <g id=\"line2d_5\">\r\n      <g>\r\n       <use style=\"stroke:#000000;stroke-width:0.8;\" x=\"234.665589\" xlink:href=\"#mb69f880807\" y=\"224.64\"/>\r\n      </g>\r\n     </g>\r\n     <g id=\"text_5\">\r\n      <!-- 3.5 -->\r\n      <g transform=\"translate(226.714026 239.238437)scale(0.1 -0.1)\">\r\n       <use xlink:href=\"#DejaVuSans-51\"/>\r\n       <use x=\"63.623047\" xlink:href=\"#DejaVuSans-46\"/>\r\n       <use x=\"95.410156\" xlink:href=\"#DejaVuSans-53\"/>\r\n      </g>\r\n     </g>\r\n    </g>\r\n    <g id=\"xtick_6\">\r\n     <g id=\"line2d_6\">\r\n      <g>\r\n       <use style=\"stroke:#000000;stroke-width:0.8;\" x=\"278.872362\" xlink:href=\"#mb69f880807\" y=\"224.64\"/>\r\n      </g>\r\n     </g>\r\n     <g id=\"text_6\">\r\n      <!-- 4.0 -->\r\n      <defs>\r\n       <path d=\"M 37.796875 64.3125 \r\nL 12.890625 25.390625 \r\nL 37.796875 25.390625 \r\nz\r\nM 35.203125 72.90625 \r\nL 47.609375 72.90625 \r\nL 47.609375 25.390625 \r\nL 58.015625 25.390625 \r\nL 58.015625 17.1875 \r\nL 47.609375 17.1875 \r\nL 47.609375 0 \r\nL 37.796875 0 \r\nL 37.796875 17.1875 \r\nL 4.890625 17.1875 \r\nL 4.890625 26.703125 \r\nz\r\n\" id=\"DejaVuSans-52\"/>\r\n      </defs>\r\n      <g transform=\"translate(270.9208 239.238437)scale(0.1 -0.1)\">\r\n       <use xlink:href=\"#DejaVuSans-52\"/>\r\n       <use x=\"63.623047\" xlink:href=\"#DejaVuSans-46\"/>\r\n       <use x=\"95.410156\" xlink:href=\"#DejaVuSans-48\"/>\r\n      </g>\r\n     </g>\r\n    </g>\r\n    <g id=\"xtick_7\">\r\n     <g id=\"line2d_7\">\r\n      <g>\r\n       <use style=\"stroke:#000000;stroke-width:0.8;\" x=\"323.079136\" xlink:href=\"#mb69f880807\" y=\"224.64\"/>\r\n      </g>\r\n     </g>\r\n     <g id=\"text_7\">\r\n      <!-- 4.5 -->\r\n      <g transform=\"translate(315.127574 239.238437)scale(0.1 -0.1)\">\r\n       <use xlink:href=\"#DejaVuSans-52\"/>\r\n       <use x=\"63.623047\" xlink:href=\"#DejaVuSans-46\"/>\r\n       <use x=\"95.410156\" xlink:href=\"#DejaVuSans-53\"/>\r\n      </g>\r\n     </g>\r\n    </g>\r\n    <g id=\"xtick_8\">\r\n     <g id=\"line2d_8\">\r\n      <g>\r\n       <use style=\"stroke:#000000;stroke-width:0.8;\" x=\"367.28591\" xlink:href=\"#mb69f880807\" y=\"224.64\"/>\r\n      </g>\r\n     </g>\r\n     <g id=\"text_8\">\r\n      <!-- 5.0 -->\r\n      <g transform=\"translate(359.334347 239.238437)scale(0.1 -0.1)\">\r\n       <use xlink:href=\"#DejaVuSans-53\"/>\r\n       <use x=\"63.623047\" xlink:href=\"#DejaVuSans-46\"/>\r\n       <use x=\"95.410156\" xlink:href=\"#DejaVuSans-48\"/>\r\n      </g>\r\n     </g>\r\n    </g>\r\n   </g>\r\n   <g id=\"matplotlib.axis_2\">\r\n    <g id=\"ytick_1\">\r\n     <g id=\"line2d_9\">\r\n      <defs>\r\n       <path d=\"M 0 0 \r\nL -3.5 0 \r\n\" id=\"mb7bd9a16c8\" style=\"stroke:#000000;stroke-width:0.8;\"/>\r\n      </defs>\r\n      <g>\r\n       <use style=\"stroke:#000000;stroke-width:0.8;\" x=\"42.620313\" xlink:href=\"#mb7bd9a16c8\" y=\"216.272499\"/>\r\n      </g>\r\n     </g>\r\n     <g id=\"text_9\">\r\n      <!-- −2 -->\r\n      <defs>\r\n       <path d=\"M 10.59375 35.5 \r\nL 73.1875 35.5 \r\nL 73.1875 27.203125 \r\nL 10.59375 27.203125 \r\nz\r\n\" id=\"DejaVuSans-8722\"/>\r\n      </defs>\r\n      <g transform=\"translate(20.878125 220.071718)scale(0.1 -0.1)\">\r\n       <use xlink:href=\"#DejaVuSans-8722\"/>\r\n       <use x=\"83.789062\" xlink:href=\"#DejaVuSans-50\"/>\r\n      </g>\r\n     </g>\r\n    </g>\r\n    <g id=\"ytick_2\">\r\n     <g id=\"line2d_10\">\r\n      <g>\r\n       <use style=\"stroke:#000000;stroke-width:0.8;\" x=\"42.620313\" xlink:href=\"#mb7bd9a16c8\" y=\"184.904174\"/>\r\n      </g>\r\n     </g>\r\n     <g id=\"text_10\">\r\n      <!-- −1 -->\r\n      <g transform=\"translate(20.878125 188.703393)scale(0.1 -0.1)\">\r\n       <use xlink:href=\"#DejaVuSans-8722\"/>\r\n       <use x=\"83.789062\" xlink:href=\"#DejaVuSans-49\"/>\r\n      </g>\r\n     </g>\r\n    </g>\r\n    <g id=\"ytick_3\">\r\n     <g id=\"line2d_11\">\r\n      <g>\r\n       <use style=\"stroke:#000000;stroke-width:0.8;\" x=\"42.620313\" xlink:href=\"#mb7bd9a16c8\" y=\"153.53585\"/>\r\n      </g>\r\n     </g>\r\n     <g id=\"text_11\">\r\n      <!-- 0 -->\r\n      <g transform=\"translate(29.257813 157.335068)scale(0.1 -0.1)\">\r\n       <use xlink:href=\"#DejaVuSans-48\"/>\r\n      </g>\r\n     </g>\r\n    </g>\r\n    <g id=\"ytick_4\">\r\n     <g id=\"line2d_12\">\r\n      <g>\r\n       <use style=\"stroke:#000000;stroke-width:0.8;\" x=\"42.620313\" xlink:href=\"#mb7bd9a16c8\" y=\"122.167525\"/>\r\n      </g>\r\n     </g>\r\n     <g id=\"text_12\">\r\n      <!-- 1 -->\r\n      <g transform=\"translate(29.257813 125.966743)scale(0.1 -0.1)\">\r\n       <use xlink:href=\"#DejaVuSans-49\"/>\r\n      </g>\r\n     </g>\r\n    </g>\r\n    <g id=\"ytick_5\">\r\n     <g id=\"line2d_13\">\r\n      <g>\r\n       <use style=\"stroke:#000000;stroke-width:0.8;\" x=\"42.620313\" xlink:href=\"#mb7bd9a16c8\" y=\"90.7992\"/>\r\n      </g>\r\n     </g>\r\n     <g id=\"text_13\">\r\n      <!-- 2 -->\r\n      <g transform=\"translate(29.257813 94.598419)scale(0.1 -0.1)\">\r\n       <use xlink:href=\"#DejaVuSans-50\"/>\r\n      </g>\r\n     </g>\r\n    </g>\r\n    <g id=\"ytick_6\">\r\n     <g id=\"line2d_14\">\r\n      <g>\r\n       <use style=\"stroke:#000000;stroke-width:0.8;\" x=\"42.620313\" xlink:href=\"#mb7bd9a16c8\" y=\"59.430875\"/>\r\n      </g>\r\n     </g>\r\n     <g id=\"text_14\">\r\n      <!-- 3 -->\r\n      <g transform=\"translate(29.257813 63.230094)scale(0.1 -0.1)\">\r\n       <use xlink:href=\"#DejaVuSans-51\"/>\r\n      </g>\r\n     </g>\r\n    </g>\r\n    <g id=\"ytick_7\">\r\n     <g id=\"line2d_15\">\r\n      <g>\r\n       <use style=\"stroke:#000000;stroke-width:0.8;\" x=\"42.620313\" xlink:href=\"#mb7bd9a16c8\" y=\"28.06255\"/>\r\n      </g>\r\n     </g>\r\n     <g id=\"text_15\">\r\n      <!-- 4 -->\r\n      <g transform=\"translate(29.257813 31.861769)scale(0.1 -0.1)\">\r\n       <use xlink:href=\"#DejaVuSans-52\"/>\r\n      </g>\r\n     </g>\r\n    </g>\r\n    <g id=\"text_16\">\r\n     <!-- tip -->\r\n     <defs>\r\n      <path d=\"M 18.3125 70.21875 \r\nL 18.3125 54.6875 \r\nL 36.8125 54.6875 \r\nL 36.8125 47.703125 \r\nL 18.3125 47.703125 \r\nL 18.3125 18.015625 \r\nQ 18.3125 11.328125 20.140625 9.421875 \r\nQ 21.96875 7.515625 27.59375 7.515625 \r\nL 36.8125 7.515625 \r\nL 36.8125 0 \r\nL 27.59375 0 \r\nQ 17.1875 0 13.234375 3.875 \r\nQ 9.28125 7.765625 9.28125 18.015625 \r\nL 9.28125 47.703125 \r\nL 2.6875 47.703125 \r\nL 2.6875 54.6875 \r\nL 9.28125 54.6875 \r\nL 9.28125 70.21875 \r\nz\r\n\" id=\"DejaVuSans-116\"/>\r\n      <path d=\"M 9.421875 54.6875 \r\nL 18.40625 54.6875 \r\nL 18.40625 0 \r\nL 9.421875 0 \r\nz\r\nM 9.421875 75.984375 \r\nL 18.40625 75.984375 \r\nL 18.40625 64.59375 \r\nL 9.421875 64.59375 \r\nz\r\n\" id=\"DejaVuSans-105\"/>\r\n      <path d=\"M 18.109375 8.203125 \r\nL 18.109375 -20.796875 \r\nL 9.078125 -20.796875 \r\nL 9.078125 54.6875 \r\nL 18.109375 54.6875 \r\nL 18.109375 46.390625 \r\nQ 20.953125 51.265625 25.265625 53.625 \r\nQ 29.59375 56 35.59375 56 \r\nQ 45.5625 56 51.78125 48.09375 \r\nQ 58.015625 40.1875 58.015625 27.296875 \r\nQ 58.015625 14.40625 51.78125 6.484375 \r\nQ 45.5625 -1.421875 35.59375 -1.421875 \r\nQ 29.59375 -1.421875 25.265625 0.953125 \r\nQ 20.953125 3.328125 18.109375 8.203125 \r\nz\r\nM 48.6875 27.296875 \r\nQ 48.6875 37.203125 44.609375 42.84375 \r\nQ 40.53125 48.484375 33.40625 48.484375 \r\nQ 26.265625 48.484375 22.1875 42.84375 \r\nQ 18.109375 37.203125 18.109375 27.296875 \r\nQ 18.109375 17.390625 22.1875 11.75 \r\nQ 26.265625 6.109375 33.40625 6.109375 \r\nQ 40.53125 6.109375 44.609375 11.75 \r\nQ 48.6875 17.390625 48.6875 27.296875 \r\nz\r\n\" id=\"DejaVuSans-112\"/>\r\n     </defs>\r\n     <g transform=\"translate(14.798438 122.443437)rotate(-90)scale(0.1 -0.1)\">\r\n      <use xlink:href=\"#DejaVuSans-116\"/>\r\n      <use x=\"39.208984\" xlink:href=\"#DejaVuSans-105\"/>\r\n      <use x=\"66.992188\" xlink:href=\"#DejaVuSans-112\"/>\r\n     </g>\r\n    </g>\r\n   </g>\r\n   <g id=\"patch_3\">\r\n    <path d=\"M 42.620313 224.64 \r\nL 42.620313 7.2 \r\n\" style=\"fill:none;stroke:#000000;stroke-linecap:square;stroke-linejoin:miter;stroke-width:0.8;\"/>\r\n   </g>\r\n   <g id=\"patch_4\">\r\n    <path d=\"M 377.420313 224.64 \r\nL 377.420313 7.2 \r\n\" style=\"fill:none;stroke:#000000;stroke-linecap:square;stroke-linejoin:miter;stroke-width:0.8;\"/>\r\n   </g>\r\n   <g id=\"patch_5\">\r\n    <path d=\"M 42.620312 224.64 \r\nL 377.420313 224.64 \r\n\" style=\"fill:none;stroke:#000000;stroke-linecap:square;stroke-linejoin:miter;stroke-width:0.8;\"/>\r\n   </g>\r\n   <g id=\"patch_6\">\r\n    <path d=\"M 42.620312 7.2 \r\nL 377.420313 7.2 \r\n\" style=\"fill:none;stroke:#000000;stroke-linecap:square;stroke-linejoin:miter;stroke-width:0.8;\"/>\r\n   </g>\r\n  </g>\r\n </g>\r\n <defs>\r\n  <clipPath id=\"pc4470c09ec\">\r\n   <rect height=\"217.44\" width=\"334.8\" x=\"42.620313\" y=\"7.2\"/>\r\n  </clipPath>\r\n </defs>\r\n</svg>\r\n",
      "image/png": "[encoded data removed]"
     },
     "metadata": {
      "needs_background": "light"
     }
    }
   ],
   "source": [
    "residuals= y_test-y_pred\n",
    "sns.scatterplot(y_pred,residuals)"
   ]
  },
  {
   "source": [
    "## Hyperparameter Tunning with Randomized Search "
   ],
   "cell_type": "markdown",
   "metadata": {}
  },
  {
   "cell_type": "code",
   "execution_count": 179,
   "metadata": {},
   "outputs": [],
   "source": [
    "import matplotlib.pyplot as plt\n",
    "from sklearn.model_selection import RandomizedSearchCV"
   ]
  },
  {
   "cell_type": "code",
   "execution_count": 180,
   "metadata": {},
   "outputs": [],
   "source": [
    "hyperparam_space={\n",
    "    'tree__min_samples_leaf':[1,5,10,15,20,50],\n",
    "    'tree__max_depth':[2,3,4,5,6,7],\n",
    "    'tree__criterion':['mse','mae']\n",
    "                    }"
   ]
  },
  {
   "cell_type": "code",
   "execution_count": 181,
   "metadata": {},
   "outputs": [],
   "source": [
    "tree= DecisionTreeRegressor(max_depth=5, random_state=2020)\n",
    "tree_pipe=Pipeline([\n",
    "    ('transformer', transformer),\n",
    "    ('tree',tree)\n",
    "])"
   ]
  },
  {
   "cell_type": "code",
   "execution_count": 182,
   "metadata": {},
   "outputs": [],
   "source": [
    "random_search= RandomizedSearchCV(\n",
    "    tree_pipe, #model\n",
    "    param_distributions=hyperparam_space, #parameter yg ingin ditunning\n",
    "    n_iter=20, #berapa random parameter yang dicoba\n",
    "    cv= 5,\n",
    "    scoring='neg_mean_squared_error', #metric\n",
    "    random_state=2020,\n",
    "    n_jobs=-1\n",
    ")"
   ]
  },
  {
   "cell_type": "code",
   "execution_count": 183,
   "metadata": {},
   "outputs": [
    {
     "output_type": "execute_result",
     "data": {
      "text/plain": [
       "RandomizedSearchCV(cv=5,\n",
       "                   estimator=Pipeline(steps=[('transformer',\n",
       "                                              ColumnTransformer(remainder='passthrough',\n",
       "                                                                transformers=[('encoder',\n",
       "                                                                               OneHotEncoder(drop='first'),\n",
       "                                                                               ['sex',\n",
       "                                                                                'smoker',\n",
       "                                                                                'day',\n",
       "                                                                                'time'])])),\n",
       "                                             ('tree',\n",
       "                                              DecisionTreeRegressor(max_depth=5,\n",
       "                                                                    random_state=2020))]),\n",
       "                   n_iter=20, n_jobs=-1,\n",
       "                   param_distributions={'tree__criterion': ['mse', 'mae'],\n",
       "                                        'tree__max_depth': [2, 3, 4, 5, 6, 7],\n",
       "                                        'tree__min_samples_leaf': [1, 5, 10, 15,\n",
       "                                                                   20, 50]},\n",
       "                   random_state=2020, scoring='neg_mean_squared_error')"
      ]
     },
     "metadata": {},
     "execution_count": 183
    }
   ],
   "source": [
    "random_search.fit(X_train_val,y_train_val)"
   ]
  },
  {
   "cell_type": "code",
   "execution_count": 184,
   "metadata": {},
   "outputs": [
    {
     "output_type": "stream",
     "name": "stdout",
     "text": [
      "best score : -0.9829038972124051\nbest param:  {'tree__min_samples_leaf': 1, 'tree__max_depth': 4, 'tree__criterion': 'mse'}\n"
     ]
    }
   ],
   "source": [
    "print('best score :', random_search.best_score_)\n",
    "print('best param: ', random_search.best_params_)"
   ]
  },
  {
   "cell_type": "code",
   "execution_count": 185,
   "metadata": {},
   "outputs": [
    {
     "output_type": "execute_result",
     "data": {
      "text/plain": [
       "    mean_fit_time  std_fit_time  mean_score_time  std_score_time  \\\n",
       "0        0.032112      0.005692         0.016361        0.002403   \n",
       "1        0.023138      0.007341         0.013165        0.006321   \n",
       "2        0.022139      0.007502         0.013366        0.006723   \n",
       "3        0.033719      0.005721         0.010971        0.002527   \n",
       "4        0.027345      0.005585         0.017957        0.010701   \n",
       "5        0.030718      0.013982         0.007779        0.001466   \n",
       "6        0.025332      0.011675         0.015958        0.012504   \n",
       "7        0.024134      0.022877         0.010771        0.009596   \n",
       "8        0.025732      0.009962         0.010373        0.005300   \n",
       "9        0.020146      0.004478         0.008179        0.002986   \n",
       "10       0.017353      0.001850         0.007979        0.001262   \n",
       "11       0.034506      0.034165         0.012767        0.007761   \n",
       "12       0.019148      0.001716         0.011768        0.006598   \n",
       "13       0.020146      0.004009         0.013165        0.008112   \n",
       "14       0.017156      0.001467         0.010770        0.003301   \n",
       "15       0.014561      0.001621         0.006782        0.000977   \n",
       "16       0.018750      0.007605         0.006981        0.001263   \n",
       "17       0.024142      0.016466         0.012366        0.004704   \n",
       "18       0.020647      0.004159         0.012878        0.003184   \n",
       "19       0.021872      0.005924         0.011948        0.003692   \n",
       "\n",
       "   param_tree__min_samples_leaf param_tree__max_depth param_tree__criterion  \\\n",
       "0                             1                     2                   mae   \n",
       "1                             5                     7                   mse   \n",
       "2                             5                     4                   mse   \n",
       "3                            20                     2                   mae   \n",
       "4                             5                     2                   mae   \n",
       "5                            50                     7                   mse   \n",
       "6                             1                     4                   mse   \n",
       "7                             5                     3                   mse   \n",
       "8                            20                     4                   mae   \n",
       "9                             1                     2                   mse   \n",
       "10                           15                     3                   mae   \n",
       "11                           15                     7                   mse   \n",
       "12                           20                     7                   mse   \n",
       "13                           10                     3                   mae   \n",
       "14                           50                     5                   mae   \n",
       "15                           50                     4                   mse   \n",
       "16                           15                     6                   mse   \n",
       "17                           10                     4                   mse   \n",
       "18                           15                     5                   mae   \n",
       "19                           15                     2                   mae   \n",
       "\n",
       "                                               params  split0_test_score  \\\n",
       "0   {'tree__min_samples_leaf': 1, 'tree__max_depth...          -0.738330   \n",
       "1   {'tree__min_samples_leaf': 5, 'tree__max_depth...          -1.266981   \n",
       "2   {'tree__min_samples_leaf': 5, 'tree__max_depth...          -1.144108   \n",
       "3   {'tree__min_samples_leaf': 20, 'tree__max_dept...          -0.722048   \n",
       "4   {'tree__min_samples_leaf': 5, 'tree__max_depth...          -0.722048   \n",
       "5   {'tree__min_samples_leaf': 50, 'tree__max_dept...          -0.879731   \n",
       "6   {'tree__min_samples_leaf': 1, 'tree__max_depth...          -0.771622   \n",
       "7   {'tree__min_samples_leaf': 5, 'tree__max_depth...          -0.987999   \n",
       "8   {'tree__min_samples_leaf': 20, 'tree__max_dept...          -0.805774   \n",
       "9   {'tree__min_samples_leaf': 1, 'tree__max_depth...          -0.816130   \n",
       "10  {'tree__min_samples_leaf': 15, 'tree__max_dept...          -0.743851   \n",
       "11  {'tree__min_samples_leaf': 15, 'tree__max_dept...          -0.956966   \n",
       "12  {'tree__min_samples_leaf': 20, 'tree__max_dept...          -0.870686   \n",
       "13  {'tree__min_samples_leaf': 10, 'tree__max_dept...          -0.766951   \n",
       "14  {'tree__min_samples_leaf': 50, 'tree__max_dept...          -0.852846   \n",
       "15  {'tree__min_samples_leaf': 50, 'tree__max_dept...          -0.879731   \n",
       "16  {'tree__min_samples_leaf': 15, 'tree__max_dept...          -0.956966   \n",
       "17  {'tree__min_samples_leaf': 10, 'tree__max_dept...          -1.118471   \n",
       "18  {'tree__min_samples_leaf': 15, 'tree__max_dept...          -0.743851   \n",
       "19  {'tree__min_samples_leaf': 15, 'tree__max_dept...          -0.722048   \n",
       "\n",
       "    split1_test_score  split2_test_score  split3_test_score  \\\n",
       "0           -0.851707          -1.323954          -1.509013   \n",
       "1           -0.767827          -1.325200          -2.239966   \n",
       "2           -0.817462          -1.375826          -2.197390   \n",
       "3           -1.093600          -1.182453          -1.955167   \n",
       "4           -1.093600          -1.215538          -1.960931   \n",
       "5           -0.900169          -1.479036          -2.103678   \n",
       "6           -0.665101          -1.593723          -1.029129   \n",
       "7           -0.897975          -1.295115          -2.212884   \n",
       "8           -1.082392          -1.204603          -1.997315   \n",
       "9           -0.882642          -1.424336          -1.108872   \n",
       "10          -1.105260          -1.122205          -2.278567   \n",
       "11          -0.844012          -1.587474          -2.276566   \n",
       "12          -0.765451          -1.294051          -1.731356   \n",
       "13          -0.655642          -1.331518          -2.316210   \n",
       "14          -0.866010          -1.368379          -2.420846   \n",
       "15          -0.900169          -1.479036          -2.103678   \n",
       "16          -0.844012          -1.587474          -2.276566   \n",
       "17          -0.809894          -1.362064          -2.346144   \n",
       "18          -1.115824          -1.122205          -2.311428   \n",
       "19          -1.093600          -1.208277          -1.955167   \n",
       "\n",
       "    split4_test_score  mean_test_score  std_test_score  rank_test_score  \n",
       "0           -1.356648        -1.155931        0.303358                3  \n",
       "1           -1.472244        -1.414444        0.475952               19  \n",
       "2           -1.445703        -1.396098        0.456784               18  \n",
       "3           -1.356648        -1.261983        0.403899                6  \n",
       "4           -1.356648        -1.269753        0.404778                8  \n",
       "5           -1.437448        -1.360013        0.450628               12  \n",
       "6           -0.854944        -0.982904        0.327795                1  \n",
       "7           -1.413923        -1.361579        0.466126               14  \n",
       "8           -1.332621        -1.284541        0.396694                9  \n",
       "9           -0.924132        -1.031222        0.219261                2  \n",
       "10          -1.254818        -1.300940        0.517391               10  \n",
       "11          -1.281531        -1.389310        0.514272               16  \n",
       "12          -1.297124        -1.191733        0.345704                4  \n",
       "13          -1.005492        -1.215163        0.597288                5  \n",
       "14          -1.624323        -1.426481        0.578699               20  \n",
       "15          -1.437448        -1.360013        0.450628               12  \n",
       "16          -1.281531        -1.389310        0.514272               16  \n",
       "17          -1.278401        -1.382995        0.517194               15  \n",
       "18          -1.286546        -1.315971        0.528531               11  \n",
       "19          -1.356648        -1.267148        0.403013                7  "
      ],
      "text/html": "<div>\n<style scoped>\n    .dataframe tbody tr th:only-of-type {\n        vertical-align: middle;\n    }\n\n    .dataframe tbody tr th {\n        vertical-align: top;\n    }\n\n    .dataframe thead th {\n        text-align: right;\n    }\n</style>\n<table border=\"1\" class=\"dataframe\">\n  <thead>\n    <tr style=\"text-align: right;\">\n      <th></th>\n      <th>mean_fit_time</th>\n      <th>std_fit_time</th>\n      <th>mean_score_time</th>\n      <th>std_score_time</th>\n      <th>param_tree__min_samples_leaf</th>\n      <th>param_tree__max_depth</th>\n      <th>param_tree__criterion</th>\n      <th>params</th>\n      <th>split0_test_score</th>\n      <th>split1_test_score</th>\n      <th>split2_test_score</th>\n      <th>split3_test_score</th>\n      <th>split4_test_score</th>\n      <th>mean_test_score</th>\n      <th>std_test_score</th>\n      <th>rank_test_score</th>\n    </tr>\n  </thead>\n  <tbody>\n    <tr>\n      <th>0</th>\n      <td>0.032112</td>\n      <td>0.005692</td>\n      <td>0.016361</td>\n      <td>0.002403</td>\n      <td>1</td>\n      <td>2</td>\n      <td>mae</td>\n      <td>{'tree__min_samples_leaf': 1, 'tree__max_depth...</td>\n      <td>-0.738330</td>\n      <td>-0.851707</td>\n      <td>-1.323954</td>\n      <td>-1.509013</td>\n      <td>-1.356648</td>\n      <td>-1.155931</td>\n      <td>0.303358</td>\n      <td>3</td>\n    </tr>\n    <tr>\n      <th>1</th>\n      <td>0.023138</td>\n      <td>0.007341</td>\n      <td>0.013165</td>\n      <td>0.006321</td>\n      <td>5</td>\n      <td>7</td>\n      <td>mse</td>\n      <td>{'tree__min_samples_leaf': 5, 'tree__max_depth...</td>\n      <td>-1.266981</td>\n      <td>-0.767827</td>\n      <td>-1.325200</td>\n      <td>-2.239966</td>\n      <td>-1.472244</td>\n      <td>-1.414444</td>\n      <td>0.475952</td>\n      <td>19</td>\n    </tr>\n    <tr>\n      <th>2</th>\n      <td>0.022139</td>\n      <td>0.007502</td>\n      <td>0.013366</td>\n      <td>0.006723</td>\n      <td>5</td>\n      <td>4</td>\n      <td>mse</td>\n      <td>{'tree__min_samples_leaf': 5, 'tree__max_depth...</td>\n      <td>-1.144108</td>\n      <td>-0.817462</td>\n      <td>-1.375826</td>\n      <td>-2.197390</td>\n      <td>-1.445703</td>\n      <td>-1.396098</td>\n      <td>0.456784</td>\n      <td>18</td>\n    </tr>\n    <tr>\n      <th>3</th>\n      <td>0.033719</td>\n      <td>0.005721</td>\n      <td>0.010971</td>\n      <td>0.002527</td>\n      <td>20</td>\n      <td>2</td>\n      <td>mae</td>\n      <td>{'tree__min_samples_leaf': 20, 'tree__max_dept...</td>\n      <td>-0.722048</td>\n      <td>-1.093600</td>\n      <td>-1.182453</td>\n      <td>-1.955167</td>\n      <td>-1.356648</td>\n      <td>-1.261983</td>\n      <td>0.403899</td>\n      <td>6</td>\n    </tr>\n    <tr>\n      <th>4</th>\n      <td>0.027345</td>\n      <td>0.005585</td>\n      <td>0.017957</td>\n      <td>0.010701</td>\n      <td>5</td>\n      <td>2</td>\n      <td>mae</td>\n      <td>{'tree__min_samples_leaf': 5, 'tree__max_depth...</td>\n      <td>-0.722048</td>\n      <td>-1.093600</td>\n      <td>-1.215538</td>\n      <td>-1.960931</td>\n      <td>-1.356648</td>\n      <td>-1.269753</td>\n      <td>0.404778</td>\n      <td>8</td>\n    </tr>\n    <tr>\n      <th>5</th>\n      <td>0.030718</td>\n      <td>0.013982</td>\n      <td>0.007779</td>\n      <td>0.001466</td>\n      <td>50</td>\n      <td>7</td>\n      <td>mse</td>\n      <td>{'tree__min_samples_leaf': 50, 'tree__max_dept...</td>\n      <td>-0.879731</td>\n      <td>-0.900169</td>\n      <td>-1.479036</td>\n      <td>-2.103678</td>\n      <td>-1.437448</td>\n      <td>-1.360013</td>\n      <td>0.450628</td>\n      <td>12</td>\n    </tr>\n    <tr>\n      <th>6</th>\n      <td>0.025332</td>\n      <td>0.011675</td>\n      <td>0.015958</td>\n      <td>0.012504</td>\n      <td>1</td>\n      <td>4</td>\n      <td>mse</td>\n      <td>{'tree__min_samples_leaf': 1, 'tree__max_depth...</td>\n      <td>-0.771622</td>\n      <td>-0.665101</td>\n      <td>-1.593723</td>\n      <td>-1.029129</td>\n      <td>-0.854944</td>\n      <td>-0.982904</td>\n      <td>0.327795</td>\n      <td>1</td>\n    </tr>\n    <tr>\n      <th>7</th>\n      <td>0.024134</td>\n      <td>0.022877</td>\n      <td>0.010771</td>\n      <td>0.009596</td>\n      <td>5</td>\n      <td>3</td>\n      <td>mse</td>\n      <td>{'tree__min_samples_leaf': 5, 'tree__max_depth...</td>\n      <td>-0.987999</td>\n      <td>-0.897975</td>\n      <td>-1.295115</td>\n      <td>-2.212884</td>\n      <td>-1.413923</td>\n      <td>-1.361579</td>\n      <td>0.466126</td>\n      <td>14</td>\n    </tr>\n    <tr>\n      <th>8</th>\n      <td>0.025732</td>\n      <td>0.009962</td>\n      <td>0.010373</td>\n      <td>0.005300</td>\n      <td>20</td>\n      <td>4</td>\n      <td>mae</td>\n      <td>{'tree__min_samples_leaf': 20, 'tree__max_dept...</td>\n      <td>-0.805774</td>\n      <td>-1.082392</td>\n      <td>-1.204603</td>\n      <td>-1.997315</td>\n      <td>-1.332621</td>\n      <td>-1.284541</td>\n      <td>0.396694</td>\n      <td>9</td>\n    </tr>\n    <tr>\n      <th>9</th>\n      <td>0.020146</td>\n      <td>0.004478</td>\n      <td>0.008179</td>\n      <td>0.002986</td>\n      <td>1</td>\n      <td>2</td>\n      <td>mse</td>\n      <td>{'tree__min_samples_leaf': 1, 'tree__max_depth...</td>\n      <td>-0.816130</td>\n      <td>-0.882642</td>\n      <td>-1.424336</td>\n      <td>-1.108872</td>\n      <td>-0.924132</td>\n      <td>-1.031222</td>\n      <td>0.219261</td>\n      <td>2</td>\n    </tr>\n    <tr>\n      <th>10</th>\n      <td>0.017353</td>\n      <td>0.001850</td>\n      <td>0.007979</td>\n      <td>0.001262</td>\n      <td>15</td>\n      <td>3</td>\n      <td>mae</td>\n      <td>{'tree__min_samples_leaf': 15, 'tree__max_dept...</td>\n      <td>-0.743851</td>\n      <td>-1.105260</td>\n      <td>-1.122205</td>\n      <td>-2.278567</td>\n      <td>-1.254818</td>\n      <td>-1.300940</td>\n      <td>0.517391</td>\n      <td>10</td>\n    </tr>\n    <tr>\n      <th>11</th>\n      <td>0.034506</td>\n      <td>0.034165</td>\n      <td>0.012767</td>\n      <td>0.007761</td>\n      <td>15</td>\n      <td>7</td>\n      <td>mse</td>\n      <td>{'tree__min_samples_leaf': 15, 'tree__max_dept...</td>\n      <td>-0.956966</td>\n      <td>-0.844012</td>\n      <td>-1.587474</td>\n      <td>-2.276566</td>\n      <td>-1.281531</td>\n      <td>-1.389310</td>\n      <td>0.514272</td>\n      <td>16</td>\n    </tr>\n    <tr>\n      <th>12</th>\n      <td>0.019148</td>\n      <td>0.001716</td>\n      <td>0.011768</td>\n      <td>0.006598</td>\n      <td>20</td>\n      <td>7</td>\n      <td>mse</td>\n      <td>{'tree__min_samples_leaf': 20, 'tree__max_dept...</td>\n      <td>-0.870686</td>\n      <td>-0.765451</td>\n      <td>-1.294051</td>\n      <td>-1.731356</td>\n      <td>-1.297124</td>\n      <td>-1.191733</td>\n      <td>0.345704</td>\n      <td>4</td>\n    </tr>\n    <tr>\n      <th>13</th>\n      <td>0.020146</td>\n      <td>0.004009</td>\n      <td>0.013165</td>\n      <td>0.008112</td>\n      <td>10</td>\n      <td>3</td>\n      <td>mae</td>\n      <td>{'tree__min_samples_leaf': 10, 'tree__max_dept...</td>\n      <td>-0.766951</td>\n      <td>-0.655642</td>\n      <td>-1.331518</td>\n      <td>-2.316210</td>\n      <td>-1.005492</td>\n      <td>-1.215163</td>\n      <td>0.597288</td>\n      <td>5</td>\n    </tr>\n    <tr>\n      <th>14</th>\n      <td>0.017156</td>\n      <td>0.001467</td>\n      <td>0.010770</td>\n      <td>0.003301</td>\n      <td>50</td>\n      <td>5</td>\n      <td>mae</td>\n      <td>{'tree__min_samples_leaf': 50, 'tree__max_dept...</td>\n      <td>-0.852846</td>\n      <td>-0.866010</td>\n      <td>-1.368379</td>\n      <td>-2.420846</td>\n      <td>-1.624323</td>\n      <td>-1.426481</td>\n      <td>0.578699</td>\n      <td>20</td>\n    </tr>\n    <tr>\n      <th>15</th>\n      <td>0.014561</td>\n      <td>0.001621</td>\n      <td>0.006782</td>\n      <td>0.000977</td>\n      <td>50</td>\n      <td>4</td>\n      <td>mse</td>\n      <td>{'tree__min_samples_leaf': 50, 'tree__max_dept...</td>\n      <td>-0.879731</td>\n      <td>-0.900169</td>\n      <td>-1.479036</td>\n      <td>-2.103678</td>\n      <td>-1.437448</td>\n      <td>-1.360013</td>\n      <td>0.450628</td>\n      <td>12</td>\n    </tr>\n    <tr>\n      <th>16</th>\n      <td>0.018750</td>\n      <td>0.007605</td>\n      <td>0.006981</td>\n      <td>0.001263</td>\n      <td>15</td>\n      <td>6</td>\n      <td>mse</td>\n      <td>{'tree__min_samples_leaf': 15, 'tree__max_dept...</td>\n      <td>-0.956966</td>\n      <td>-0.844012</td>\n      <td>-1.587474</td>\n      <td>-2.276566</td>\n      <td>-1.281531</td>\n      <td>-1.389310</td>\n      <td>0.514272</td>\n      <td>16</td>\n    </tr>\n    <tr>\n      <th>17</th>\n      <td>0.024142</td>\n      <td>0.016466</td>\n      <td>0.012366</td>\n      <td>0.004704</td>\n      <td>10</td>\n      <td>4</td>\n      <td>mse</td>\n      <td>{'tree__min_samples_leaf': 10, 'tree__max_dept...</td>\n      <td>-1.118471</td>\n      <td>-0.809894</td>\n      <td>-1.362064</td>\n      <td>-2.346144</td>\n      <td>-1.278401</td>\n      <td>-1.382995</td>\n      <td>0.517194</td>\n      <td>15</td>\n    </tr>\n    <tr>\n      <th>18</th>\n      <td>0.020647</td>\n      <td>0.004159</td>\n      <td>0.012878</td>\n      <td>0.003184</td>\n      <td>15</td>\n      <td>5</td>\n      <td>mae</td>\n      <td>{'tree__min_samples_leaf': 15, 'tree__max_dept...</td>\n      <td>-0.743851</td>\n      <td>-1.115824</td>\n      <td>-1.122205</td>\n      <td>-2.311428</td>\n      <td>-1.286546</td>\n      <td>-1.315971</td>\n      <td>0.528531</td>\n      <td>11</td>\n    </tr>\n    <tr>\n      <th>19</th>\n      <td>0.021872</td>\n      <td>0.005924</td>\n      <td>0.011948</td>\n      <td>0.003692</td>\n      <td>15</td>\n      <td>2</td>\n      <td>mae</td>\n      <td>{'tree__min_samples_leaf': 15, 'tree__max_dept...</td>\n      <td>-0.722048</td>\n      <td>-1.093600</td>\n      <td>-1.208277</td>\n      <td>-1.955167</td>\n      <td>-1.356648</td>\n      <td>-1.267148</td>\n      <td>0.403013</td>\n      <td>7</td>\n    </tr>\n  </tbody>\n</table>\n</div>"
     },
     "metadata": {},
     "execution_count": 185
    }
   ],
   "source": [
    "pd.DataFrame(random_search.cv_results_)"
   ]
  },
  {
   "source": [
    "## Final Result Comparison"
   ],
   "cell_type": "markdown",
   "metadata": {}
  },
  {
   "source": [
    "### Model performance before tunning"
   ],
   "cell_type": "markdown",
   "metadata": {}
  },
  {
   "cell_type": "code",
   "execution_count": 186,
   "metadata": {},
   "outputs": [
    {
     "output_type": "stream",
     "name": "stdout",
     "text": [
      "mse=  1.4808803946104498\n"
     ]
    }
   ],
   "source": [
    "tree= DecisionTreeRegressor(max_depth=5, random_state=2020)\n",
    "tree_pipe=Pipeline([\n",
    "    ('transformer', transformer),\n",
    "    ('tree',tree)\n",
    "])\n",
    "tree_pipe.fit(X_train_val,y_train_val)\n",
    "y_pred=tree_pipe.predict(X_test)\n",
    "print('mse= ', mean_squared_error(y_test,y_pred))"
   ]
  },
  {
   "source": [
    "### Model Preformance After Fitting"
   ],
   "cell_type": "markdown",
   "metadata": {}
  },
  {
   "cell_type": "code",
   "execution_count": 187,
   "metadata": {},
   "outputs": [
    {
     "output_type": "stream",
     "name": "stdout",
     "text": [
      "mse=  1.3093536770005814\n"
     ]
    }
   ],
   "source": [
    "random_search.best_estimator_.fit(X_train_val,y_train_val)\n",
    "y_pred=random_search.best_estimator_.predict(X_test)\n",
    "print('mse= ', mean_squared_error(y_test,y_pred))"
   ]
  },
  {
   "source": [
    "Ada peningkatan performa model, karena nilai MSE turun dari 1.48 menjadi 1.31"
   ],
   "cell_type": "markdown",
   "metadata": {}
  },
  {
   "source": [
    "# Information Leakage"
   ],
   "cell_type": "markdown",
   "metadata": {}
  },
  {
   "cell_type": "code",
   "execution_count": 188,
   "metadata": {},
   "outputs": [],
   "source": [
    "rnd= np.random.RandomState(seed=2020)\n",
    "X=rnd.normal(size=(100,10000))\n",
    "y=rnd.normal(size=(100, ))"
   ]
  },
  {
   "source": [
    "Data dibuat secara random, sehingga, seharusnya tidak terdapat hubungan di antara X dan y"
   ],
   "cell_type": "markdown",
   "metadata": {}
  },
  {
   "source": [
    "## Kalau salah fitting"
   ],
   "cell_type": "markdown",
   "metadata": {}
  },
  {
   "cell_type": "code",
   "execution_count": 189,
   "metadata": {},
   "outputs": [
    {
     "output_type": "execute_result",
     "data": {
      "text/plain": [
       "(100, 500)"
      ]
     },
     "metadata": {},
     "execution_count": 189
    }
   ],
   "source": [
    "from sklearn.feature_selection import SelectPercentile, f_regression\n",
    "\n",
    "select=SelectPercentile(score_func=f_regression, percentile=5).fit(X,y) #perhatikan apa yang difit\n",
    "X_selected= select.transform(X)\n",
    "X_selected.shape"
   ]
  },
  {
   "cell_type": "code",
   "execution_count": 190,
   "metadata": {},
   "outputs": [],
   "source": [
    "from sklearn.linear_model import Ridge"
   ]
  },
  {
   "cell_type": "code",
   "execution_count": 191,
   "metadata": {},
   "outputs": [
    {
     "output_type": "execute_result",
     "data": {
      "text/plain": [
       "array([0.92165345, 0.89445668, 0.92827414, 0.93088559, 0.91044624])"
      ]
     },
     "metadata": {},
     "execution_count": 191
    }
   ],
   "source": [
    "cross_val_score(Ridge(),X_selected, y, cv=5)"
   ]
  },
  {
   "cell_type": "code",
   "execution_count": 192,
   "metadata": {},
   "outputs": [
    {
     "output_type": "error",
     "ename": "SyntaxError",
     "evalue": "invalid syntax (<ipython-input-192-ccb5c9116aa2>, line 1)",
     "traceback": [
      "\u001b[1;36m  File \u001b[1;32m\"<ipython-input-192-ccb5c9116aa2>\"\u001b[1;36m, line \u001b[1;32m1\u001b[0m\n\u001b[1;33m    Hasil cross validasi (R2) mengindikasikan model yang kita buat sangatlah baik, walaupun  data yg kita masukkan merupakan data random.\u001b[0m\n\u001b[1;37m          ^\u001b[0m\n\u001b[1;31mSyntaxError\u001b[0m\u001b[1;31m:\u001b[0m invalid syntax\n"
     ]
    }
   ],
   "source": [
    "Hasil cross validasi (R2) mengindikasikan model yang kita buat sangatlah baik, walaupun  data yg kita masukkan merupakan data random. "
   ]
  },
  {
   "source": [
    "## Tanpa Leakage"
   ],
   "cell_type": "markdown",
   "metadata": {}
  },
  {
   "cell_type": "code",
   "execution_count": 67,
   "metadata": {},
   "outputs": [],
   "source": [
    "select= SelectPercentile(score_func=f_regression, percentile=5)\n",
    "\n",
    "pipe=Pipeline([\n",
    "    ('select', select),\n",
    "    ('model',Ridge())\n",
    "])"
   ]
  },
  {
   "cell_type": "code",
   "execution_count": 68,
   "metadata": {},
   "outputs": [
    {
     "output_type": "execute_result",
     "data": {
      "text/plain": [
       "array([-0.0330359 , -0.07840338, -0.06731106, -0.04544685, -0.07314928])"
      ]
     },
     "metadata": {},
     "execution_count": 68
    }
   ],
   "source": [
    "cross_val_score(pipe,X,y,cv=5)"
   ]
  },
  {
   "cell_type": "code",
   "execution_count": null,
   "metadata": {},
   "outputs": [],
   "source": [
    "Hasil kali ini adalah nilai R2 yang seharusnya dari data random yang kita buat. Nilai R2 sangat kecil, bahkan negatif. Information leakage bisa menyebabkan hasil evaluasi model menjadi terlalu optimis. "
   ]
  },
  {
   "cell_type": "code",
   "execution_count": null,
   "metadata": {},
   "outputs": [],
   "source": []
  },
  {
   "source": [
    "# Algorithm Chain: Adult Dataset"
   ],
   "cell_type": "markdown",
   "metadata": {}
  },
  {
   "source": [
    "data : adult.csv  \n",
    "target : income  \n",
    "\n",
    "preprocess: \n",
    "* missing value : simple imputer with constant  \n",
    "* one hot encoding : relationship, race, sex  \n",
    "* binary encoding : workclass, marital status, occupation, native country   \n",
    "* ordinal encoding : education (already encoded)  \n",
    "* no treatment : numerical  \n",
    "\n",
    "out : fnlwgt   \n",
    "\n",
    "Random state 10, data splitting 70:30  \n",
    "* model Tree(max depth 5,  criterion entropy) and compute f1 using CV  \n",
    "* Compute another metrics  \n",
    "* model Logistic Regression (solver liblinear) compute recall +, precision +, f1 +, make ROC and PRC in test set  \n",
    "* do hyperparameter tuning for logistic regression (optimize C and solver) optimized by f1 and using stratified CV 5 fold   \n",
    "* compare the result (before and after) in test set   \n"
   ],
   "cell_type": "markdown",
   "metadata": {}
  },
  {
   "cell_type": "code",
   "execution_count": 116,
   "metadata": {},
   "outputs": [],
   "source": [
    "from sklearn.tree import DecisionTreeClassifier\n",
    "from sklearn.linear_model import LogisticRegression\n",
    "\n",
    "from sklearn.model_selection import GridSearchCV, StratifiedKFold, train_test_split\n",
    "from sklearn.metrics import f1_score, recall_score, precision_score, plot_roc_curve,plot_precision_recall_curve, classification_report\n",
    "\n",
    "\n",
    "from sklearn.impute import SimpleImputer\n",
    "from sklearn.preprocessing import OneHotEncoder\n",
    "from sklearn.compose import ColumnTransformer\n",
    "import category_encoders as ce\n",
    "from sklearn.pipeline import Pipeline"
   ]
  },
  {
   "cell_type": "code",
   "execution_count": 81,
   "metadata": {},
   "outputs": [],
   "source": [
    "df_adult = pd.read_csv('adult.csv')"
   ]
  },
  {
   "cell_type": "code",
   "execution_count": 82,
   "metadata": {},
   "outputs": [
    {
     "output_type": "execute_result",
     "data": {
      "text/plain": [
       "   age workclass  fnlwgt     education  education.num marital.status  \\\n",
       "0   90         ?   77053       HS-grad              9        Widowed   \n",
       "1   82   Private  132870       HS-grad              9        Widowed   \n",
       "2   66         ?  186061  Some-college             10        Widowed   \n",
       "3   54   Private  140359       7th-8th              4       Divorced   \n",
       "4   41   Private  264663  Some-college             10      Separated   \n",
       "\n",
       "          occupation   relationship   race     sex  capital.gain  \\\n",
       "0                  ?  Not-in-family  White  Female             0   \n",
       "1    Exec-managerial  Not-in-family  White  Female             0   \n",
       "2                  ?      Unmarried  Black  Female             0   \n",
       "3  Machine-op-inspct      Unmarried  White  Female             0   \n",
       "4     Prof-specialty      Own-child  White  Female             0   \n",
       "\n",
       "   capital.loss  hours.per.week native.country income  \n",
       "0          4356              40  United-States  <=50K  \n",
       "1          4356              18  United-States  <=50K  \n",
       "2          4356              40  United-States  <=50K  \n",
       "3          3900              40  United-States  <=50K  \n",
       "4          3900              40  United-States  <=50K  "
      ],
      "text/html": "<div>\n<style scoped>\n    .dataframe tbody tr th:only-of-type {\n        vertical-align: middle;\n    }\n\n    .dataframe tbody tr th {\n        vertical-align: top;\n    }\n\n    .dataframe thead th {\n        text-align: right;\n    }\n</style>\n<table border=\"1\" class=\"dataframe\">\n  <thead>\n    <tr style=\"text-align: right;\">\n      <th></th>\n      <th>age</th>\n      <th>workclass</th>\n      <th>fnlwgt</th>\n      <th>education</th>\n      <th>education.num</th>\n      <th>marital.status</th>\n      <th>occupation</th>\n      <th>relationship</th>\n      <th>race</th>\n      <th>sex</th>\n      <th>capital.gain</th>\n      <th>capital.loss</th>\n      <th>hours.per.week</th>\n      <th>native.country</th>\n      <th>income</th>\n    </tr>\n  </thead>\n  <tbody>\n    <tr>\n      <th>0</th>\n      <td>90</td>\n      <td>?</td>\n      <td>77053</td>\n      <td>HS-grad</td>\n      <td>9</td>\n      <td>Widowed</td>\n      <td>?</td>\n      <td>Not-in-family</td>\n      <td>White</td>\n      <td>Female</td>\n      <td>0</td>\n      <td>4356</td>\n      <td>40</td>\n      <td>United-States</td>\n      <td>&lt;=50K</td>\n    </tr>\n    <tr>\n      <th>1</th>\n      <td>82</td>\n      <td>Private</td>\n      <td>132870</td>\n      <td>HS-grad</td>\n      <td>9</td>\n      <td>Widowed</td>\n      <td>Exec-managerial</td>\n      <td>Not-in-family</td>\n      <td>White</td>\n      <td>Female</td>\n      <td>0</td>\n      <td>4356</td>\n      <td>18</td>\n      <td>United-States</td>\n      <td>&lt;=50K</td>\n    </tr>\n    <tr>\n      <th>2</th>\n      <td>66</td>\n      <td>?</td>\n      <td>186061</td>\n      <td>Some-college</td>\n      <td>10</td>\n      <td>Widowed</td>\n      <td>?</td>\n      <td>Unmarried</td>\n      <td>Black</td>\n      <td>Female</td>\n      <td>0</td>\n      <td>4356</td>\n      <td>40</td>\n      <td>United-States</td>\n      <td>&lt;=50K</td>\n    </tr>\n    <tr>\n      <th>3</th>\n      <td>54</td>\n      <td>Private</td>\n      <td>140359</td>\n      <td>7th-8th</td>\n      <td>4</td>\n      <td>Divorced</td>\n      <td>Machine-op-inspct</td>\n      <td>Unmarried</td>\n      <td>White</td>\n      <td>Female</td>\n      <td>0</td>\n      <td>3900</td>\n      <td>40</td>\n      <td>United-States</td>\n      <td>&lt;=50K</td>\n    </tr>\n    <tr>\n      <th>4</th>\n      <td>41</td>\n      <td>Private</td>\n      <td>264663</td>\n      <td>Some-college</td>\n      <td>10</td>\n      <td>Separated</td>\n      <td>Prof-specialty</td>\n      <td>Own-child</td>\n      <td>White</td>\n      <td>Female</td>\n      <td>0</td>\n      <td>3900</td>\n      <td>40</td>\n      <td>United-States</td>\n      <td>&lt;=50K</td>\n    </tr>\n  </tbody>\n</table>\n</div>"
     },
     "metadata": {},
     "execution_count": 82
    }
   ],
   "source": [
    "df_adult.head()"
   ]
  },
  {
   "source": [
    "## Preprocessor"
   ],
   "cell_type": "markdown",
   "metadata": {}
  },
  {
   "cell_type": "code",
   "execution_count": 72,
   "metadata": {},
   "outputs": [],
   "source": [
    "binary_encoder_pipeline = Pipeline([\n",
    "                                    ('imputer',SimpleImputer(strategy = 'constant',fill_value = 'NC', missing_values='?')), #missing value ditandai dengan apa?\n",
    "                                    ('binary encoder',ce.BinaryEncoder())\n",
    "])\n",
    "\n",
    "transformer = ColumnTransformer([\n",
    "                                 ('one hot encoder',OneHotEncoder(drop = 'first'),['relationship','race','sex']),\n",
    "                                 ('binary encoder',binary_encoder_pipeline,['workclass','marital.status','occupation','native.country'])\n",
    "                                ], remainder = 'passthrough')"
   ]
  },
  {
   "source": [
    "## Splitting data"
   ],
   "cell_type": "markdown",
   "metadata": {}
  },
  {
   "cell_type": "code",
   "execution_count": 76,
   "metadata": {},
   "outputs": [],
   "source": [
    "X = df_adult.drop(columns = ['fnlwgt','income','education'])\n",
    "y = np.where(df_adult['income']=='>50K',1,0)"
   ]
  },
  {
   "cell_type": "code",
   "execution_count": 141,
   "metadata": {},
   "outputs": [],
   "source": [
    "X_train_val, X_test, y_train_val, y_test = train_test_split(\n",
    "    X,\n",
    "    y,\n",
    "    stratify = y, \n",
    "    random_state = 10,\n",
    "    test_size=0.3)"
   ]
  },
  {
   "source": [
    "## Model Selection: Benchmark"
   ],
   "cell_type": "markdown",
   "metadata": {}
  },
  {
   "cell_type": "code",
   "execution_count": 142,
   "metadata": {},
   "outputs": [],
   "source": [
    "logreg= LogisticRegression(solver='liblinear')\n",
    "tree= DecisionTreeClassifier(max_depth=5, criterion='entropy')"
   ]
  },
  {
   "cell_type": "code",
   "execution_count": 143,
   "metadata": {},
   "outputs": [],
   "source": [
    "estimator= Pipeline([\n",
    "    ('transformer', transformer),\n",
    "    ('model',logreg)\n",
    "])"
   ]
  },
  {
   "cell_type": "code",
   "execution_count": 144,
   "metadata": {},
   "outputs": [],
   "source": [
    "skfold= StratifiedKFold(n_splits=5)"
   ]
  },
  {
   "cell_type": "code",
   "execution_count": 145,
   "metadata": {},
   "outputs": [],
   "source": [
    "model_cv=cross_val_score(estimator,X_train_val,y_train_val, scoring='f1', cv=skfold)"
   ]
  },
  {
   "cell_type": "code",
   "execution_count": 146,
   "metadata": {},
   "outputs": [
    {
     "output_type": "stream",
     "name": "stdout",
     "text": [
      "score:  [0.63710499 0.63971341 0.63523316 0.64368981 0.65339459]\nmean score:  0.6418271930924686\nstd score:  0.006442398722523763\n"
     ]
    }
   ],
   "source": [
    "print('score: ',model_cv)\n",
    "print('mean score: ',model_cv.mean())\n",
    "print('std score: ',model_cv.std())"
   ]
  },
  {
   "cell_type": "code",
   "execution_count": 147,
   "metadata": {},
   "outputs": [],
   "source": [
    "### Flexible metrics and model\n",
    "\n",
    "def model_evaluation_cv(model,metric):\n",
    "    skfold= StratifiedKFold(n_splits=5)\n",
    "    estimator=Pipeline([\n",
    "        ('preprocess', transformer),\n",
    "        ('model',model)\n",
    "    ])\n",
    "    model_cv=cross_val_score(estimator,X_train_val,y_train_val,cv=skfold, scoring=metric)\n",
    "    return model_cv"
   ]
  },
  {
   "cell_type": "code",
   "execution_count": 148,
   "metadata": {},
   "outputs": [],
   "source": [
    "def print_result(model_cv):\n",
    "    print('score: ',model_cv)\n",
    "    print('mean score: ',model_cv.mean())\n",
    "    print('std score: ',model_cv.std())"
   ]
  },
  {
   "cell_type": "code",
   "execution_count": 149,
   "metadata": {},
   "outputs": [
    {
     "output_type": "stream",
     "name": "stdout",
     "text": [
      "score:  [0.61093538 0.60793358 0.61038961 0.60797034 0.60387812]\nmean score:  0.6082214061627219\nstd score:  0.0024930630561650125\n"
     ]
    }
   ],
   "source": [
    "model= DecisionTreeClassifier(criterion='entropy',random_state=2020)\n",
    "metric='f1'\n",
    "\n",
    "model_cv=model_evaluation_cv(model,metric)\n",
    "print_result(model_cv)"
   ]
  },
  {
   "cell_type": "code",
   "execution_count": 150,
   "metadata": {},
   "outputs": [
    {
     "output_type": "stream",
     "name": "stdout",
     "text": [
      "score:  [0.63710499 0.63971341 0.63523316 0.64368981 0.65339459]\nmean score:  0.6418271930924686\nstd score:  0.006442398722523763\n"
     ]
    }
   ],
   "source": [
    "model= LogisticRegression(solver='liblinear')\n",
    "model_cv=model_evaluation_cv(model,metric)\n",
    "print_result(model_cv)"
   ]
  },
  {
   "source": [
    "Logistic regresi dipilih sebagai benchmark"
   ],
   "cell_type": "markdown",
   "metadata": {}
  },
  {
   "source": [
    "### Model Performance"
   ],
   "cell_type": "markdown",
   "metadata": {}
  },
  {
   "cell_type": "code",
   "execution_count": 151,
   "metadata": {},
   "outputs": [],
   "source": [
    "model= LogisticRegression(solver='liblinear')\n"
   ]
  },
  {
   "cell_type": "code",
   "execution_count": 152,
   "metadata": {},
   "outputs": [],
   "source": [
    "estimator= Pipeline([\n",
    "    ('preprocessing', transformer),\n",
    "    ('model',logreg)\n",
    "])"
   ]
  },
  {
   "cell_type": "code",
   "execution_count": 153,
   "metadata": {},
   "outputs": [],
   "source": [
    "estimator.fit(X_train_val,y_train_val)\n",
    "y_pred=estimator.predict(X_test)"
   ]
  },
  {
   "cell_type": "code",
   "execution_count": 154,
   "metadata": {},
   "outputs": [
    {
     "output_type": "stream",
     "name": "stdout",
     "text": [
      "              precision    recall  f1-score   support\n\n           0       0.88      0.94      0.91      7417\n           1       0.75      0.58      0.65      2352\n\n    accuracy                           0.85      9769\n   macro avg       0.81      0.76      0.78      9769\nweighted avg       0.85      0.85      0.85      9769\n\n"
     ]
    }
   ],
   "source": [
    "print(classification_report(y_test,y_pred))"
   ]
  },
  {
   "cell_type": "code",
   "execution_count": 155,
   "metadata": {},
   "outputs": [
    {
     "output_type": "execute_result",
     "data": {
      "text/plain": [
       "0.6543800861656294"
      ]
     },
     "metadata": {},
     "execution_count": 155
    }
   ],
   "source": [
    "f1_score(y_test,y_pred)"
   ]
  },
  {
   "cell_type": "code",
   "execution_count": 119,
   "metadata": {},
   "outputs": [
    {
     "output_type": "execute_result",
     "data": {
      "text/plain": [
       "<sklearn.metrics._plot.precision_recall_curve.PrecisionRecallDisplay at 0x207514cabb0>"
      ]
     },
     "metadata": {},
     "execution_count": 119
    },
    {
     "output_type": "display_data",
     "data": {
      "text/plain": "<Figure size 432x288 with 1 Axes>",
      "image/svg+xml": "<?xml version=\"1.0\" encoding=\"utf-8\" standalone=\"no\"?>\r\n<!DOCTYPE svg PUBLIC \"-//W3C//DTD SVG 1.1//EN\"\r\n  \"http://www.w3.org/Graphics/SVG/1.1/DTD/svg11.dtd\">\r\n<!-- Created with matplotlib (https://matplotlib.org/) -->\r\n<svg height=\"262.19625pt\" version=\"1.1\" viewBox=\"0 0 385.78125 262.19625\" width=\"385.78125pt\" xmlns=\"http://www.w3.org/2000/svg\" xmlns:xlink=\"http://www.w3.org/1999/xlink\">\r\n <defs>\r\n  <style type=\"text/css\">\r\n*{stroke-linecap:butt;stroke-linejoin:round;}\r\n  </style>\r\n </defs>\r\n <g id=\"figure_1\">\r\n  <g id=\"patch_1\">\r\n   <path d=\"M 0 262.19625 \r\nL 385.78125 262.19625 \r\nL 385.78125 0 \r\nL 0 0 \r\nz\r\n\" style=\"fill:none;\"/>\r\n  </g>\r\n  <g id=\"axes_1\">\r\n   <g id=\"patch_2\">\r\n    <path d=\"M 43.78125 224.64 \r\nL 378.58125 224.64 \r\nL 378.58125 7.2 \r\nL 43.78125 7.2 \r\nz\r\n\" style=\"fill:#ffffff;\"/>\r\n   </g>\r\n   <g id=\"matplotlib.axis_1\">\r\n    <g id=\"xtick_1\">\r\n     <g id=\"line2d_1\">\r\n      <defs>\r\n       <path d=\"M 0 0 \r\nL 0 3.5 \r\n\" id=\"m28d42e3223\" style=\"stroke:#000000;stroke-width:0.8;\"/>\r\n      </defs>\r\n      <g>\r\n       <use style=\"stroke:#000000;stroke-width:0.8;\" x=\"58.999432\" xlink:href=\"#m28d42e3223\" y=\"224.64\"/>\r\n      </g>\r\n     </g>\r\n     <g id=\"text_1\">\r\n      <!-- 0.0 -->\r\n      <defs>\r\n       <path d=\"M 31.78125 66.40625 \r\nQ 24.171875 66.40625 20.328125 58.90625 \r\nQ 16.5 51.421875 16.5 36.375 \r\nQ 16.5 21.390625 20.328125 13.890625 \r\nQ 24.171875 6.390625 31.78125 6.390625 \r\nQ 39.453125 6.390625 43.28125 13.890625 \r\nQ 47.125 21.390625 47.125 36.375 \r\nQ 47.125 51.421875 43.28125 58.90625 \r\nQ 39.453125 66.40625 31.78125 66.40625 \r\nz\r\nM 31.78125 74.21875 \r\nQ 44.046875 74.21875 50.515625 64.515625 \r\nQ 56.984375 54.828125 56.984375 36.375 \r\nQ 56.984375 17.96875 50.515625 8.265625 \r\nQ 44.046875 -1.421875 31.78125 -1.421875 \r\nQ 19.53125 -1.421875 13.0625 8.265625 \r\nQ 6.59375 17.96875 6.59375 36.375 \r\nQ 6.59375 54.828125 13.0625 64.515625 \r\nQ 19.53125 74.21875 31.78125 74.21875 \r\nz\r\n\" id=\"DejaVuSans-48\"/>\r\n       <path d=\"M 10.6875 12.40625 \r\nL 21 12.40625 \r\nL 21 0 \r\nL 10.6875 0 \r\nz\r\n\" id=\"DejaVuSans-46\"/>\r\n      </defs>\r\n      <g transform=\"translate(51.047869 239.238437)scale(0.1 -0.1)\">\r\n       <use xlink:href=\"#DejaVuSans-48\"/>\r\n       <use x=\"63.623047\" xlink:href=\"#DejaVuSans-46\"/>\r\n       <use x=\"95.410156\" xlink:href=\"#DejaVuSans-48\"/>\r\n      </g>\r\n     </g>\r\n    </g>\r\n    <g id=\"xtick_2\">\r\n     <g id=\"line2d_2\">\r\n      <g>\r\n       <use style=\"stroke:#000000;stroke-width:0.8;\" x=\"119.872159\" xlink:href=\"#m28d42e3223\" y=\"224.64\"/>\r\n      </g>\r\n     </g>\r\n     <g id=\"text_2\">\r\n      <!-- 0.2 -->\r\n      <defs>\r\n       <path d=\"M 19.1875 8.296875 \r\nL 53.609375 8.296875 \r\nL 53.609375 0 \r\nL 7.328125 0 \r\nL 7.328125 8.296875 \r\nQ 12.9375 14.109375 22.625 23.890625 \r\nQ 32.328125 33.6875 34.8125 36.53125 \r\nQ 39.546875 41.84375 41.421875 45.53125 \r\nQ 43.3125 49.21875 43.3125 52.78125 \r\nQ 43.3125 58.59375 39.234375 62.25 \r\nQ 35.15625 65.921875 28.609375 65.921875 \r\nQ 23.96875 65.921875 18.8125 64.3125 \r\nQ 13.671875 62.703125 7.8125 59.421875 \r\nL 7.8125 69.390625 \r\nQ 13.765625 71.78125 18.9375 73 \r\nQ 24.125 74.21875 28.421875 74.21875 \r\nQ 39.75 74.21875 46.484375 68.546875 \r\nQ 53.21875 62.890625 53.21875 53.421875 \r\nQ 53.21875 48.921875 51.53125 44.890625 \r\nQ 49.859375 40.875 45.40625 35.40625 \r\nQ 44.1875 33.984375 37.640625 27.21875 \r\nQ 31.109375 20.453125 19.1875 8.296875 \r\nz\r\n\" id=\"DejaVuSans-50\"/>\r\n      </defs>\r\n      <g transform=\"translate(111.920597 239.238437)scale(0.1 -0.1)\">\r\n       <use xlink:href=\"#DejaVuSans-48\"/>\r\n       <use x=\"63.623047\" xlink:href=\"#DejaVuSans-46\"/>\r\n       <use x=\"95.410156\" xlink:href=\"#DejaVuSans-50\"/>\r\n      </g>\r\n     </g>\r\n    </g>\r\n    <g id=\"xtick_3\">\r\n     <g id=\"line2d_3\">\r\n      <g>\r\n       <use style=\"stroke:#000000;stroke-width:0.8;\" x=\"180.744886\" xlink:href=\"#m28d42e3223\" y=\"224.64\"/>\r\n      </g>\r\n     </g>\r\n     <g id=\"text_3\">\r\n      <!-- 0.4 -->\r\n      <defs>\r\n       <path d=\"M 37.796875 64.3125 \r\nL 12.890625 25.390625 \r\nL 37.796875 25.390625 \r\nz\r\nM 35.203125 72.90625 \r\nL 47.609375 72.90625 \r\nL 47.609375 25.390625 \r\nL 58.015625 25.390625 \r\nL 58.015625 17.1875 \r\nL 47.609375 17.1875 \r\nL 47.609375 0 \r\nL 37.796875 0 \r\nL 37.796875 17.1875 \r\nL 4.890625 17.1875 \r\nL 4.890625 26.703125 \r\nz\r\n\" id=\"DejaVuSans-52\"/>\r\n      </defs>\r\n      <g transform=\"translate(172.793324 239.238437)scale(0.1 -0.1)\">\r\n       <use xlink:href=\"#DejaVuSans-48\"/>\r\n       <use x=\"63.623047\" xlink:href=\"#DejaVuSans-46\"/>\r\n       <use x=\"95.410156\" xlink:href=\"#DejaVuSans-52\"/>\r\n      </g>\r\n     </g>\r\n    </g>\r\n    <g id=\"xtick_4\">\r\n     <g id=\"line2d_4\">\r\n      <g>\r\n       <use style=\"stroke:#000000;stroke-width:0.8;\" x=\"241.617614\" xlink:href=\"#m28d42e3223\" y=\"224.64\"/>\r\n      </g>\r\n     </g>\r\n     <g id=\"text_4\">\r\n      <!-- 0.6 -->\r\n      <defs>\r\n       <path d=\"M 33.015625 40.375 \r\nQ 26.375 40.375 22.484375 35.828125 \r\nQ 18.609375 31.296875 18.609375 23.390625 \r\nQ 18.609375 15.53125 22.484375 10.953125 \r\nQ 26.375 6.390625 33.015625 6.390625 \r\nQ 39.65625 6.390625 43.53125 10.953125 \r\nQ 47.40625 15.53125 47.40625 23.390625 \r\nQ 47.40625 31.296875 43.53125 35.828125 \r\nQ 39.65625 40.375 33.015625 40.375 \r\nz\r\nM 52.59375 71.296875 \r\nL 52.59375 62.3125 \r\nQ 48.875 64.0625 45.09375 64.984375 \r\nQ 41.3125 65.921875 37.59375 65.921875 \r\nQ 27.828125 65.921875 22.671875 59.328125 \r\nQ 17.53125 52.734375 16.796875 39.40625 \r\nQ 19.671875 43.65625 24.015625 45.921875 \r\nQ 28.375 48.1875 33.59375 48.1875 \r\nQ 44.578125 48.1875 50.953125 41.515625 \r\nQ 57.328125 34.859375 57.328125 23.390625 \r\nQ 57.328125 12.15625 50.6875 5.359375 \r\nQ 44.046875 -1.421875 33.015625 -1.421875 \r\nQ 20.359375 -1.421875 13.671875 8.265625 \r\nQ 6.984375 17.96875 6.984375 36.375 \r\nQ 6.984375 53.65625 15.1875 63.9375 \r\nQ 23.390625 74.21875 37.203125 74.21875 \r\nQ 40.921875 74.21875 44.703125 73.484375 \r\nQ 48.484375 72.75 52.59375 71.296875 \r\nz\r\n\" id=\"DejaVuSans-54\"/>\r\n      </defs>\r\n      <g transform=\"translate(233.666051 239.238437)scale(0.1 -0.1)\">\r\n       <use xlink:href=\"#DejaVuSans-48\"/>\r\n       <use x=\"63.623047\" xlink:href=\"#DejaVuSans-46\"/>\r\n       <use x=\"95.410156\" xlink:href=\"#DejaVuSans-54\"/>\r\n      </g>\r\n     </g>\r\n    </g>\r\n    <g id=\"xtick_5\">\r\n     <g id=\"line2d_5\">\r\n      <g>\r\n       <use style=\"stroke:#000000;stroke-width:0.8;\" x=\"302.490341\" xlink:href=\"#m28d42e3223\" y=\"224.64\"/>\r\n      </g>\r\n     </g>\r\n     <g id=\"text_5\">\r\n      <!-- 0.8 -->\r\n      <defs>\r\n       <path d=\"M 31.78125 34.625 \r\nQ 24.75 34.625 20.71875 30.859375 \r\nQ 16.703125 27.09375 16.703125 20.515625 \r\nQ 16.703125 13.921875 20.71875 10.15625 \r\nQ 24.75 6.390625 31.78125 6.390625 \r\nQ 38.8125 6.390625 42.859375 10.171875 \r\nQ 46.921875 13.96875 46.921875 20.515625 \r\nQ 46.921875 27.09375 42.890625 30.859375 \r\nQ 38.875 34.625 31.78125 34.625 \r\nz\r\nM 21.921875 38.8125 \r\nQ 15.578125 40.375 12.03125 44.71875 \r\nQ 8.5 49.078125 8.5 55.328125 \r\nQ 8.5 64.0625 14.71875 69.140625 \r\nQ 20.953125 74.21875 31.78125 74.21875 \r\nQ 42.671875 74.21875 48.875 69.140625 \r\nQ 55.078125 64.0625 55.078125 55.328125 \r\nQ 55.078125 49.078125 51.53125 44.71875 \r\nQ 48 40.375 41.703125 38.8125 \r\nQ 48.828125 37.15625 52.796875 32.3125 \r\nQ 56.78125 27.484375 56.78125 20.515625 \r\nQ 56.78125 9.90625 50.3125 4.234375 \r\nQ 43.84375 -1.421875 31.78125 -1.421875 \r\nQ 19.734375 -1.421875 13.25 4.234375 \r\nQ 6.78125 9.90625 6.78125 20.515625 \r\nQ 6.78125 27.484375 10.78125 32.3125 \r\nQ 14.796875 37.15625 21.921875 38.8125 \r\nz\r\nM 18.3125 54.390625 \r\nQ 18.3125 48.734375 21.84375 45.5625 \r\nQ 25.390625 42.390625 31.78125 42.390625 \r\nQ 38.140625 42.390625 41.71875 45.5625 \r\nQ 45.3125 48.734375 45.3125 54.390625 \r\nQ 45.3125 60.0625 41.71875 63.234375 \r\nQ 38.140625 66.40625 31.78125 66.40625 \r\nQ 25.390625 66.40625 21.84375 63.234375 \r\nQ 18.3125 60.0625 18.3125 54.390625 \r\nz\r\n\" id=\"DejaVuSans-56\"/>\r\n      </defs>\r\n      <g transform=\"translate(294.538778 239.238437)scale(0.1 -0.1)\">\r\n       <use xlink:href=\"#DejaVuSans-48\"/>\r\n       <use x=\"63.623047\" xlink:href=\"#DejaVuSans-46\"/>\r\n       <use x=\"95.410156\" xlink:href=\"#DejaVuSans-56\"/>\r\n      </g>\r\n     </g>\r\n    </g>\r\n    <g id=\"xtick_6\">\r\n     <g id=\"line2d_6\">\r\n      <g>\r\n       <use style=\"stroke:#000000;stroke-width:0.8;\" x=\"363.363068\" xlink:href=\"#m28d42e3223\" y=\"224.64\"/>\r\n      </g>\r\n     </g>\r\n     <g id=\"text_6\">\r\n      <!-- 1.0 -->\r\n      <defs>\r\n       <path d=\"M 12.40625 8.296875 \r\nL 28.515625 8.296875 \r\nL 28.515625 63.921875 \r\nL 10.984375 60.40625 \r\nL 10.984375 69.390625 \r\nL 28.421875 72.90625 \r\nL 38.28125 72.90625 \r\nL 38.28125 8.296875 \r\nL 54.390625 8.296875 \r\nL 54.390625 0 \r\nL 12.40625 0 \r\nz\r\n\" id=\"DejaVuSans-49\"/>\r\n      </defs>\r\n      <g transform=\"translate(355.411506 239.238437)scale(0.1 -0.1)\">\r\n       <use xlink:href=\"#DejaVuSans-49\"/>\r\n       <use x=\"63.623047\" xlink:href=\"#DejaVuSans-46\"/>\r\n       <use x=\"95.410156\" xlink:href=\"#DejaVuSans-48\"/>\r\n      </g>\r\n     </g>\r\n    </g>\r\n    <g id=\"text_7\">\r\n     <!-- Recall -->\r\n     <defs>\r\n      <path d=\"M 44.390625 34.1875 \r\nQ 47.5625 33.109375 50.5625 29.59375 \r\nQ 53.5625 26.078125 56.59375 19.921875 \r\nL 66.609375 0 \r\nL 56 0 \r\nL 46.6875 18.703125 \r\nQ 43.0625 26.03125 39.671875 28.421875 \r\nQ 36.28125 30.8125 30.421875 30.8125 \r\nL 19.671875 30.8125 \r\nL 19.671875 0 \r\nL 9.8125 0 \r\nL 9.8125 72.90625 \r\nL 32.078125 72.90625 \r\nQ 44.578125 72.90625 50.734375 67.671875 \r\nQ 56.890625 62.453125 56.890625 51.90625 \r\nQ 56.890625 45.015625 53.6875 40.46875 \r\nQ 50.484375 35.9375 44.390625 34.1875 \r\nz\r\nM 19.671875 64.796875 \r\nL 19.671875 38.921875 \r\nL 32.078125 38.921875 \r\nQ 39.203125 38.921875 42.84375 42.21875 \r\nQ 46.484375 45.515625 46.484375 51.90625 \r\nQ 46.484375 58.296875 42.84375 61.546875 \r\nQ 39.203125 64.796875 32.078125 64.796875 \r\nz\r\n\" id=\"DejaVuSans-82\"/>\r\n      <path d=\"M 56.203125 29.59375 \r\nL 56.203125 25.203125 \r\nL 14.890625 25.203125 \r\nQ 15.484375 15.921875 20.484375 11.0625 \r\nQ 25.484375 6.203125 34.421875 6.203125 \r\nQ 39.59375 6.203125 44.453125 7.46875 \r\nQ 49.3125 8.734375 54.109375 11.28125 \r\nL 54.109375 2.78125 \r\nQ 49.265625 0.734375 44.1875 -0.34375 \r\nQ 39.109375 -1.421875 33.890625 -1.421875 \r\nQ 20.796875 -1.421875 13.15625 6.1875 \r\nQ 5.515625 13.8125 5.515625 26.8125 \r\nQ 5.515625 40.234375 12.765625 48.109375 \r\nQ 20.015625 56 32.328125 56 \r\nQ 43.359375 56 49.78125 48.890625 \r\nQ 56.203125 41.796875 56.203125 29.59375 \r\nz\r\nM 47.21875 32.234375 \r\nQ 47.125 39.59375 43.09375 43.984375 \r\nQ 39.0625 48.390625 32.421875 48.390625 \r\nQ 24.90625 48.390625 20.390625 44.140625 \r\nQ 15.875 39.890625 15.1875 32.171875 \r\nz\r\n\" id=\"DejaVuSans-101\"/>\r\n      <path d=\"M 48.78125 52.59375 \r\nL 48.78125 44.1875 \r\nQ 44.96875 46.296875 41.140625 47.34375 \r\nQ 37.3125 48.390625 33.40625 48.390625 \r\nQ 24.65625 48.390625 19.8125 42.84375 \r\nQ 14.984375 37.3125 14.984375 27.296875 \r\nQ 14.984375 17.28125 19.8125 11.734375 \r\nQ 24.65625 6.203125 33.40625 6.203125 \r\nQ 37.3125 6.203125 41.140625 7.25 \r\nQ 44.96875 8.296875 48.78125 10.40625 \r\nL 48.78125 2.09375 \r\nQ 45.015625 0.34375 40.984375 -0.53125 \r\nQ 36.96875 -1.421875 32.421875 -1.421875 \r\nQ 20.0625 -1.421875 12.78125 6.34375 \r\nQ 5.515625 14.109375 5.515625 27.296875 \r\nQ 5.515625 40.671875 12.859375 48.328125 \r\nQ 20.21875 56 33.015625 56 \r\nQ 37.15625 56 41.109375 55.140625 \r\nQ 45.0625 54.296875 48.78125 52.59375 \r\nz\r\n\" id=\"DejaVuSans-99\"/>\r\n      <path d=\"M 34.28125 27.484375 \r\nQ 23.390625 27.484375 19.1875 25 \r\nQ 14.984375 22.515625 14.984375 16.5 \r\nQ 14.984375 11.71875 18.140625 8.90625 \r\nQ 21.296875 6.109375 26.703125 6.109375 \r\nQ 34.1875 6.109375 38.703125 11.40625 \r\nQ 43.21875 16.703125 43.21875 25.484375 \r\nL 43.21875 27.484375 \r\nz\r\nM 52.203125 31.203125 \r\nL 52.203125 0 \r\nL 43.21875 0 \r\nL 43.21875 8.296875 \r\nQ 40.140625 3.328125 35.546875 0.953125 \r\nQ 30.953125 -1.421875 24.3125 -1.421875 \r\nQ 15.921875 -1.421875 10.953125 3.296875 \r\nQ 6 8.015625 6 15.921875 \r\nQ 6 25.140625 12.171875 29.828125 \r\nQ 18.359375 34.515625 30.609375 34.515625 \r\nL 43.21875 34.515625 \r\nL 43.21875 35.40625 \r\nQ 43.21875 41.609375 39.140625 45 \r\nQ 35.0625 48.390625 27.6875 48.390625 \r\nQ 23 48.390625 18.546875 47.265625 \r\nQ 14.109375 46.140625 10.015625 43.890625 \r\nL 10.015625 52.203125 \r\nQ 14.9375 54.109375 19.578125 55.046875 \r\nQ 24.21875 56 28.609375 56 \r\nQ 40.484375 56 46.34375 49.84375 \r\nQ 52.203125 43.703125 52.203125 31.203125 \r\nz\r\n\" id=\"DejaVuSans-97\"/>\r\n      <path d=\"M 9.421875 75.984375 \r\nL 18.40625 75.984375 \r\nL 18.40625 0 \r\nL 9.421875 0 \r\nz\r\n\" id=\"DejaVuSans-108\"/>\r\n     </defs>\r\n     <g transform=\"translate(196.264062 252.916562)scale(0.1 -0.1)\">\r\n      <use xlink:href=\"#DejaVuSans-82\"/>\r\n      <use x=\"64.982422\" xlink:href=\"#DejaVuSans-101\"/>\r\n      <use x=\"126.505859\" xlink:href=\"#DejaVuSans-99\"/>\r\n      <use x=\"181.486328\" xlink:href=\"#DejaVuSans-97\"/>\r\n      <use x=\"242.765625\" xlink:href=\"#DejaVuSans-108\"/>\r\n      <use x=\"270.548828\" xlink:href=\"#DejaVuSans-108\"/>\r\n     </g>\r\n    </g>\r\n   </g>\r\n   <g id=\"matplotlib.axis_2\">\r\n    <g id=\"ytick_1\">\r\n     <g id=\"line2d_7\">\r\n      <defs>\r\n       <path d=\"M 0 0 \r\nL -3.5 0 \r\n\" id=\"m0c9f794834\" style=\"stroke:#000000;stroke-width:0.8;\"/>\r\n      </defs>\r\n      <g>\r\n       <use style=\"stroke:#000000;stroke-width:0.8;\" x=\"43.78125\" xlink:href=\"#m0c9f794834\" y=\"199.848357\"/>\r\n      </g>\r\n     </g>\r\n     <g id=\"text_8\">\r\n      <!-- 0.3 -->\r\n      <defs>\r\n       <path d=\"M 40.578125 39.3125 \r\nQ 47.65625 37.796875 51.625 33 \r\nQ 55.609375 28.21875 55.609375 21.1875 \r\nQ 55.609375 10.40625 48.1875 4.484375 \r\nQ 40.765625 -1.421875 27.09375 -1.421875 \r\nQ 22.515625 -1.421875 17.65625 -0.515625 \r\nQ 12.796875 0.390625 7.625 2.203125 \r\nL 7.625 11.71875 \r\nQ 11.71875 9.328125 16.59375 8.109375 \r\nQ 21.484375 6.890625 26.8125 6.890625 \r\nQ 36.078125 6.890625 40.9375 10.546875 \r\nQ 45.796875 14.203125 45.796875 21.1875 \r\nQ 45.796875 27.640625 41.28125 31.265625 \r\nQ 36.765625 34.90625 28.71875 34.90625 \r\nL 20.21875 34.90625 \r\nL 20.21875 43.015625 \r\nL 29.109375 43.015625 \r\nQ 36.375 43.015625 40.234375 45.921875 \r\nQ 44.09375 48.828125 44.09375 54.296875 \r\nQ 44.09375 59.90625 40.109375 62.90625 \r\nQ 36.140625 65.921875 28.71875 65.921875 \r\nQ 24.65625 65.921875 20.015625 65.03125 \r\nQ 15.375 64.15625 9.8125 62.3125 \r\nL 9.8125 71.09375 \r\nQ 15.4375 72.65625 20.34375 73.4375 \r\nQ 25.25 74.21875 29.59375 74.21875 \r\nQ 40.828125 74.21875 47.359375 69.109375 \r\nQ 53.90625 64.015625 53.90625 55.328125 \r\nQ 53.90625 49.265625 50.4375 45.09375 \r\nQ 46.96875 40.921875 40.578125 39.3125 \r\nz\r\n\" id=\"DejaVuSans-51\"/>\r\n      </defs>\r\n      <g transform=\"translate(20.878125 203.647575)scale(0.1 -0.1)\">\r\n       <use xlink:href=\"#DejaVuSans-48\"/>\r\n       <use x=\"63.623047\" xlink:href=\"#DejaVuSans-46\"/>\r\n       <use x=\"95.410156\" xlink:href=\"#DejaVuSans-51\"/>\r\n      </g>\r\n     </g>\r\n    </g>\r\n    <g id=\"ytick_2\">\r\n     <g id=\"line2d_8\">\r\n      <g>\r\n       <use style=\"stroke:#000000;stroke-width:0.8;\" x=\"43.78125\" xlink:href=\"#m0c9f794834\" y=\"173.739111\"/>\r\n      </g>\r\n     </g>\r\n     <g id=\"text_9\">\r\n      <!-- 0.4 -->\r\n      <g transform=\"translate(20.878125 177.53833)scale(0.1 -0.1)\">\r\n       <use xlink:href=\"#DejaVuSans-48\"/>\r\n       <use x=\"63.623047\" xlink:href=\"#DejaVuSans-46\"/>\r\n       <use x=\"95.410156\" xlink:href=\"#DejaVuSans-52\"/>\r\n      </g>\r\n     </g>\r\n    </g>\r\n    <g id=\"ytick_3\">\r\n     <g id=\"line2d_9\">\r\n      <g>\r\n       <use style=\"stroke:#000000;stroke-width:0.8;\" x=\"43.78125\" xlink:href=\"#m0c9f794834\" y=\"147.629865\"/>\r\n      </g>\r\n     </g>\r\n     <g id=\"text_10\">\r\n      <!-- 0.5 -->\r\n      <defs>\r\n       <path d=\"M 10.796875 72.90625 \r\nL 49.515625 72.90625 \r\nL 49.515625 64.59375 \r\nL 19.828125 64.59375 \r\nL 19.828125 46.734375 \r\nQ 21.96875 47.46875 24.109375 47.828125 \r\nQ 26.265625 48.1875 28.421875 48.1875 \r\nQ 40.625 48.1875 47.75 41.5 \r\nQ 54.890625 34.8125 54.890625 23.390625 \r\nQ 54.890625 11.625 47.5625 5.09375 \r\nQ 40.234375 -1.421875 26.90625 -1.421875 \r\nQ 22.3125 -1.421875 17.546875 -0.640625 \r\nQ 12.796875 0.140625 7.71875 1.703125 \r\nL 7.71875 11.625 \r\nQ 12.109375 9.234375 16.796875 8.0625 \r\nQ 21.484375 6.890625 26.703125 6.890625 \r\nQ 35.15625 6.890625 40.078125 11.328125 \r\nQ 45.015625 15.765625 45.015625 23.390625 \r\nQ 45.015625 31 40.078125 35.4375 \r\nQ 35.15625 39.890625 26.703125 39.890625 \r\nQ 22.75 39.890625 18.8125 39.015625 \r\nQ 14.890625 38.140625 10.796875 36.28125 \r\nz\r\n\" id=\"DejaVuSans-53\"/>\r\n      </defs>\r\n      <g transform=\"translate(20.878125 151.429084)scale(0.1 -0.1)\">\r\n       <use xlink:href=\"#DejaVuSans-48\"/>\r\n       <use x=\"63.623047\" xlink:href=\"#DejaVuSans-46\"/>\r\n       <use x=\"95.410156\" xlink:href=\"#DejaVuSans-53\"/>\r\n      </g>\r\n     </g>\r\n    </g>\r\n    <g id=\"ytick_4\">\r\n     <g id=\"line2d_10\">\r\n      <g>\r\n       <use style=\"stroke:#000000;stroke-width:0.8;\" x=\"43.78125\" xlink:href=\"#m0c9f794834\" y=\"121.520619\"/>\r\n      </g>\r\n     </g>\r\n     <g id=\"text_11\">\r\n      <!-- 0.6 -->\r\n      <g transform=\"translate(20.878125 125.319838)scale(0.1 -0.1)\">\r\n       <use xlink:href=\"#DejaVuSans-48\"/>\r\n       <use x=\"63.623047\" xlink:href=\"#DejaVuSans-46\"/>\r\n       <use x=\"95.410156\" xlink:href=\"#DejaVuSans-54\"/>\r\n      </g>\r\n     </g>\r\n    </g>\r\n    <g id=\"ytick_5\">\r\n     <g id=\"line2d_11\">\r\n      <g>\r\n       <use style=\"stroke:#000000;stroke-width:0.8;\" x=\"43.78125\" xlink:href=\"#m0c9f794834\" y=\"95.411374\"/>\r\n      </g>\r\n     </g>\r\n     <g id=\"text_12\">\r\n      <!-- 0.7 -->\r\n      <defs>\r\n       <path d=\"M 8.203125 72.90625 \r\nL 55.078125 72.90625 \r\nL 55.078125 68.703125 \r\nL 28.609375 0 \r\nL 18.3125 0 \r\nL 43.21875 64.59375 \r\nL 8.203125 64.59375 \r\nz\r\n\" id=\"DejaVuSans-55\"/>\r\n      </defs>\r\n      <g transform=\"translate(20.878125 99.210592)scale(0.1 -0.1)\">\r\n       <use xlink:href=\"#DejaVuSans-48\"/>\r\n       <use x=\"63.623047\" xlink:href=\"#DejaVuSans-46\"/>\r\n       <use x=\"95.410156\" xlink:href=\"#DejaVuSans-55\"/>\r\n      </g>\r\n     </g>\r\n    </g>\r\n    <g id=\"ytick_6\">\r\n     <g id=\"line2d_12\">\r\n      <g>\r\n       <use style=\"stroke:#000000;stroke-width:0.8;\" x=\"43.78125\" xlink:href=\"#m0c9f794834\" y=\"69.302128\"/>\r\n      </g>\r\n     </g>\r\n     <g id=\"text_13\">\r\n      <!-- 0.8 -->\r\n      <g transform=\"translate(20.878125 73.101347)scale(0.1 -0.1)\">\r\n       <use xlink:href=\"#DejaVuSans-48\"/>\r\n       <use x=\"63.623047\" xlink:href=\"#DejaVuSans-46\"/>\r\n       <use x=\"95.410156\" xlink:href=\"#DejaVuSans-56\"/>\r\n      </g>\r\n     </g>\r\n    </g>\r\n    <g id=\"ytick_7\">\r\n     <g id=\"line2d_13\">\r\n      <g>\r\n       <use style=\"stroke:#000000;stroke-width:0.8;\" x=\"43.78125\" xlink:href=\"#m0c9f794834\" y=\"43.192882\"/>\r\n      </g>\r\n     </g>\r\n     <g id=\"text_14\">\r\n      <!-- 0.9 -->\r\n      <defs>\r\n       <path d=\"M 10.984375 1.515625 \r\nL 10.984375 10.5 \r\nQ 14.703125 8.734375 18.5 7.8125 \r\nQ 22.3125 6.890625 25.984375 6.890625 \r\nQ 35.75 6.890625 40.890625 13.453125 \r\nQ 46.046875 20.015625 46.78125 33.40625 \r\nQ 43.953125 29.203125 39.59375 26.953125 \r\nQ 35.25 24.703125 29.984375 24.703125 \r\nQ 19.046875 24.703125 12.671875 31.3125 \r\nQ 6.296875 37.9375 6.296875 49.421875 \r\nQ 6.296875 60.640625 12.9375 67.421875 \r\nQ 19.578125 74.21875 30.609375 74.21875 \r\nQ 43.265625 74.21875 49.921875 64.515625 \r\nQ 56.59375 54.828125 56.59375 36.375 \r\nQ 56.59375 19.140625 48.40625 8.859375 \r\nQ 40.234375 -1.421875 26.421875 -1.421875 \r\nQ 22.703125 -1.421875 18.890625 -0.6875 \r\nQ 15.09375 0.046875 10.984375 1.515625 \r\nz\r\nM 30.609375 32.421875 \r\nQ 37.25 32.421875 41.125 36.953125 \r\nQ 45.015625 41.5 45.015625 49.421875 \r\nQ 45.015625 57.28125 41.125 61.84375 \r\nQ 37.25 66.40625 30.609375 66.40625 \r\nQ 23.96875 66.40625 20.09375 61.84375 \r\nQ 16.21875 57.28125 16.21875 49.421875 \r\nQ 16.21875 41.5 20.09375 36.953125 \r\nQ 23.96875 32.421875 30.609375 32.421875 \r\nz\r\n\" id=\"DejaVuSans-57\"/>\r\n      </defs>\r\n      <g transform=\"translate(20.878125 46.992101)scale(0.1 -0.1)\">\r\n       <use xlink:href=\"#DejaVuSans-48\"/>\r\n       <use x=\"63.623047\" xlink:href=\"#DejaVuSans-46\"/>\r\n       <use x=\"95.410156\" xlink:href=\"#DejaVuSans-57\"/>\r\n      </g>\r\n     </g>\r\n    </g>\r\n    <g id=\"ytick_8\">\r\n     <g id=\"line2d_14\">\r\n      <g>\r\n       <use style=\"stroke:#000000;stroke-width:0.8;\" x=\"43.78125\" xlink:href=\"#m0c9f794834\" y=\"17.083636\"/>\r\n      </g>\r\n     </g>\r\n     <g id=\"text_15\">\r\n      <!-- 1.0 -->\r\n      <g transform=\"translate(20.878125 20.882855)scale(0.1 -0.1)\">\r\n       <use xlink:href=\"#DejaVuSans-49\"/>\r\n       <use x=\"63.623047\" xlink:href=\"#DejaVuSans-46\"/>\r\n       <use x=\"95.410156\" xlink:href=\"#DejaVuSans-48\"/>\r\n      </g>\r\n     </g>\r\n    </g>\r\n    <g id=\"text_16\">\r\n     <!-- Precision -->\r\n     <defs>\r\n      <path d=\"M 19.671875 64.796875 \r\nL 19.671875 37.40625 \r\nL 32.078125 37.40625 \r\nQ 38.96875 37.40625 42.71875 40.96875 \r\nQ 46.484375 44.53125 46.484375 51.125 \r\nQ 46.484375 57.671875 42.71875 61.234375 \r\nQ 38.96875 64.796875 32.078125 64.796875 \r\nz\r\nM 9.8125 72.90625 \r\nL 32.078125 72.90625 \r\nQ 44.34375 72.90625 50.609375 67.359375 \r\nQ 56.890625 61.8125 56.890625 51.125 \r\nQ 56.890625 40.328125 50.609375 34.8125 \r\nQ 44.34375 29.296875 32.078125 29.296875 \r\nL 19.671875 29.296875 \r\nL 19.671875 0 \r\nL 9.8125 0 \r\nz\r\n\" id=\"DejaVuSans-80\"/>\r\n      <path d=\"M 41.109375 46.296875 \r\nQ 39.59375 47.171875 37.8125 47.578125 \r\nQ 36.03125 48 33.890625 48 \r\nQ 26.265625 48 22.1875 43.046875 \r\nQ 18.109375 38.09375 18.109375 28.8125 \r\nL 18.109375 0 \r\nL 9.078125 0 \r\nL 9.078125 54.6875 \r\nL 18.109375 54.6875 \r\nL 18.109375 46.1875 \r\nQ 20.953125 51.171875 25.484375 53.578125 \r\nQ 30.03125 56 36.53125 56 \r\nQ 37.453125 56 38.578125 55.875 \r\nQ 39.703125 55.765625 41.0625 55.515625 \r\nz\r\n\" id=\"DejaVuSans-114\"/>\r\n      <path d=\"M 9.421875 54.6875 \r\nL 18.40625 54.6875 \r\nL 18.40625 0 \r\nL 9.421875 0 \r\nz\r\nM 9.421875 75.984375 \r\nL 18.40625 75.984375 \r\nL 18.40625 64.59375 \r\nL 9.421875 64.59375 \r\nz\r\n\" id=\"DejaVuSans-105\"/>\r\n      <path d=\"M 44.28125 53.078125 \r\nL 44.28125 44.578125 \r\nQ 40.484375 46.53125 36.375 47.5 \r\nQ 32.28125 48.484375 27.875 48.484375 \r\nQ 21.1875 48.484375 17.84375 46.4375 \r\nQ 14.5 44.390625 14.5 40.28125 \r\nQ 14.5 37.15625 16.890625 35.375 \r\nQ 19.28125 33.59375 26.515625 31.984375 \r\nL 29.59375 31.296875 \r\nQ 39.15625 29.25 43.1875 25.515625 \r\nQ 47.21875 21.78125 47.21875 15.09375 \r\nQ 47.21875 7.46875 41.1875 3.015625 \r\nQ 35.15625 -1.421875 24.609375 -1.421875 \r\nQ 20.21875 -1.421875 15.453125 -0.5625 \r\nQ 10.6875 0.296875 5.421875 2 \r\nL 5.421875 11.28125 \r\nQ 10.40625 8.6875 15.234375 7.390625 \r\nQ 20.0625 6.109375 24.8125 6.109375 \r\nQ 31.15625 6.109375 34.5625 8.28125 \r\nQ 37.984375 10.453125 37.984375 14.40625 \r\nQ 37.984375 18.0625 35.515625 20.015625 \r\nQ 33.0625 21.96875 24.703125 23.78125 \r\nL 21.578125 24.515625 \r\nQ 13.234375 26.265625 9.515625 29.90625 \r\nQ 5.8125 33.546875 5.8125 39.890625 \r\nQ 5.8125 47.609375 11.28125 51.796875 \r\nQ 16.75 56 26.8125 56 \r\nQ 31.78125 56 36.171875 55.265625 \r\nQ 40.578125 54.546875 44.28125 53.078125 \r\nz\r\n\" id=\"DejaVuSans-115\"/>\r\n      <path d=\"M 30.609375 48.390625 \r\nQ 23.390625 48.390625 19.1875 42.75 \r\nQ 14.984375 37.109375 14.984375 27.296875 \r\nQ 14.984375 17.484375 19.15625 11.84375 \r\nQ 23.34375 6.203125 30.609375 6.203125 \r\nQ 37.796875 6.203125 41.984375 11.859375 \r\nQ 46.1875 17.53125 46.1875 27.296875 \r\nQ 46.1875 37.015625 41.984375 42.703125 \r\nQ 37.796875 48.390625 30.609375 48.390625 \r\nz\r\nM 30.609375 56 \r\nQ 42.328125 56 49.015625 48.375 \r\nQ 55.71875 40.765625 55.71875 27.296875 \r\nQ 55.71875 13.875 49.015625 6.21875 \r\nQ 42.328125 -1.421875 30.609375 -1.421875 \r\nQ 18.84375 -1.421875 12.171875 6.21875 \r\nQ 5.515625 13.875 5.515625 27.296875 \r\nQ 5.515625 40.765625 12.171875 48.375 \r\nQ 18.84375 56 30.609375 56 \r\nz\r\n\" id=\"DejaVuSans-111\"/>\r\n      <path d=\"M 54.890625 33.015625 \r\nL 54.890625 0 \r\nL 45.90625 0 \r\nL 45.90625 32.71875 \r\nQ 45.90625 40.484375 42.875 44.328125 \r\nQ 39.84375 48.1875 33.796875 48.1875 \r\nQ 26.515625 48.1875 22.3125 43.546875 \r\nQ 18.109375 38.921875 18.109375 30.90625 \r\nL 18.109375 0 \r\nL 9.078125 0 \r\nL 9.078125 54.6875 \r\nL 18.109375 54.6875 \r\nL 18.109375 46.1875 \r\nQ 21.34375 51.125 25.703125 53.5625 \r\nQ 30.078125 56 35.796875 56 \r\nQ 45.21875 56 50.046875 50.171875 \r\nQ 54.890625 44.34375 54.890625 33.015625 \r\nz\r\n\" id=\"DejaVuSans-110\"/>\r\n     </defs>\r\n     <g transform=\"translate(14.798438 138.227031)rotate(-90)scale(0.1 -0.1)\">\r\n      <use xlink:href=\"#DejaVuSans-80\"/>\r\n      <use x=\"58.552734\" xlink:href=\"#DejaVuSans-114\"/>\r\n      <use x=\"97.416016\" xlink:href=\"#DejaVuSans-101\"/>\r\n      <use x=\"158.939453\" xlink:href=\"#DejaVuSans-99\"/>\r\n      <use x=\"213.919922\" xlink:href=\"#DejaVuSans-105\"/>\r\n      <use x=\"241.703125\" xlink:href=\"#DejaVuSans-115\"/>\r\n      <use x=\"293.802734\" xlink:href=\"#DejaVuSans-105\"/>\r\n      <use x=\"321.585938\" xlink:href=\"#DejaVuSans-111\"/>\r\n      <use x=\"382.767578\" xlink:href=\"#DejaVuSans-110\"/>\r\n     </g>\r\n    </g>\r\n   </g>\r\n   <g id=\"line2d_15\">\r\n    <path clip-path=\"url(#pff0ac1b279)\" d=\"M 363.363068 214.731857 \r\nL 363.207781 214.731857 \r\nL 363.207781 214.6224 \r\nL 363.207781 212.331588 \r\nL 363.052493 212.331588 \r\nL 363.052493 212.220858 \r\nL 363.052493 210.077115 \r\nL 362.897205 210.077115 \r\nL 362.897205 209.966517 \r\nL 362.897205 208.095455 \r\nL 362.741918 208.095455 \r\nL 362.741918 207.986863 \r\nL 362.741918 204.947409 \r\nL 362.58663 204.947409 \r\nL 362.58663 204.858692 \r\nL 362.58663 203.089928 \r\nL 362.431343 203.089928 \r\nL 362.431343 202.984545 \r\nL 362.431343 202.392573 \r\nL 362.276055 202.392573 \r\nL 362.276055 202.284805 \r\nL 362.276055 201.242846 \r\nL 362.120768 201.242846 \r\nL 362.120768 201.142769 \r\nL 362.120768 198.268211 \r\nL 361.96548 198.268211 \r\nL 361.96548 198.158597 \r\nL 361.96548 198.032704 \r\nL 361.810192 198.032704 \r\nL 361.810192 197.922265 \r\nL 361.810192 196.780364 \r\nL 361.654905 196.780364 \r\nL 361.654905 196.678784 \r\nL 361.654905 195.728071 \r\nL 361.189042 195.759263 \r\nL 361.189042 195.627609 \r\nL 361.189042 194.028044 \r\nL 361.033755 194.028044 \r\nL 361.033755 193.917785 \r\nL 361.033755 193.566825 \r\nL 360.878467 193.566825 \r\nL 360.878467 193.469195 \r\nL 360.878467 192.250288 \r\nL 360.723179 192.250288 \r\nL 360.723179 192.148852 \r\nL 360.723179 191.190044 \r\nL 360.567892 191.190044 \r\nL 360.567892 191.08548 \r\nL 360.567892 190.422277 \r\nL 360.412604 190.422277 \r\nL 360.412604 190.315404 \r\nL 360.412604 190.254432 \r\nL 360.257317 190.254432 \r\nL 360.257317 190.147007 \r\nL 360.257317 188.716651 \r\nL 360.102029 188.716651 \r\nL 360.102029 188.620411 \r\nL 360.102029 187.966137 \r\nL 359.946742 187.966137 \r\nL 359.946742 187.867834 \r\nL 359.946742 187.754868 \r\nL 359.791454 187.754868 \r\nL 359.791454 187.655942 \r\nL 359.791454 186.953855 \r\nL 359.636167 186.953855 \r\nL 359.636167 186.852698 \r\nL 359.636167 186.405034 \r\nL 359.480879 186.405034 \r\nL 359.480879 186.302316 \r\nL 359.480879 184.252706 \r\nL 359.325591 184.252706 \r\nL 359.325591 184.16142 \r\nL 359.325591 183.313645 \r\nL 359.170304 183.313645 \r\nL 359.170304 183.219985 \r\nL 359.170304 181.750469 \r\nL 359.015016 181.750469 \r\nL 359.015016 181.65282 \r\nL 359.015016 181.319214 \r\nL 358.859729 181.319214 \r\nL 358.859729 181.220414 \r\nL 358.859729 179.008207 \r\nL 358.704441 179.008207 \r\nL 358.704441 178.903351 \r\nL 358.704441 178.609122 \r\nL 358.549154 178.609122 \r\nL 358.549154 178.503157 \r\nL 358.549154 177.76793 \r\nL 358.393866 177.76793 \r\nL 358.393866 177.659669 \r\nL 358.393866 177.458555 \r\nL 358.238578 177.458555 \r\nL 358.238578 177.349407 \r\nL 358.238578 176.964031 \r\nL 357.928003 176.955467 \r\nL 357.928003 176.865273 \r\nL 357.928003 176.701638 \r\nL 357.772716 176.701638 \r\nL 357.772716 176.610811 \r\nL 357.772716 176.219145 \r\nL 357.462141 176.210051 \r\nL 357.462141 176.117989 \r\nL 357.462141 175.826572 \r\nL 357.151565 175.858956 \r\nL 357.151565 175.724118 \r\nL 357.151565 175.556336 \r\nL 356.996278 175.556336 \r\nL 356.996278 175.462599 \r\nL 356.996278 175.399391 \r\nL 356.685703 175.410788 \r\nL 356.685703 175.295469 \r\nL 356.685703 175.01982 \r\nL 356.530415 175.01982 \r\nL 356.530415 174.92467 \r\nL 356.530415 172.077865 \r\nL 356.375128 172.077865 \r\nL 356.375128 171.998125 \r\nL 356.375128 171.522498 \r\nL 356.064552 171.555449 \r\nL 356.064552 171.428953 \r\nL 356.064552 171.246128 \r\nL 355.59869 171.151708 \r\nL 355.59869 171.138834 \r\nL 355.59869 170.491664 \r\nL 355.443402 170.491664 \r\nL 355.443402 170.385112 \r\nL 355.443402 170.315133 \r\nL 355.132827 170.254861 \r\nL 355.132827 170.217873 \r\nL 355.132827 170.194459 \r\nL 354.977539 170.194459 \r\nL 354.977539 170.086992 \r\nL 354.977539 169.875283 \r\nL 354.822252 169.875283 \r\nL 354.822252 169.766954 \r\nL 354.822252 169.411359 \r\nL 354.666964 169.411359 \r\nL 354.666964 169.301797 \r\nL 354.666964 169.182444 \r\nL 354.511677 169.182444 \r\nL 354.511677 169.072241 \r\nL 354.511677 168.95232 \r\nL 354.356389 168.95232 \r\nL 354.356389 168.841472 \r\nL 354.356389 168.333613 \r\nL 354.201102 168.333613 \r\nL 354.201102 168.245471 \r\nL 354.201102 167.952518 \r\nL 354.045814 167.952518 \r\nL 354.045814 167.863515 \r\nL 354.045814 167.789875 \r\nL 353.890526 167.789875 \r\nL 353.890526 167.700475 \r\nL 353.890526 167.453768 \r\nL 353.735239 167.453768 \r\nL 353.735239 167.363597 \r\nL 353.735239 167.28921 \r\nL 353.424664 167.223497 \r\nL 353.424664 167.182529 \r\nL 353.424664 166.657441 \r\nL 353.114089 166.666018 \r\nL 353.114089 166.548754 \r\nL 353.114089 166.397361 \r\nL 352.958801 166.397361 \r\nL 352.958801 166.304654 \r\nL 352.958801 165.256738 \r\nL 352.492938 165.272861 \r\nL 352.492938 165.151645 \r\nL 352.492938 164.866164 \r\nL 352.182363 164.900106 \r\nL 352.182363 164.777759 \r\nL 352.182363 164.332547 \r\nL 352.027076 164.332547 \r\nL 352.027076 164.234959 \r\nL 352.027076 164.208602 \r\nL 351.871788 164.208602 \r\nL 351.871788 164.110684 \r\nL 351.871788 163.898912 \r\nL 351.7165 163.898912 \r\nL 351.7165 163.800244 \r\nL 351.7165 163.720447 \r\nL 351.561213 163.720447 \r\nL 351.561213 163.621322 \r\nL 351.561213 163.461031 \r\nL 351.09535 163.422239 \r\nL 351.09535 163.375974 \r\nL 351.09535 163.160892 \r\nL 350.940063 163.160892 \r\nL 350.940063 163.060282 \r\nL 350.940063 163.033279 \r\nL 350.784775 163.033279 \r\nL 350.784775 162.932324 \r\nL 350.784775 162.878156 \r\nL 350.629487 162.878156 \r\nL 350.629487 162.776792 \r\nL 350.629487 162.203616 \r\nL 349.85305 162.14876 \r\nL 349.85305 162.100572 \r\nL 349.85305 161.546909 \r\nL 349.697762 161.546909 \r\nL 349.697762 161.442136 \r\nL 349.697762 161.386349 \r\nL 349.387187 161.420839 \r\nL 349.387187 161.287682 \r\nL 349.387187 160.781793 \r\nL 349.076612 160.675058 \r\nL 349.076612 160.681343 \r\nL 349.076612 160.539647 \r\nL 348.921324 160.539647 \r\nL 348.921324 160.432225 \r\nL 348.921324 160.375316 \r\nL 348.300174 160.336786 \r\nL 348.300174 160.285825 \r\nL 348.300174 159.596072 \r\nL 347.834311 159.607752 \r\nL 347.834311 159.497704 \r\nL 347.834311 158.973352 \r\nL 347.368449 158.925901 \r\nL 347.368449 158.872774 \r\nL 347.368449 158.54898 \r\nL 347.213161 158.54898 \r\nL 347.213161 158.495284 \r\nL 347.213161 158.376934 \r\nL 346.592011 158.392899 \r\nL 346.592011 158.279433 \r\nL 346.592011 158.070969 \r\nL 346.281436 158.046305 \r\nL 346.281436 157.961797 \r\nL 346.281436 157.782015 \r\nL 345.815573 157.671883 \r\nL 345.815573 157.707003 \r\nL 345.815573 157.405303 \r\nL 345.660285 157.405303 \r\nL 345.660285 157.319355 \r\nL 345.660285 157.198012 \r\nL 345.504998 157.198012 \r\nL 345.504998 157.111609 \r\nL 345.504998 157.050727 \r\nL 345.194423 156.994495 \r\nL 345.194423 156.968689 \r\nL 345.194423 156.877027 \r\nL 345.039135 156.877027 \r\nL 345.039135 156.789848 \r\nL 345.039135 156.081068 \r\nL 344.883847 156.081068 \r\nL 344.883847 155.992257 \r\nL 344.883847 155.71209 \r\nL 344.573272 155.716211 \r\nL 344.573272 155.626571 \r\nL 344.573272 155.563982 \r\nL 344.262697 155.568036 \r\nL 344.262697 155.478001 \r\nL 344.262697 154.847 \r\nL 343.641547 154.794603 \r\nL 343.641547 154.766482 \r\nL 343.641547 154.639059 \r\nL 343.020397 154.649931 \r\nL 343.020397 154.557635 \r\nL 343.020397 154.365333 \r\nL 342.865109 154.365333 \r\nL 342.865109 154.272404 \r\nL 342.865109 154.175831 \r\nL 342.399246 154.182641 \r\nL 342.399246 154.089184 \r\nL 342.399246 154.056861 \r\nL 342.243959 154.056861 \r\nL 342.243959 153.963094 \r\nL 342.243959 153.898264 \r\nL 341.778096 153.93727 \r\nL 341.778096 153.810579 \r\nL 341.778096 153.745483 \r\nL 341.312233 153.719286 \r\nL 341.312233 153.657183 \r\nL 341.312233 153.395314 \r\nL 341.156946 153.395314 \r\nL 341.156946 153.299812 \r\nL 341.156946 153.266932 \r\nL 340.846371 153.204058 \r\nL 340.846371 153.174034 \r\nL 340.846371 153.141052 \r\nL 340.691083 153.141052 \r\nL 340.691083 153.044861 \r\nL 340.691083 152.912482 \r\nL 340.380508 152.882122 \r\nL 340.380508 152.818507 \r\nL 340.380508 152.35175 \r\nL 340.22522 152.35175 \r\nL 340.22522 152.25374 \r\nL 340.22522 152.153055 \r\nL 339.914645 152.189064 \r\nL 339.914645 152.056933 \r\nL 339.914645 151.481819 \r\nL 339.759358 151.481819 \r\nL 339.759358 151.381798 \r\nL 339.759358 151.347732 \r\nL 339.448782 151.349731 \r\nL 339.448782 151.249316 \r\nL 339.448782 150.596825 \r\nL 338.827632 150.601649 \r\nL 338.827632 150.499402 \r\nL 338.827632 150.082272 \r\nL 338.361769 150.084945 \r\nL 338.361769 150.016386 \r\nL 338.361769 149.736025 \r\nL 338.051194 149.737178 \r\nL 338.051194 149.632766 \r\nL 338.051194 149.137825 \r\nL 337.585332 149.068391 \r\nL 337.585332 149.033588 \r\nL 337.585332 148.28151 \r\nL 337.274756 148.281872 \r\nL 337.274756 148.173959 \r\nL 337.274756 148.029311 \r\nL 336.808894 148.065746 \r\nL 336.808894 147.9211 \r\nL 336.808894 147.81204 \r\nL 336.653606 147.81204 \r\nL 336.653606 147.702837 \r\nL 336.653606 147.447078 \r\nL 336.343031 147.336996 \r\nL 336.343031 147.336832 \r\nL 336.343031 147.263368 \r\nL 336.032456 147.299925 \r\nL 336.032456 147.152481 \r\nL 336.032456 147.078727 \r\nL 335.721881 147.078417 \r\nL 335.721881 147.041156 \r\nL 335.721881 146.967194 \r\nL 335.256018 146.96682 \r\nL 335.256018 146.891899 \r\nL 335.256018 145.995251 \r\nL 334.790155 145.918027 \r\nL 334.790155 145.917051 \r\nL 334.790155 145.728163 \r\nL 334.634868 145.728163 \r\nL 334.634868 145.651326 \r\nL 334.634868 145.461572 \r\nL 334.324293 145.460329 \r\nL 334.324293 145.382942 \r\nL 334.324293 144.885876 \r\nL 334.013718 144.845882 \r\nL 334.013718 144.805819 \r\nL 334.013718 144.613199 \r\nL 333.703142 144.572842 \r\nL 333.703142 144.532414 \r\nL 333.703142 144.066757 \r\nL 333.547855 144.066757 \r\nL 333.547855 143.986715 \r\nL 333.547855 143.556244 \r\nL 333.081992 143.512169 \r\nL 333.081992 142.996221 \r\nL 332.771417 142.914098 \r\nL 332.771417 142.911327 \r\nL 332.771417 142.791975 \r\nL 332.616129 142.791975 \r\nL 332.616129 142.709395 \r\nL 332.616129 142.669493 \r\nL 332.150267 142.58367 \r\nL 332.150267 142.58069 \r\nL 332.150267 142.460481 \r\nL 331.994979 142.460481 \r\nL 331.994979 142.377117 \r\nL 331.994979 142.336928 \r\nL 331.529116 142.250106 \r\nL 331.529116 142.246915 \r\nL 331.529116 141.639365 \r\nL 331.063254 141.550697 \r\nL 331.063254 141.547066 \r\nL 331.063254 140.973339 \r\nL 330.286816 140.920095 \r\nL 330.286816 140.870699 \r\nL 330.286816 140.787984 \r\nL 329.976241 140.825256 \r\nL 329.976241 140.696813 \r\nL 329.976241 140.655316 \r\nL 329.665666 140.692626 \r\nL 329.665666 140.56371 \r\nL 329.665666 140.271805 \r\nL 329.510378 140.271805 \r\nL 329.510378 140.18366 \r\nL 329.510378 140.099876 \r\nL 328.11279 140.020976 \r\nL 328.11279 140.016329 \r\nL 328.11279 139.210114 \r\nL 327.646927 139.157009 \r\nL 327.646927 139.108991 \r\nL 327.646927 139.023305 \r\nL 327.025777 138.964401 \r\nL 327.025777 138.959047 \r\nL 327.025777 138.786802 \r\nL 326.559914 138.689451 \r\nL 326.559914 138.683906 \r\nL 326.559914 138.64064 \r\nL 326.404627 138.64064 \r\nL 326.404627 138.548388 \r\nL 326.404627 138.418179 \r\nL 326.249339 138.418179 \r\nL 326.249339 138.32545 \r\nL 326.249339 138.107478 \r\nL 325.938764 138.145216 \r\nL 325.938764 138.008094 \r\nL 325.938764 137.964306 \r\nL 325.628189 137.870544 \r\nL 325.628189 137.776548 \r\nL 325.162326 137.776548 \r\nL 325.162326 137.669823 \r\nL 325.162326 137.448901 \r\nL 324.385888 137.467584 \r\nL 324.385888 137.372367 \r\nL 324.385888 136.881917 \r\nL 323.60945 136.809743 \r\nL 323.60945 136.577893 \r\nL 323.143588 136.654004 \r\nL 323.143588 136.692096 \r\nL 323.143588 136.601892 \r\nL 322.522437 136.625968 \r\nL 322.522437 136.528427 \r\nL 322.522437 136.437802 \r\nL 322.056575 136.423462 \r\nL 322.056575 136.370828 \r\nL 322.056575 136.097513 \r\nL 321.901287 136.097513 \r\nL 321.901287 135.998696 \r\nL 321.901287 135.95295 \r\nL 321.435424 135.892064 \r\nL 321.435424 135.884493 \r\nL 321.435424 135.700713 \r\nL 321.124849 135.693005 \r\nL 321.124849 135.593089 \r\nL 321.124849 135.269457 \r\nL 319.882549 135.330188 \r\nL 319.882549 135.391156 \r\nL 319.882549 135.298137 \r\nL 319.727261 135.298137 \r\nL 319.727261 135.196891 \r\nL 319.727261 134.446836 \r\nL 319.571974 134.446836 \r\nL 319.571974 134.343808 \r\nL 319.571974 134.012506 \r\nL 319.261398 134.003538 \r\nL 319.261398 133.947037 \r\nL 319.261398 133.326389 \r\nL 318.950823 133.220885 \r\nL 318.950823 133.163229 \r\nL 318.640248 133.153623 \r\nL 318.640248 133.095805 \r\nL 318.640248 132.99931 \r\nL 318.174385 132.941242 \r\nL 318.174385 132.970059 \r\nL 318.174385 132.824756 \r\nL 316.932085 132.755295 \r\nL 316.932085 132.745319 \r\nL 316.932085 132.647714 \r\nL 315.845072 132.636176 \r\nL 315.845072 132.576996 \r\nL 315.845072 132.52789 \r\nL 315.379209 132.458276 \r\nL 315.379209 132.448018 \r\nL 315.379209 132.300071 \r\nL 315.068634 132.289689 \r\nL 315.068634 132.229835 \r\nL 315.068634 132.081264 \r\nL 314.913346 132.081264 \r\nL 314.913346 131.971415 \r\nL 314.913346 131.87199 \r\nL 314.136909 131.928734 \r\nL 314.136909 131.768276 \r\nL 314.136909 131.71829 \r\nL 313.826333 131.65736 \r\nL 313.826333 131.646435 \r\nL 313.826333 130.840219 \r\nL 313.049896 130.793903 \r\nL 313.049896 130.731406 \r\nL 313.049896 129.706417 \r\nL 312.739321 129.693948 \r\nL 312.739321 129.474429 \r\nL 312.584033 129.474429 \r\nL 312.584033 129.409875 \r\nL 312.584033 129.35795 \r\nL 312.428745 129.35795 \r\nL 312.428745 129.293183 \r\nL 312.428745 129.241144 \r\nL 312.273458 129.241144 \r\nL 312.273458 129.176164 \r\nL 312.273458 129.071823 \r\nL 311.652308 129.111048 \r\nL 311.652308 129.228889 \r\nL 311.652308 129.176645 \r\nL 311.186445 129.098355 \r\nL 311.186445 128.822747 \r\nL 310.87587 128.822747 \r\nL 310.87587 128.743502 \r\nL 310.87587 128.108069 \r\nL 310.565295 128.094224 \r\nL 310.565295 128.027077 \r\nL 310.565295 127.920399 \r\nL 310.254719 127.852947 \r\nL 310.254719 127.838871 \r\nL 310.254719 127.517179 \r\nL 309.633569 127.527891 \r\nL 309.633569 127.459632 \r\nL 309.633569 127.351747 \r\nL 309.478282 127.351747 \r\nL 309.478282 127.283176 \r\nL 309.478282 127.01237 \r\nL 309.167706 127.01237 \r\nL 309.167706 126.92836 \r\nL 309.167706 126.873954 \r\nL 308.701844 126.789512 \r\nL 308.701844 126.774481 \r\nL 308.701844 126.555772 \r\nL 308.080693 126.510008 \r\nL 308.080693 126.49471 \r\nL 308.080693 126.274642 \r\nL 307.614831 126.188406 \r\nL 307.614831 126.172812 \r\nL 307.614831 126.006809 \r\nL 307.459543 126.006809 \r\nL 307.459543 125.935594 \r\nL 307.459543 125.713345 \r\nL 306.683105 125.760746 \r\nL 306.683105 125.688921 \r\nL 306.683105 125.40923 \r\nL 306.527818 125.40923 \r\nL 306.527818 125.336807 \r\nL 306.527818 125.168235 \r\nL 306.37253 125.168235 \r\nL 306.37253 125.095385 \r\nL 306.37253 124.926173 \r\nL 306.061955 124.852895 \r\nL 306.061955 124.836079 \r\nL 306.061955 124.666079 \r\nL 305.440805 124.615048 \r\nL 305.440805 124.597988 \r\nL 305.440805 124.541044 \r\nL 304.664367 124.529492 \r\nL 304.664367 124.455116 \r\nL 304.664367 123.880887 \r\nL 304.198504 123.903064 \r\nL 304.198504 123.827539 \r\nL 304.198504 123.596045 \r\nL 303.887929 123.519976 \r\nL 303.887929 123.501862 \r\nL 303.887929 123.327352 \r\nL 303.422066 123.290738 \r\nL 303.422066 123.272389 \r\nL 303.422066 123.097027 \r\nL 303.266779 123.097027 \r\nL 303.266779 123.019904 \r\nL 303.266779 122.72627 \r\nL 303.111491 122.72627 \r\nL 303.111491 122.648491 \r\nL 303.111491 122.589535 \r\nL 302.179766 122.494252 \r\nL 302.179766 122.356434 \r\nL 301.869191 122.396568 \r\nL 301.869191 122.258338 \r\nL 301.869191 122.13918 \r\nL 301.403328 122.040405 \r\nL 301.403328 122.080603 \r\nL 301.403328 121.901045 \r\nL 300.937465 121.981489 \r\nL 300.937465 122.021757 \r\nL 300.316315 121.962638 \r\nL 300.316315 121.942871 \r\nL 300.316315 121.82246 \r\nL 298.763439 121.824215 \r\nL 298.763439 121.743516 \r\nL 298.763439 121.682789 \r\nL 298.297577 121.642435 \r\nL 298.297577 121.622212 \r\nL 298.297577 121.500285 \r\nL 298.142289 121.500285 \r\nL 298.142289 121.418829 \r\nL 298.142289 121.357691 \r\nL 297.987001 121.357691 \r\nL 297.987001 121.398376 \r\nL 297.987001 121.09193 \r\nL 297.210564 121.131845 \r\nL 297.210564 120.987778 \r\nL 297.210564 120.740626 \r\nL 296.589413 120.677058 \r\nL 296.589413 120.655802 \r\nL 296.589413 120.15732 \r\nL 296.434126 120.15732 \r\nL 296.434126 120.072978 \r\nL 296.434126 119.82212 \r\nL 295.968263 119.714972 \r\nL 295.968263 119.75578 \r\nL 295.968263 119.376935 \r\nL 295.812975 119.376935 \r\nL 295.812975 119.291019 \r\nL 295.812975 119.227592 \r\nL 295.036538 119.327443 \r\nL 295.036538 119.368357 \r\nL 295.036538 119.241158 \r\nL 294.88125 119.241158 \r\nL 294.88125 119.154665 \r\nL 294.88125 118.707078 \r\nL 294.415387 118.660485 \r\nL 294.415387 118.637132 \r\nL 294.415387 118.379499 \r\nL 293.949525 118.396797 \r\nL 293.949525 118.308474 \r\nL 293.949525 118.24375 \r\nL 293.638949 118.219937 \r\nL 293.638949 118.196084 \r\nL 293.638949 118.066231 \r\nL 293.017799 118.059207 \r\nL 293.017799 117.969932 \r\nL 293.017799 117.904675 \r\nL 292.551936 117.986877 \r\nL 292.551936 118.028029 \r\nL 292.396649 118.028029 \r\nL 292.396649 117.938461 \r\nL 292.396649 117.610642 \r\nL 292.086074 117.651791 \r\nL 292.086074 117.627229 \r\nL 292.086074 117.495578 \r\nL 291.930786 117.495578 \r\nL 291.930786 117.404876 \r\nL 291.930786 117.272772 \r\nL 291.775499 117.272772 \r\nL 291.775499 117.181609 \r\nL 291.775499 117.115356 \r\nL 291.620211 117.115356 \r\nL 291.620211 117.023848 \r\nL 291.620211 116.357103 \r\nL 290.843773 116.439317 \r\nL 290.843773 116.495862 \r\nL 290.222623 116.552595 \r\nL 290.222623 116.392212 \r\nL 290.222623 116.122459 \r\nL 289.912048 116.028524 \r\nL 289.912048 116.069837 \r\nL 289.912048 115.934354 \r\nL 289.75676 115.934354 \r\nL 289.75676 115.839947 \r\nL 289.75676 115.499619 \r\nL 289.601473 115.499619 \r\nL 289.601473 115.404348 \r\nL 289.601473 115.335985 \r\nL 288.825035 115.432858 \r\nL 288.825035 115.474268 \r\nL 288.825035 115.33714 \r\nL 288.359172 115.351346 \r\nL 288.359172 115.255283 \r\nL 288.359172 115.186424 \r\nL 287.272159 115.090317 \r\nL 287.272159 115.131951 \r\nL 287.272159 114.993308 \r\nL 286.185146 114.895719 \r\nL 286.185146 114.937519 \r\nL 286.185146 114.72797 \r\nL 285.719283 114.811605 \r\nL 285.719283 114.853477 \r\nL 285.719283 114.783472 \r\nL 285.408708 114.685152 \r\nL 285.408708 114.727059 \r\nL 285.408708 114.656849 \r\nL 285.098133 114.628497 \r\nL 285.098133 114.600096 \r\nL 285.098133 114.459204 \r\nL 284.63227 114.401964 \r\nL 284.63227 114.37327 \r\nL 284.63227 114.089874 \r\nL 283.855833 114.044653 \r\nL 283.855833 114.015487 \r\nL 283.855833 113.729866 \r\nL 283.545257 113.700349 \r\nL 283.545257 113.670781 \r\nL 283.545257 113.59907 \r\nL 282.924107 113.509828 \r\nL 282.924107 113.4079 \r\nL 282.613532 113.450073 \r\nL 282.613532 113.347887 \r\nL 282.613532 113.058334 \r\nL 282.458244 113.058334 \r\nL 282.458244 112.955317 \r\nL 282.458244 112.882629 \r\nL 282.302957 112.882629 \r\nL 282.302957 112.779198 \r\nL 282.302957 112.706304 \r\nL 281.837094 112.644629 \r\nL 281.837094 112.686837 \r\nL 281.837094 112.393936 \r\nL 281.681807 112.393936 \r\nL 281.681807 112.28926 \r\nL 281.681807 112.142132 \r\nL 281.371231 112.110629 \r\nL 281.371231 112.079071 \r\nL 281.371231 112.00525 \r\nL 281.215944 112.00525 \r\nL 281.215944 111.899589 \r\nL 281.215944 111.751458 \r\nL 281.060656 111.751458 \r\nL 281.060656 111.645222 \r\nL 281.060656 111.570911 \r\nL 280.439506 111.548662 \r\nL 280.439506 111.51636 \r\nL 280.439506 111.441726 \r\nL 279.973643 111.484001 \r\nL 279.973643 111.568665 \r\nL 279.973643 111.419107 \r\nL 279.352493 111.35398 \r\nL 279.352493 111.363758 \r\nL 279.352493 111.138133 \r\nL 279.197205 111.138133 \r\nL 279.197205 111.029771 \r\nL 279.197205 110.954276 \r\nL 279.041918 110.954276 \r\nL 279.041918 110.845469 \r\nL 279.041918 110.618117 \r\nL 278.88663 110.618117 \r\nL 278.88663 110.508557 \r\nL 278.88663 110.280127 \r\nL 278.576055 110.246172 \r\nL 278.576055 110.212156 \r\nL 278.576055 109.982593 \r\nL 277.799617 109.998677 \r\nL 277.799617 109.964264 \r\nL 277.799617 109.036198 \r\nL 277.489042 109.000677 \r\nL 277.489042 108.965091 \r\nL 277.489042 108.887113 \r\nL 276.712604 108.822087 \r\nL 276.712604 108.78617 \r\nL 276.712604 108.629255 \r\nL 275.780879 108.684382 \r\nL 275.780879 108.569267 \r\nL 275.780879 108.332165 \r\nL 275.315016 108.295507 \r\nL 275.315016 108.221985 \r\nL 275.315016 108.14253 \r\nL 275.004441 108.185121 \r\nL 275.004441 108.068549 \r\nL 275.004441 107.909048 \r\nL 274.538578 107.99429 \r\nL 274.538578 108.036971 \r\nL 274.538578 107.71686 \r\nL 274.383291 107.71686 \r\nL 274.383291 107.679277 \r\nL 274.383291 107.357585 \r\nL 274.228003 107.357585 \r\nL 274.228003 107.319557 \r\nL 274.228003 107.158066 \r\nL 273.762141 107.081415 \r\nL 273.762141 107.124048 \r\nL 273.762141 107.042981 \r\nL 273.451565 107.004473 \r\nL 273.451565 106.965893 \r\nL 273.451565 106.640088 \r\nL 272.985703 106.561938 \r\nL 272.985703 106.604608 \r\nL 272.985703 106.358803 \r\nL 272.830415 106.358803 \r\nL 272.830415 106.319347 \r\nL 272.830415 106.072545 \r\nL 272.675128 106.072545 \r\nL 272.675128 106.03272 \r\nL 272.675128 105.536391 \r\nL 271.588115 105.625845 \r\nL 271.588115 105.334907 \r\nL 271.432827 105.334907 \r\nL 271.432827 105.293963 \r\nL 271.432827 105.042559 \r\nL 270.345814 105.046626 \r\nL 270.345814 105.005122 \r\nL 270.345814 104.920689 \r\nL 270.190526 104.920689 \r\nL 270.190526 104.879002 \r\nL 270.190526 104.709683 \r\nL 269.724664 104.62565 \r\nL 269.724664 104.66852 \r\nL 269.724664 104.583509 \r\nL 269.569376 104.583509 \r\nL 269.569376 104.541286 \r\nL 269.569376 104.456088 \r\nL 269.414089 104.456088 \r\nL 269.414089 104.413677 \r\nL 269.414089 104.24282 \r\nL 269.258801 104.24282 \r\nL 269.258801 104.200116 \r\nL 269.258801 104.114456 \r\nL 269.103513 104.114456 \r\nL 269.103513 104.071562 \r\nL 269.103513 103.813757 \r\nL 268.948226 103.813757 \r\nL 268.948226 103.77046 \r\nL 268.948226 103.684249 \r\nL 268.637651 103.64076 \r\nL 268.637651 103.597185 \r\nL 268.637651 103.424077 \r\nL 267.861213 103.335075 \r\nL 267.861213 103.378008 \r\nL 267.861213 103.290957 \r\nL 267.084775 103.288489 \r\nL 267.084775 103.244147 \r\nL 267.084775 102.805721 \r\nL 266.618912 102.891745 \r\nL 266.618912 102.934821 \r\nL 266.618912 102.758699 \r\nL 266.15305 102.668324 \r\nL 266.15305 102.71144 \r\nL 266.15305 102.445853 \r\nL 265.221324 102.484005 \r\nL 265.221324 102.349125 \r\nL 265.221324 101.991753 \r\nL 263.823736 101.97873 \r\nL 263.823736 101.932004 \r\nL 263.823736 101.841761 \r\nL 263.513161 101.885182 \r\nL 263.513161 101.747789 \r\nL 263.513161 101.65722 \r\nL 263.202586 101.609972 \r\nL 263.202586 101.562626 \r\nL 263.202586 101.380738 \r\nL 263.047298 101.380738 \r\nL 263.047298 101.333058 \r\nL 263.047298 101.241855 \r\nL 262.736723 101.28528 \r\nL 262.736723 101.145962 \r\nL 262.736723 100.962796 \r\nL 261.960285 100.952983 \r\nL 261.960285 100.904488 \r\nL 261.960285 100.812351 \r\nL 261.804998 100.812351 \r\nL 261.804998 100.763633 \r\nL 261.804998 100.300899 \r\nL 261.64971 100.300899 \r\nL 261.64971 100.251469 \r\nL 261.64971 100.158509 \r\nL 261.339135 100.108853 \r\nL 261.339135 100.059093 \r\nL 261.339135 99.965789 \r\nL 261.02856 99.9158 \r\nL 261.02856 99.865707 \r\nL 261.02856 99.772056 \r\nL 260.252122 99.852283 \r\nL 260.252122 99.895891 \r\nL 260.252122 99.707832 \r\nL 260.096834 99.707832 \r\nL 260.096834 99.657228 \r\nL 260.096834 99.27941 \r\nL 259.941547 99.27941 \r\nL 259.941547 99.228191 \r\nL 259.941547 98.848259 \r\nL 259.630972 98.796419 \r\nL 259.630972 98.83986 \r\nL 259.630972 98.265984 \r\nL 259.165109 98.16045 \r\nL 259.165109 98.203806 \r\nL 259.165109 97.914617 \r\nL 258.854534 97.861303 \r\nL 258.854534 97.807874 \r\nL 258.854534 97.614034 \r\nL 258.699246 97.614034 \r\nL 258.699246 97.560225 \r\nL 258.699246 97.170757 \r\nL 257.922808 97.148224 \r\nL 257.922808 97.093561 \r\nL 257.922808 96.995467 \r\nL 256.680508 97.004094 \r\nL 256.680508 96.948886 \r\nL 256.680508 96.453459 \r\nL 256.369933 96.397437 \r\nL 256.369933 96.440873 \r\nL 256.369933 96.341292 \r\nL 256.059358 96.285024 \r\nL 256.059358 96.328493 \r\nL 256.059358 96.228632 \r\nL 255.90407 96.228632 \r\nL 255.90407 96.172116 \r\nL 255.90407 95.871448 \r\nL 255.593495 95.914858 \r\nL 255.593495 95.857809 \r\nL 255.593495 95.757191 \r\nL 255.127632 95.844124 \r\nL 255.127632 95.887662 \r\nL 255.127632 95.584857 \r\nL 254.817057 95.527157 \r\nL 254.817057 95.570665 \r\nL 254.817057 95.46933 \r\nL 254.506482 95.512853 \r\nL 254.506482 95.454913 \r\nL 254.506482 95.1497 \r\nL 254.195907 95.19319 \r\nL 254.195907 95.1347 \r\nL 254.195907 94.827927 \r\nL 253.885332 94.768864 \r\nL 253.885332 94.812337 \r\nL 253.885332 94.709669 \r\nL 253.730044 94.709669 \r\nL 253.730044 94.650342 \r\nL 253.730044 94.237924 \r\nL 253.264181 94.22125 \r\nL 253.264181 94.161072 \r\nL 253.264181 93.849534 \r\nL 252.798319 93.936275 \r\nL 252.798319 93.979719 \r\nL 252.798319 93.875536 \r\nL 252.177168 93.918995 \r\nL 252.177168 94.049667 \r\nL 250.934868 94.146823 \r\nL 250.934868 94.190759 \r\nL 250.934868 93.55923 \r\nL 250.77958 93.55923 \r\nL 250.77958 93.497294 \r\nL 250.77958 93.391461 \r\nL 250.003142 93.460683 \r\nL 250.003142 93.504603 \r\nL 250.003142 93.398348 \r\nL 249.692567 93.335869 \r\nL 249.692567 93.379818 \r\nL 249.692567 93.059733 \r\nL 249.226705 93.147566 \r\nL 249.226705 93.191559 \r\nL 249.226705 92.977333 \r\nL 248.605554 92.894454 \r\nL 248.605554 92.938505 \r\nL 248.605554 92.830809 \r\nL 248.450267 92.830809 \r\nL 248.450267 92.767015 \r\nL 248.450267 92.334321 \r\nL 248.294979 92.334321 \r\nL 248.294979 92.269724 \r\nL 248.294979 92.16107 \r\nL 247.829116 92.248931 \r\nL 247.829116 92.292939 \r\nL 247.363254 92.381109 \r\nL 247.363254 92.425272 \r\nL 247.363254 92.097862 \r\nL 247.207966 92.097862 \r\nL 247.207966 92.03253 \r\nL 247.207966 91.81328 \r\nL 246.742103 91.901404 \r\nL 246.742103 91.945545 \r\nL 246.742103 91.725544 \r\nL 246.276241 91.813825 \r\nL 246.276241 91.858044 \r\nL 245.65509 91.770025 \r\nL 245.65509 91.814375 \r\nL 245.65509 91.59278 \r\nL 245.499803 91.59278 \r\nL 245.499803 91.526069 \r\nL 245.499803 91.414902 \r\nL 245.189228 91.459199 \r\nL 245.189228 91.39217 \r\nL 245.189228 91.280657 \r\nL 245.03394 91.280657 \r\nL 245.03394 91.213294 \r\nL 245.03394 91.101474 \r\nL 244.723365 91.14577 \r\nL 244.723365 91.078084 \r\nL 244.723365 90.741172 \r\nL 244.568077 90.741172 \r\nL 244.568077 90.672797 \r\nL 244.568077 90.107687 \r\nL 244.257502 90.151731 \r\nL 244.257502 90.082313 \r\nL 244.257502 89.968661 \r\nL 244.102215 89.968661 \r\nL 244.102215 89.898895 \r\nL 244.102215 89.784926 \r\nL 243.79164 89.828961 \r\nL 243.79164 89.758856 \r\nL 243.79164 89.644526 \r\nL 243.636352 89.644526 \r\nL 243.636352 89.57407 \r\nL 243.636352 89.344627 \r\nL 243.325777 89.273634 \r\nL 243.325777 89.317625 \r\nL 243.325777 88.508562 \r\nL 242.394051 88.611423 \r\nL 242.394051 88.655386 \r\nL 242.394051 88.538829 \r\nL 242.083476 88.538829 \r\nL 242.083476 88.510039 \r\nL 242.083476 88.041438 \r\nL 241.772901 87.967736 \r\nL 241.772901 88.0116 \r\nL 241.772901 87.893851 \r\nL 241.462326 87.819783 \r\nL 241.462326 87.863664 \r\nL 241.462326 87.271528 \r\nL 241.151751 87.271528 \r\nL 241.151751 87.240026 \r\nL 241.151751 86.762686 \r\nL 240.220026 86.861169 \r\nL 240.220026 86.904972 \r\nL 239.598875 86.79598 \r\nL 239.598875 86.839907 \r\nL 239.598875 86.719267 \r\nL 239.443588 86.719267 \r\nL 239.443588 86.642359 \r\nL 239.443588 86.400218 \r\nL 239.133013 86.444062 \r\nL 239.133013 86.366562 \r\nL 239.133013 86.24501 \r\nL 238.511862 86.332778 \r\nL 238.511862 86.420769 \r\nL 238.511862 86.054591 \r\nL 238.201287 85.976101 \r\nL 238.201287 86.020038 \r\nL 238.201287 85.281922 \r\nL 237.890712 85.201989 \r\nL 237.890712 85.245683 \r\nL 237.890712 85.121851 \r\nL 237.735424 85.121851 \r\nL 237.735424 85.041506 \r\nL 237.735424 84.543737 \r\nL 237.424849 84.462335 \r\nL 237.424849 84.505833 \r\nL 237.424849 84.130018 \r\nL 236.958987 84.216865 \r\nL 236.958987 84.260374 \r\nL 236.648411 84.303938 \r\nL 236.648411 84.221697 \r\nL 236.648411 83.96948 \r\nL 236.337836 83.886589 \r\nL 236.337836 83.930109 \r\nL 236.337836 83.803482 \r\nL 235.561398 83.723727 \r\nL 235.561398 83.767368 \r\nL 235.561398 83.384674 \r\nL 235.095536 83.471797 \r\nL 235.095536 83.515445 \r\nL 235.095536 83.13074 \r\nL 234.629673 83.089188 \r\nL 234.629673 83.132785 \r\nL 234.629673 82.745538 \r\nL 234.16381 82.832565 \r\nL 234.16381 82.876165 \r\nL 234.16381 82.74657 \r\nL 233.697948 82.703948 \r\nL 233.697948 82.747608 \r\nL 233.697948 82.617496 \r\nL 233.54266 82.617496 \r\nL 233.54266 82.530812 \r\nL 233.54266 82.400295 \r\nL 233.387372 82.400295 \r\nL 233.387372 82.313148 \r\nL 233.387372 82.182224 \r\nL 233.076797 82.225768 \r\nL 233.076797 82.138154 \r\nL 233.076797 81.611524 \r\nL 232.766222 81.52273 \r\nL 232.766222 81.566094 \r\nL 232.766222 81.433697 \r\nL 232.455647 81.344423 \r\nL 232.455647 81.387784 \r\nL 232.455647 81.121854 \r\nL 232.145072 81.031857 \r\nL 232.145072 81.075153 \r\nL 232.145072 80.941615 \r\nL 231.679209 81.028261 \r\nL 231.679209 81.071672 \r\nL 231.679209 80.93777 \r\nL 231.213346 80.890438 \r\nL 231.213346 80.933904 \r\nL 231.213346 80.799451 \r\nL 231.058059 80.799451 \r\nL 231.058059 80.708215 \r\nL 231.058059 80.573332 \r\nL 230.592196 80.660186 \r\nL 230.592196 80.703701 \r\nL 230.126333 80.790912 \r\nL 230.126333 80.834607 \r\nL 229.971046 80.834607 \r\nL 229.971046 80.742855 \r\nL 229.971046 80.607162 \r\nL 229.815758 80.607162 \r\nL 229.815758 80.514908 \r\nL 229.815758 80.378778 \r\nL 228.41817 80.455592 \r\nL 228.41817 80.49957 \r\nL 228.41817 80.362294 \r\nL 228.107595 80.406269 \r\nL 228.107595 80.312707 \r\nL 228.107595 80.17492 \r\nL 227.17587 80.257056 \r\nL 227.17587 80.301264 \r\nL 226.088857 80.289692 \r\nL 226.088857 80.19478 \r\nL 226.088857 79.354095 \r\nL 225.622994 79.301413 \r\nL 225.622994 79.345571 \r\nL 225.622994 79.204356 \r\nL 224.846556 79.097751 \r\nL 224.846556 79.142015 \r\nL 224.846556 78.714903 \r\nL 224.380693 78.8032 \r\nL 224.380693 78.847444 \r\nL 224.380693 78.704453 \r\nL 224.225406 78.704453 \r\nL 224.225406 78.605422 \r\nL 224.225406 78.31827 \r\nL 223.759543 78.262475 \r\nL 223.759543 78.306615 \r\nL 223.759543 77.873059 \r\nL 223.29368 77.961096 \r\nL 223.29368 78.00521 \r\nL 223.29368 77.714686 \r\nL 222.827818 77.802813 \r\nL 222.827818 77.846972 \r\nL 222.67253 77.846972 \r\nL 222.67253 77.745322 \r\nL 222.67253 77.599235 \r\nL 222.206667 77.687579 \r\nL 222.206667 77.731848 \r\nL 221.896092 77.629583 \r\nL 221.896092 77.673907 \r\nL 221.896092 77.379915 \r\nL 221.740805 77.379915 \r\nL 221.740805 77.276758 \r\nL 221.740805 76.981318 \r\nL 221.585517 76.981318 \r\nL 221.585517 76.87727 \r\nL 221.585517 76.133372 \r\nL 221.119654 76.071192 \r\nL 221.119654 76.114918 \r\nL 221.119654 75.814902 \r\nL 220.498504 75.795418 \r\nL 220.498504 75.839167 \r\nL 220.498504 75.537172 \r\nL 220.032641 75.624546 \r\nL 220.032641 75.668331 \r\nL 219.722066 75.712182 \r\nL 219.722066 75.60436 \r\nL 219.722066 75.452393 \r\nL 218.635053 75.366719 \r\nL 218.635053 75.45476 \r\nL 218.635053 75.148071 \r\nL 218.324478 75.192026 \r\nL 218.324478 75.082188 \r\nL 218.324478 74.928096 \r\nL 217.858615 75.016005 \r\nL 217.858615 75.06006 \r\nL 217.392753 75.148372 \r\nL 217.392753 75.192628 \r\nL 217.392753 74.727426 \r\nL 217.082178 74.771496 \r\nL 217.082178 74.659921 \r\nL 217.082178 74.34778 \r\nL 216.92689 74.34778 \r\nL 216.92689 74.391728 \r\nL 216.92689 74.235211 \r\nL 216.461027 74.323137 \r\nL 216.461027 74.367201 \r\nL 216.461027 74.210183 \r\nL 215.995165 74.298342 \r\nL 215.995165 74.342523 \r\nL 215.995165 74.027235 \r\nL 215.529302 73.957265 \r\nL 215.529302 74.001387 \r\nL 215.529302 73.842866 \r\nL 215.218727 73.886968 \r\nL 215.218727 73.772193 \r\nL 215.218727 73.613 \r\nL 215.063439 73.613 \r\nL 215.063439 73.657061 \r\nL 215.063439 73.497529 \r\nL 214.908152 73.497529 \r\nL 214.908152 73.541568 \r\nL 214.908152 73.381698 \r\nL 214.442289 73.469801 \r\nL 214.442289 73.513956 \r\nL 214.442289 73.353563 \r\nL 213.976426 73.441898 \r\nL 213.976426 73.48617 \r\nL 213.510564 73.574923 \r\nL 213.510564 73.619405 \r\nL 213.199988 73.663956 \r\nL 213.199988 73.547199 \r\nL 213.199988 73.385564 \r\nL 212.734126 73.312574 \r\nL 212.734126 73.35713 \r\nL 212.734126 73.03202 \r\nL 212.423551 73.076459 \r\nL 212.423551 72.957838 \r\nL 212.423551 72.794447 \r\nL 211.8024 72.763897 \r\nL 211.8024 72.808405 \r\nL 211.8024 72.644111 \r\nL 211.336538 72.733151 \r\nL 211.336538 72.777777 \r\nL 211.336538 72.612931 \r\nL 210.5601 72.62627 \r\nL 210.5601 72.505199 \r\nL 210.5601 72.172667 \r\nL 210.094237 72.26188 \r\nL 210.094237 72.306595 \r\nL 210.094237 72.139629 \r\nL 209.628374 72.229078 \r\nL 209.628374 72.273912 \r\nL 209.473087 72.273912 \r\nL 209.473087 72.318819 \r\nL 209.473087 72.151182 \r\nL 209.317799 72.151182 \r\nL 209.317799 71.859768 \r\nL 208.851936 71.949345 \r\nL 208.851936 71.994243 \r\nL 208.851936 71.65624 \r\nL 208.696649 71.65624 \r\nL 208.696649 71.701009 \r\nL 208.696649 71.531489 \r\nL 208.541361 71.531489 \r\nL 208.541361 71.576228 \r\nL 208.541361 71.406327 \r\nL 208.075499 71.495821 \r\nL 208.075499 71.540678 \r\nL 207.609636 71.630616 \r\nL 207.609636 71.675696 \r\nL 207.609636 71.504893 \r\nL 207.143773 71.595069 \r\nL 207.143773 71.640269 \r\nL 206.67791 71.559286 \r\nL 206.67791 71.604607 \r\nL 206.67791 71.087748 \r\nL 206.522623 71.087748 \r\nL 206.522623 71.132826 \r\nL 206.522623 70.959858 \r\nL 206.367335 70.959858 \r\nL 206.367335 71.004905 \r\nL 206.367335 70.83154 \r\nL 205.901473 70.921645 \r\nL 205.901473 70.966811 \r\nL 205.901473 70.269137 \r\nL 205.43561 70.358826 \r\nL 205.43561 70.403784 \r\nL 204.81446 70.3633 \r\nL 204.81446 70.408452 \r\nL 204.81446 70.055705 \r\nL 204.659172 70.055705 \r\nL 204.659172 70.100711 \r\nL 204.659172 69.391162 \r\nL 204.038022 69.346797 \r\nL 204.038022 69.391543 \r\nL 204.038022 69.212636 \r\nL 203.416872 69.257344 \r\nL 203.416872 69.391928 \r\nL 203.416872 69.212251 \r\nL 202.951009 69.302128 \r\nL 202.951009 69.347183 \r\nL 202.951009 67.529699 \r\nL 202.485146 67.61766 \r\nL 202.485146 67.661756 \r\nL 202.329859 67.661756 \r\nL 202.329859 67.705929 \r\nL 202.329859 67.521952 \r\nL 202.019283 67.521952 \r\nL 202.019283 67.42574 \r\nL 202.019283 67.055678 \r\nL 201.398133 66.957812 \r\nL 201.398133 66.672752 \r\nL 200.93227 66.573261 \r\nL 200.93227 66.617135 \r\nL 200.93227 66.052977 \r\nL 199.845257 66.126048 \r\nL 199.845257 66.169953 \r\nL 199.845257 65.599021 \r\nL 199.224107 65.538633 \r\nL 199.224107 65.582325 \r\nL 199.224107 65.390454 \r\nL 199.06882 65.390454 \r\nL 199.06882 65.434091 \r\nL 199.06882 65.241739 \r\nL 198.602957 65.328982 \r\nL 198.602957 65.372722 \r\nL 198.447669 65.372722 \r\nL 198.447669 65.416541 \r\nL 198.447669 64.641461 \r\nL 197.981807 64.728245 \r\nL 197.981807 64.771756 \r\nL 196.584218 64.882532 \r\nL 196.584218 64.97064 \r\nL 196.584218 64.181721 \r\nL 196.428931 64.181721 \r\nL 196.428931 64.22533 \r\nL 196.428931 64.027044 \r\nL 195.963068 64.114218 \r\nL 195.963068 64.157927 \r\nL 195.963068 63.95884 \r\nL 195.652493 64.002486 \r\nL 195.652493 64.046213 \r\nL 195.652493 63.445848 \r\nL 195.497205 63.445848 \r\nL 195.497205 63.2882 \r\nL 195.031343 63.331504 \r\nL 195.031343 63.418354 \r\nL 195.031343 63.014294 \r\nL 194.876055 63.014294 \r\nL 194.876055 63.057544 \r\nL 194.876055 62.854793 \r\nL 194.410192 62.941235 \r\nL 194.410192 62.984579 \r\nL 194.410192 62.780992 \r\nL 194.099617 62.824266 \r\nL 194.099617 62.867622 \r\nL 194.099617 62.663344 \r\nL 193.633755 62.749998 \r\nL 193.633755 62.382804 \r\nL 193.167892 62.469336 \r\nL 193.167892 62.512726 \r\nL 192.857317 62.556198 \r\nL 192.857317 62.599754 \r\nL 192.857317 62.393066 \r\nL 192.391454 62.480116 \r\nL 192.391454 62.523766 \r\nL 191.925591 62.5675 \r\nL 191.925591 62.655222 \r\nL 191.925591 62.02992 \r\nL 191.459729 62.117025 \r\nL 191.459729 62.160705 \r\nL 190.993866 62.248318 \r\nL 190.993866 62.292253 \r\nL 190.528003 62.380379 \r\nL 190.528003 62.42457 \r\nL 190.062141 62.513214 \r\nL 190.062141 62.557665 \r\nL 189.906853 62.557665 \r\nL 189.906853 62.602204 \r\nL 189.906853 62.179095 \r\nL 189.44099 62.267778 \r\nL 189.44099 62.312251 \r\nL 189.285703 62.312251 \r\nL 189.285703 62.143972 \r\nL 189.130415 62.143972 \r\nL 189.130415 62.188454 \r\nL 189.130415 61.761179 \r\nL 188.664552 61.849737 \r\nL 188.664552 61.894147 \r\nL 188.509265 61.894147 \r\nL 188.509265 61.938646 \r\nL 188.509265 61.292519 \r\nL 188.19869 61.336595 \r\nL 188.19869 61.38076 \r\nL 188.19869 61.164181 \r\nL 187.732827 61.25243 \r\nL 187.732827 61.296688 \r\nL 187.732827 60.861187 \r\nL 187.577539 60.861187 \r\nL 187.577539 60.905185 \r\nL 187.577539 60.686602 \r\nL 187.111677 60.774511 \r\nL 187.111677 60.818599 \r\nL 186.956389 60.818599 \r\nL 186.956389 60.643045 \r\nL 186.490526 60.731312 \r\nL 186.490526 60.775579 \r\nL 186.490526 60.112098 \r\nL 186.024664 60.199822 \r\nL 186.024664 60.243818 \r\nL 185.558801 60.33208 \r\nL 185.558801 60.376347 \r\nL 185.092938 60.465152 \r\nL 185.092938 60.509692 \r\nL 185.092938 60.285985 \r\nL 184.937651 60.285985 \r\nL 184.937651 59.881266 \r\nL 184.471788 59.969691 \r\nL 184.471788 60.01404 \r\nL 184.005925 60.103015 \r\nL 184.005925 60.147641 \r\nL 183.850638 60.147641 \r\nL 183.850638 60.19236 \r\nL 183.850638 59.965766 \r\nL 183.384775 60.055103 \r\nL 183.384775 60.099912 \r\nL 182.918912 60.18981 \r\nL 182.918912 60.2349 \r\nL 182.45305 60.325364 \r\nL 182.45305 60.370738 \r\nL 182.297762 60.370738 \r\nL 182.297762 60.416208 \r\nL 182.297762 60.187228 \r\nL 181.831899 60.278068 \r\nL 181.831899 60.323632 \r\nL 181.521324 60.369292 \r\nL 181.521324 60.415048 \r\nL 181.521324 60.184613 \r\nL 181.210749 60.230271 \r\nL 181.210749 60.276026 \r\nL 181.210749 60.04471 \r\nL 180.744886 60.136116 \r\nL 180.744886 60.181965 \r\nL 180.589599 60.181965 \r\nL 180.589599 60.227912 \r\nL 180.589599 59.99531 \r\nL 180.279024 60.041156 \r\nL 180.279024 60.0871 \r\nL 180.279024 59.8536 \r\nL 179.813161 59.945381 \r\nL 179.813161 59.991419 \r\nL 179.657873 59.991419 \r\nL 179.657873 60.037557 \r\nL 179.657873 59.802747 \r\nL 179.502586 59.802747 \r\nL 179.502586 59.84878 \r\nL 179.502586 59.377231 \r\nL 179.036723 59.468776 \r\nL 179.036723 59.514697 \r\nL 179.036723 59.277537 \r\nL 178.726148 59.32335 \r\nL 178.726148 58.892559 \r\nL 178.57086 58.892559 \r\nL 178.57086 58.938152 \r\nL 178.57086 58.458944 \r\nL 178.260285 58.504212 \r\nL 178.260285 58.54958 \r\nL 178.260285 58.308761 \r\nL 177.94971 58.354014 \r\nL 177.94971 58.399366 \r\nL 177.94971 57.429049 \r\nL 177.794423 57.429049 \r\nL 177.794423 57.47363 \r\nL 177.794423 57.22949 \r\nL 177.32856 57.318505 \r\nL 177.32856 57.363161 \r\nL 177.32856 57.117813 \r\nL 177.173272 57.117813 \r\nL 177.173272 57.162345 \r\nL 177.173272 56.916227 \r\nL 176.70741 57.005139 \r\nL 176.70741 57.049744 \r\nL 176.241547 57.139254 \r\nL 176.241547 57.18416 \r\nL 176.241547 56.936133 \r\nL 176.086259 56.936133 \r\nL 176.086259 56.980911 \r\nL 176.086259 56.482723 \r\nL 175.775684 56.527142 \r\nL 175.775684 56.57166 \r\nL 175.775684 56.070293 \r\nL 175.309821 56.158698 \r\nL 175.309821 56.203051 \r\nL 175.309821 55.950809 \r\nL 174.843959 56.039345 \r\nL 174.843959 56.083764 \r\nL 174.378096 56.172907 \r\nL 174.378096 56.217632 \r\nL 174.378096 55.963384 \r\nL 174.222808 55.963384 \r\nL 174.222808 56.007971 \r\nL 174.222808 55.752898 \r\nL 173.756946 55.841895 \r\nL 173.756946 55.886548 \r\nL 173.756946 55.630158 \r\nL 173.291083 55.674669 \r\nL 173.291083 55.764 \r\nL 173.135795 55.764 \r\nL 173.135795 55.550855 \r\nL 172.669933 55.640313 \r\nL 172.669933 55.685199 \r\nL 172.359358 55.730189 \r\nL 172.359358 55.775284 \r\nL 172.359358 55.255048 \r\nL 171.893495 55.344547 \r\nL 171.893495 55.389455 \r\nL 171.893495 55.127661 \r\nL 171.738207 55.127661 \r\nL 171.738207 55.172418 \r\nL 171.738207 54.909752 \r\nL 171.427632 54.954358 \r\nL 171.427632 54.99907 \r\nL 171.427632 54.735267 \r\nL 171.272345 54.735267 \r\nL 171.272345 54.779825 \r\nL 171.272345 54.515138 \r\nL 171.117057 54.515138 \r\nL 171.117057 54.559541 \r\nL 171.117057 53.76091 \r\nL 170.961769 53.76091 \r\nL 170.961769 53.804626 \r\nL 170.961769 53.536879 \r\nL 170.495907 53.580431 \r\nL 170.495907 53.667849 \r\nL 170.340619 53.667849 \r\nL 170.340619 53.711715 \r\nL 170.340619 53.44225 \r\nL 170.185332 53.44225 \r\nL 170.185332 53.48595 \r\nL 170.185332 53.215565 \r\nL 169.719469 53.302735 \r\nL 169.719469 53.346478 \r\nL 169.253606 53.434281 \r\nL 169.253606 53.478343 \r\nL 169.098319 53.478343 \r\nL 169.098319 53.522511 \r\nL 169.098319 53.249542 \r\nL 168.787744 53.293539 \r\nL 168.787744 53.337644 \r\nL 168.787744 53.063451 \r\nL 168.321881 53.151421 \r\nL 168.321881 53.195567 \r\nL 168.321881 52.919856 \r\nL 167.856018 53.007906 \r\nL 167.856018 53.052093 \r\nL 167.390155 53.140794 \r\nL 167.390155 53.185309 \r\nL 167.07958 53.229935 \r\nL 167.07958 53.27467 \r\nL 167.07958 52.716602 \r\nL 166.613718 52.805241 \r\nL 166.613718 52.849726 \r\nL 166.147855 52.93903 \r\nL 166.147855 52.983849 \r\nL 165.681992 53.073825 \r\nL 165.681992 53.118982 \r\nL 165.681992 52.836247 \r\nL 165.216129 52.926304 \r\nL 165.216129 52.971503 \r\nL 165.060842 52.971503 \r\nL 165.060842 53.016815 \r\nL 165.060842 52.446792 \r\nL 164.905554 52.446792 \r\nL 164.905554 52.491612 \r\nL 164.905554 52.205211 \r\nL 164.439692 52.294578 \r\nL 164.439692 52.339433 \r\nL 163.973829 52.429486 \r\nL 163.973829 52.474686 \r\nL 163.818541 52.474686 \r\nL 163.818541 52.520001 \r\nL 163.818541 52.230698 \r\nL 163.352679 52.32105 \r\nL 163.352679 52.366401 \r\nL 162.886816 52.457453 \r\nL 162.886816 52.503156 \r\nL 162.886816 51.918511 \r\nL 162.731528 51.918511 \r\nL 162.731528 51.963692 \r\nL 162.731528 51.66991 \r\nL 162.420953 51.714886 \r\nL 162.420953 51.759978 \r\nL 162.420953 51.168814 \r\nL 161.95509 51.258042 \r\nL 161.95509 51.302831 \r\nL 161.489228 51.392763 \r\nL 161.489228 51.437907 \r\nL 161.023365 51.528552 \r\nL 161.023365 51.574053 \r\nL 160.868077 51.574053 \r\nL 160.868077 51.619676 \r\nL 160.868077 51.319601 \r\nL 160.71279 51.319601 \r\nL 160.71279 51.365007 \r\nL 160.71279 50.761786 \r\nL 160.246927 50.851594 \r\nL 160.246927 50.896678 \r\nL 160.09164 50.896678 \r\nL 160.09164 50.941883 \r\nL 160.09164 50.637687 \r\nL 159.625777 50.727765 \r\nL 159.625777 50.772986 \r\nL 159.625777 50.160039 \r\nL 159.159914 50.249435 \r\nL 159.159914 50.294314 \r\nL 158.849339 50.339315 \r\nL 158.849339 50.384438 \r\nL 158.849339 49.764597 \r\nL 158.383476 49.853767 \r\nL 158.383476 49.898535 \r\nL 158.228189 49.898535 \r\nL 158.228189 49.943426 \r\nL 158.228189 49.630778 \r\nL 157.762326 49.720194 \r\nL 157.762326 49.765086 \r\nL 157.762326 49.45047 \r\nL 157.607038 49.45047 \r\nL 157.607038 49.495114 \r\nL 157.607038 48.862525 \r\nL 157.141176 48.950677 \r\nL 157.141176 48.994937 \r\nL 156.830601 49.03932 \r\nL 156.830601 49.083826 \r\nL 156.830601 48.764311 \r\nL 156.364738 48.852928 \r\nL 156.364738 48.897423 \r\nL 155.898875 48.986788 \r\nL 155.898875 49.031659 \r\nL 155.898875 48.385271 \r\nL 155.433013 48.473819 \r\nL 155.433013 48.518281 \r\nL 154.96715 48.607584 \r\nL 154.96715 48.652426 \r\nL 154.96715 48.325469 \r\nL 154.656575 48.370036 \r\nL 154.656575 48.414731 \r\nL 154.656575 47.756389 \r\nL 154.346 47.800396 \r\nL 154.346 47.513117 \r\nL 154.190712 47.513117 \r\nL 154.190712 47.556964 \r\nL 154.190712 47.22418 \r\nL 153.724849 47.311417 \r\nL 153.724849 47.355226 \r\nL 153.569562 47.355226 \r\nL 153.569562 47.399161 \r\nL 153.569562 46.727321 \r\nL 153.103699 46.813872 \r\nL 153.103699 46.857338 \r\nL 152.948411 46.857338 \r\nL 152.948411 46.90093 \r\nL 152.948411 46.561817 \r\nL 152.793124 46.561817 \r\nL 152.793124 46.605104 \r\nL 152.793124 46.264558 \r\nL 152.637836 46.264558 \r\nL 152.637836 46.307534 \r\nL 152.637836 45.622546 \r\nL 152.171974 45.707106 \r\nL 152.171974 45.749574 \r\nL 152.171974 45.404215 \r\nL 151.706111 45.488628 \r\nL 151.706111 45.531024 \r\nL 151.240248 45.616195 \r\nL 151.240248 45.658973 \r\nL 151.084961 45.658973 \r\nL 151.084961 45.352293 \r\nL 150.619098 45.437568 \r\nL 150.619098 45.480399 \r\nL 150.619098 45.128363 \r\nL 150.46381 45.128363 \r\nL 150.46381 45.170855 \r\nL 150.46381 44.817281 \r\nL 149.997948 44.901706 \r\nL 149.997948 44.944112 \r\nL 149.532085 45.029312 \r\nL 149.532085 45.072108 \r\nL 149.066222 45.158094 \r\nL 149.066222 45.201286 \r\nL 149.066222 44.482228 \r\nL 148.910935 44.482228 \r\nL 148.910935 44.524575 \r\nL 148.910935 44.162885 \r\nL 148.445072 44.204868 \r\nL 148.445072 44.289227 \r\nL 147.979209 44.331603 \r\nL 147.979209 44.416753 \r\nL 147.513346 44.502437 \r\nL 147.513346 44.54548 \r\nL 147.358059 44.54548 \r\nL 147.358059 44.588659 \r\nL 147.358059 44.220805 \r\nL 146.892196 44.306547 \r\nL 146.892196 44.349621 \r\nL 146.581621 44.392832 \r\nL 146.581621 44.43618 \r\nL 146.581621 44.064574 \r\nL 146.115758 44.150638 \r\nL 146.115758 44.193876 \r\nL 145.649896 44.280767 \r\nL 145.649896 44.324422 \r\nL 145.494608 44.324422 \r\nL 145.494608 44.368218 \r\nL 145.494608 43.991716 \r\nL 145.339321 43.991716 \r\nL 145.339321 44.035116 \r\nL 145.339321 43.656859 \r\nL 145.184033 43.656859 \r\nL 145.184033 43.699858 \r\nL 145.184033 42.938571 \r\nL 144.873458 42.980612 \r\nL 144.873458 43.022789 \r\nL 144.873458 42.639179 \r\nL 144.407595 42.72283 \r\nL 144.407595 42.764862 \r\nL 144.252308 42.764862 \r\nL 144.252308 42.807031 \r\nL 144.252308 42.419911 \r\nL 143.786445 42.503529 \r\nL 143.786445 42.545545 \r\nL 143.631157 42.545545 \r\nL 143.631157 42.587701 \r\nL 143.631157 42.197007 \r\nL 143.165295 42.280579 \r\nL 143.165295 42.322574 \r\nL 142.699432 42.406985 \r\nL 142.699432 42.449403 \r\nL 142.699432 42.053888 \r\nL 142.233569 42.137963 \r\nL 142.233569 42.180213 \r\nL 141.767706 42.265142 \r\nL 141.767706 42.307823 \r\nL 141.612419 42.307823 \r\nL 141.612419 42.350648 \r\nL 141.612419 41.949585 \r\nL 141.146556 42.034451 \r\nL 141.146556 42.077102 \r\nL 140.680693 42.162843 \r\nL 140.680693 42.205935 \r\nL 140.525406 42.205935 \r\nL 140.525406 42.249174 \r\nL 140.525406 41.842404 \r\nL 140.059543 41.928074 \r\nL 140.059543 41.971132 \r\nL 140.059543 41.14955 \r\nL 139.904256 41.14955 \r\nL 139.904256 41.191477 \r\nL 139.904256 40.362859 \r\nL 139.438393 40.44454 \r\nL 139.438393 40.485597 \r\nL 138.97253 40.568143 \r\nL 138.97253 40.609635 \r\nL 138.97253 40.189164 \r\nL 138.817243 40.189164 \r\nL 138.817243 40.230131 \r\nL 138.817243 39.807491 \r\nL 138.35138 39.888503 \r\nL 138.35138 39.929226 \r\nL 137.885517 40.01111 \r\nL 137.885517 40.052273 \r\nL 137.574942 40.093583 \r\nL 137.574942 40.135043 \r\nL 137.574942 38.841341 \r\nL 137.419654 38.841341 \r\nL 137.419654 38.880829 \r\nL 137.419654 38.445747 \r\nL 137.109079 38.484657 \r\nL 137.109079 38.52371 \r\nL 137.109079 38.085589 \r\nL 136.643217 38.16266 \r\nL 136.643217 38.201409 \r\nL 136.332641 38.2403 \r\nL 136.332641 38.279334 \r\nL 136.332641 37.835902 \r\nL 135.866779 37.912905 \r\nL 135.866779 37.951621 \r\nL 135.866779 37.504275 \r\nL 135.400916 37.580614 \r\nL 135.400916 37.618998 \r\nL 134.935053 37.696199 \r\nL 134.935053 37.735017 \r\nL 134.469191 37.813094 \r\nL 134.469191 37.852355 \r\nL 134.003328 37.931323 \r\nL 134.003328 37.971033 \r\nL 133.537465 38.050908 \r\nL 133.537465 38.091075 \r\nL 133.071603 38.171873 \r\nL 133.071603 38.212506 \r\nL 132.916315 38.212506 \r\nL 132.916315 38.253295 \r\nL 132.916315 37.789228 \r\nL 132.450452 37.829355 \r\nL 132.450452 37.910078 \r\nL 131.98459 37.991431 \r\nL 131.98459 38.032346 \r\nL 131.674014 38.073422 \r\nL 131.674014 38.114659 \r\nL 131.674014 37.642098 \r\nL 131.363439 37.682647 \r\nL 131.363439 37.723356 \r\nL 131.363439 36.289245 \r\nL 131.208152 36.289245 \r\nL 131.208152 36.327503 \r\nL 131.208152 35.844771 \r\nL 130.742289 35.919966 \r\nL 130.742289 35.95779 \r\nL 130.431714 35.995766 \r\nL 130.431714 36.033895 \r\nL 130.431714 35.544719 \r\nL 129.965851 35.619612 \r\nL 129.965851 35.657287 \r\nL 129.499988 35.733098 \r\nL 129.499988 35.771236 \r\nL 129.034126 35.847981 \r\nL 129.034126 35.886591 \r\nL 128.723551 35.92536 \r\nL 128.723551 35.964289 \r\nL 128.723551 34.453613 \r\nL 128.568263 34.453613 \r\nL 128.568263 34.4898 \r\nL 128.568263 33.981061 \r\nL 127.947113 34.087557 \r\nL 127.947113 34.123355 \r\nL 127.325962 34.231658 \r\nL 127.325962 34.268066 \r\nL 126.704812 34.378222 \r\nL 126.704812 34.415256 \r\nL 126.238949 34.4898 \r\nL 126.238949 34.527313 \r\nL 125.773087 34.602827 \r\nL 125.773087 34.64083 \r\nL 125.773087 34.111405 \r\nL 125.307224 34.185762 \r\nL 125.307224 34.223185 \r\nL 124.996649 34.260772 \r\nL 124.996649 34.298524 \r\nL 124.996649 33.761348 \r\nL 124.841361 33.761348 \r\nL 124.841361 33.798165 \r\nL 124.841361 33.257505 \r\nL 124.220211 33.365571 \r\nL 124.220211 33.401915 \r\nL 123.599061 33.511926 \r\nL 123.599061 33.548926 \r\nL 123.133198 33.62343 \r\nL 123.133198 33.660935 \r\nL 122.667335 33.736458 \r\nL 122.667335 33.774478 \r\nL 122.201473 33.851042 \r\nL 122.201473 33.889588 \r\nL 121.73561 33.967213 \r\nL 121.73561 34.006296 \r\nL 121.269747 34.085006 \r\nL 121.269747 34.124636 \r\nL 120.803885 34.204453 \r\nL 120.803885 34.244643 \r\nL 120.338022 34.325591 \r\nL 120.338022 34.366352 \r\nL 119.872159 34.448455 \r\nL 119.872159 34.4898 \r\nL 119.872159 33.90821 \r\nL 119.406296 33.988903 \r\nL 119.406296 34.029541 \r\nL 119.251009 34.029541 \r\nL 119.251009 34.070375 \r\nL 119.251009 33.480747 \r\nL 119.095721 33.480747 \r\nL 119.095721 33.52045 \r\nL 119.095721 32.926625 \r\nL 118.629859 33.003908 \r\nL 118.629859 33.042833 \r\nL 118.629859 32.442016 \r\nL 118.163996 32.517673 \r\nL 118.163996 32.555782 \r\nL 117.698133 32.632567 \r\nL 117.698133 32.671246 \r\nL 117.387558 32.710118 \r\nL 117.387558 32.749184 \r\nL 117.387558 32.134079 \r\nL 116.921695 32.2099 \r\nL 116.921695 32.248097 \r\nL 116.455833 32.325074 \r\nL 116.455833 32.363857 \r\nL 115.98997 32.442016 \r\nL 115.98997 32.481397 \r\nL 115.679395 32.52098 \r\nL 115.679395 32.560767 \r\nL 115.679395 31.926102 \r\nL 115.36882 31.964554 \r\nL 115.36882 32.003205 \r\nL 115.36882 31.36213 \r\nL 115.058244 31.399411 \r\nL 115.058244 31.436887 \r\nL 115.058244 30.789277 \r\nL 114.592382 30.861602 \r\nL 114.592382 30.898052 \r\nL 114.592382 30.242142 \r\nL 114.126519 30.312321 \r\nL 114.126519 30.347692 \r\nL 114.126519 29.683272 \r\nL 113.971231 29.683272 \r\nL 113.971231 29.717142 \r\nL 113.971231 29.047442 \r\nL 113.350081 29.144973 \r\nL 113.350081 29.177837 \r\nL 112.728931 29.277515 \r\nL 112.728931 29.311107 \r\nL 112.107781 29.413002 \r\nL 112.107781 29.447346 \r\nL 111.48663 29.551535 \r\nL 111.48663 29.586655 \r\nL 111.48663 28.884425 \r\nL 110.86548 28.985287 \r\nL 110.86548 29.019292 \r\nL 110.24433 29.122482 \r\nL 110.24433 29.157276 \r\nL 110.24433 28.435482 \r\nL 109.623179 28.53506 \r\nL 109.623179 28.568642 \r\nL 109.002029 28.67058 \r\nL 109.002029 28.704962 \r\nL 108.691454 28.73955 \r\nL 108.691454 28.774343 \r\nL 108.691454 28.027632 \r\nL 108.070304 28.126822 \r\nL 108.070304 28.160286 \r\nL 108.070304 27.40036 \r\nL 107.449154 27.495299 \r\nL 107.449154 27.527335 \r\nL 107.293866 27.527335 \r\nL 107.293866 27.559568 \r\nL 107.293866 26.783666 \r\nL 106.983291 26.81379 \r\nL 106.983291 26.844102 \r\nL 106.983291 26.05869 \r\nL 106.362141 26.143627 \r\nL 106.362141 26.172298 \r\nL 105.74099 26.25941 \r\nL 105.74099 26.288819 \r\nL 105.11984 26.37819 \r\nL 105.11984 26.408367 \r\nL 104.49869 26.500086 \r\nL 104.49869 26.531061 \r\nL 104.343402 26.531061 \r\nL 104.343402 26.56224 \r\nL 104.343402 25.729082 \r\nL 103.722252 25.815826 \r\nL 103.722252 25.845128 \r\nL 103.101102 25.934228 \r\nL 103.101102 25.964332 \r\nL 102.479951 26.055886 \r\nL 102.479951 26.086825 \r\nL 102.479951 25.214543 \r\nL 101.858801 25.299833 \r\nL 101.858801 25.328661 \r\nL 101.237651 25.416374 \r\nL 101.237651 25.446028 \r\nL 100.6165 25.53627 \r\nL 100.6165 25.566785 \r\nL 99.99535 25.659666 \r\nL 99.99535 25.69108 \r\nL 99.3742 25.786718 \r\nL 99.3742 25.819072 \r\nL 98.75305 25.917592 \r\nL 98.75305 25.950927 \r\nL 98.131899 26.052461 \r\nL 98.131899 26.086825 \r\nL 97.510749 26.191513 \r\nL 97.510749 26.226952 \r\nL 97.510749 25.242776 \r\nL 96.889599 25.339524 \r\nL 96.889599 25.372286 \r\nL 96.734311 25.372286 \r\nL 96.734311 25.405308 \r\nL 96.734311 24.394225 \r\nL 96.579024 24.394225 \r\nL 96.579024 24.423585 \r\nL 96.579024 23.400389 \r\nL 95.957873 23.477737 \r\nL 95.957873 23.503943 \r\nL 95.957873 22.455909 \r\nL 95.181436 22.545822 \r\nL 95.181436 22.568772 \r\nL 95.181436 21.49026 \r\nL 94.24971 21.58523 \r\nL 94.24971 21.604718 \r\nL 93.317985 21.704742 \r\nL 93.317985 21.72528 \r\nL 92.386259 21.830772 \r\nL 92.386259 21.852448 \r\nL 91.609821 21.94117 \r\nL 91.609821 21.963869 \r\nL 90.833384 22.056826 \r\nL 90.833384 22.080621 \r\nL 90.056946 22.178123 \r\nL 90.056946 22.203096 \r\nL 89.280508 22.305486 \r\nL 89.280508 22.331726 \r\nL 88.50407 22.439379 \r\nL 88.50407 22.466986 \r\nL 87.88292 22.551541 \r\nL 87.88292 22.58032 \r\nL 87.261769 22.668502 \r\nL 87.261769 22.698528 \r\nL 86.640619 22.790575 \r\nL 86.640619 22.821932 \r\nL 86.019469 22.918105 \r\nL 86.019469 22.950883 \r\nL 85.398319 23.051464 \r\nL 85.398319 23.085762 \r\nL 84.777168 23.191062 \r\nL 84.777168 23.226988 \r\nL 84.156018 23.337348 \r\nL 84.156018 23.375021 \r\nL 83.690155 23.451745 \r\nL 83.690155 23.490813 \r\nL 83.224293 23.570405 \r\nL 83.224293 23.610948 \r\nL 82.75843 23.693572 \r\nL 82.75843 23.735673 \r\nL 82.292567 23.821506 \r\nL 82.292567 23.865259 \r\nL 82.13728 23.865259 \r\nL 82.13728 23.909583 \r\nL 82.13728 22.236777 \r\nL 81.516129 22.340531 \r\nL 81.516129 22.376051 \r\nL 81.050267 22.44855 \r\nL 81.050267 22.485549 \r\nL 81.050267 20.70992 \r\nL 80.273829 20.813529 \r\nL 80.273829 20.840362 \r\nL 79.652679 20.923231 \r\nL 79.652679 20.951673 \r\nL 79.031528 21.039583 \r\nL 79.031528 21.069781 \r\nL 78.410378 21.163206 \r\nL 78.410378 21.195329 \r\nL 77.789228 21.294805 \r\nL 77.789228 21.329042 \r\nL 77.168077 21.435177 \r\nL 77.168077 21.471745 \r\nL 76.702215 21.546755 \r\nL 76.702215 21.58523 \r\nL 76.236352 21.664206 \r\nL 76.236352 21.704742 \r\nL 75.770489 21.788005 \r\nL 75.770489 21.830772 \r\nL 75.304627 21.918682 \r\nL 75.304627 21.963869 \r\nL 74.838764 22.056826 \r\nL 74.838764 22.104645 \r\nL 74.372901 22.203096 \r\nL 74.372901 22.253784 \r\nL 73.907038 22.358231 \r\nL 73.907038 22.412054 \r\nL 73.441176 22.523063 \r\nL 73.441176 22.58032 \r\nL 73.130601 22.638795 \r\nL 73.130601 22.698528 \r\nL 72.820026 22.759559 \r\nL 72.820026 22.821932 \r\nL 72.50945 22.885691 \r\nL 72.50945 22.950883 \r\nL 72.198875 23.017556 \r\nL 72.198875 23.085762 \r\nL 71.8883 23.155554 \r\nL 71.8883 23.226988 \r\nL 71.577725 23.300123 \r\nL 71.577725 23.375021 \r\nL 71.26715 23.451745 \r\nL 71.26715 23.530364 \r\nL 70.956575 23.610948 \r\nL 70.956575 23.693572 \r\nL 70.956575 20.430976 \r\nL 70.490712 20.519063 \r\nL 70.490712 20.564869 \r\nL 70.024849 20.660245 \r\nL 70.024849 20.70992 \r\nL 69.558987 20.813529 \r\nL 69.558987 20.867585 \r\nL 69.248411 20.923231 \r\nL 69.248411 20.980539 \r\nL 68.937836 21.039583 \r\nL 68.937836 21.100443 \r\nL 68.627261 21.163206 \r\nL 68.627261 21.227961 \r\nL 68.316686 21.294805 \r\nL 68.316686 21.363841 \r\nL 68.006111 21.435177 \r\nL 68.006111 21.508932 \r\nL 67.695536 21.58523 \r\nL 67.695536 21.664206 \r\nL 67.384961 21.746002 \r\nL 67.384961 21.830772 \r\nL 67.074385 21.918682 \r\nL 67.074385 22.009909 \r\nL 66.76381 22.104645 \r\nL 66.76381 22.203096 \r\nL 66.453235 22.305486 \r\nL 66.453235 22.412054 \r\nL 66.14266 22.523063 \r\nL 66.14266 22.638795 \r\nL 65.987372 22.638795 \r\nL 65.987372 22.759559 \r\nL 65.832085 22.759559 \r\nL 65.832085 22.885691 \r\nL 65.676797 22.885691 \r\nL 65.676797 23.017556 \r\nL 65.52151 23.017556 \r\nL 65.52151 23.155554 \r\nL 65.366222 23.155554 \r\nL 65.366222 23.300123 \r\nL 65.210935 23.300123 \r\nL 65.210935 23.451745 \r\nL 65.055647 23.451745 \r\nL 65.055647 23.610948 \r\nL 65.055647 17.083636 \r\nL 58.999432 17.083636 \r\nL 58.999432 17.083636 \r\n\" style=\"fill:none;stroke:#1f77b4;stroke-linecap:square;stroke-width:1.5;\"/>\r\n   </g>\r\n   <g id=\"patch_3\">\r\n    <path d=\"M 43.78125 224.64 \r\nL 43.78125 7.2 \r\n\" style=\"fill:none;stroke:#000000;stroke-linecap:square;stroke-linejoin:miter;stroke-width:0.8;\"/>\r\n   </g>\r\n   <g id=\"patch_4\">\r\n    <path d=\"M 378.58125 224.64 \r\nL 378.58125 7.2 \r\n\" style=\"fill:none;stroke:#000000;stroke-linecap:square;stroke-linejoin:miter;stroke-width:0.8;\"/>\r\n   </g>\r\n   <g id=\"patch_5\">\r\n    <path d=\"M 43.78125 224.64 \r\nL 378.58125 224.64 \r\n\" style=\"fill:none;stroke:#000000;stroke-linecap:square;stroke-linejoin:miter;stroke-width:0.8;\"/>\r\n   </g>\r\n   <g id=\"patch_6\">\r\n    <path d=\"M 43.78125 7.2 \r\nL 378.58125 7.2 \r\n\" style=\"fill:none;stroke:#000000;stroke-linecap:square;stroke-linejoin:miter;stroke-width:0.8;\"/>\r\n   </g>\r\n   <g id=\"legend_1\">\r\n    <g id=\"patch_7\">\r\n     <path d=\"M 50.78125 219.64 \r\nL 182.765625 219.64 \r\nQ 184.765625 219.64 184.765625 217.64 \r\nL 184.765625 203.961875 \r\nQ 184.765625 201.961875 182.765625 201.961875 \r\nL 50.78125 201.961875 \r\nQ 48.78125 201.961875 48.78125 203.961875 \r\nL 48.78125 217.64 \r\nQ 48.78125 219.64 50.78125 219.64 \r\nz\r\n\" style=\"fill:#ffffff;opacity:0.8;stroke:#cccccc;stroke-linejoin:miter;\"/>\r\n    </g>\r\n    <g id=\"line2d_16\">\r\n     <path d=\"M 52.78125 210.060312 \r\nL 72.78125 210.060312 \r\n\" style=\"fill:none;stroke:#1f77b4;stroke-linecap:square;stroke-width:1.5;\"/>\r\n    </g>\r\n    <g id=\"line2d_17\"/>\r\n    <g id=\"text_17\">\r\n     <!-- Pipeline (AP = 0.76) -->\r\n     <defs>\r\n      <path d=\"M 18.109375 8.203125 \r\nL 18.109375 -20.796875 \r\nL 9.078125 -20.796875 \r\nL 9.078125 54.6875 \r\nL 18.109375 54.6875 \r\nL 18.109375 46.390625 \r\nQ 20.953125 51.265625 25.265625 53.625 \r\nQ 29.59375 56 35.59375 56 \r\nQ 45.5625 56 51.78125 48.09375 \r\nQ 58.015625 40.1875 58.015625 27.296875 \r\nQ 58.015625 14.40625 51.78125 6.484375 \r\nQ 45.5625 -1.421875 35.59375 -1.421875 \r\nQ 29.59375 -1.421875 25.265625 0.953125 \r\nQ 20.953125 3.328125 18.109375 8.203125 \r\nz\r\nM 48.6875 27.296875 \r\nQ 48.6875 37.203125 44.609375 42.84375 \r\nQ 40.53125 48.484375 33.40625 48.484375 \r\nQ 26.265625 48.484375 22.1875 42.84375 \r\nQ 18.109375 37.203125 18.109375 27.296875 \r\nQ 18.109375 17.390625 22.1875 11.75 \r\nQ 26.265625 6.109375 33.40625 6.109375 \r\nQ 40.53125 6.109375 44.609375 11.75 \r\nQ 48.6875 17.390625 48.6875 27.296875 \r\nz\r\n\" id=\"DejaVuSans-112\"/>\r\n      <path id=\"DejaVuSans-32\"/>\r\n      <path d=\"M 31 75.875 \r\nQ 24.46875 64.65625 21.28125 53.65625 \r\nQ 18.109375 42.671875 18.109375 31.390625 \r\nQ 18.109375 20.125 21.3125 9.0625 \r\nQ 24.515625 -2 31 -13.1875 \r\nL 23.1875 -13.1875 \r\nQ 15.875 -1.703125 12.234375 9.375 \r\nQ 8.59375 20.453125 8.59375 31.390625 \r\nQ 8.59375 42.28125 12.203125 53.3125 \r\nQ 15.828125 64.359375 23.1875 75.875 \r\nz\r\n\" id=\"DejaVuSans-40\"/>\r\n      <path d=\"M 34.1875 63.1875 \r\nL 20.796875 26.90625 \r\nL 47.609375 26.90625 \r\nz\r\nM 28.609375 72.90625 \r\nL 39.796875 72.90625 \r\nL 67.578125 0 \r\nL 57.328125 0 \r\nL 50.6875 18.703125 \r\nL 17.828125 18.703125 \r\nL 11.1875 0 \r\nL 0.78125 0 \r\nz\r\n\" id=\"DejaVuSans-65\"/>\r\n      <path d=\"M 10.59375 45.40625 \r\nL 73.1875 45.40625 \r\nL 73.1875 37.203125 \r\nL 10.59375 37.203125 \r\nz\r\nM 10.59375 25.484375 \r\nL 73.1875 25.484375 \r\nL 73.1875 17.1875 \r\nL 10.59375 17.1875 \r\nz\r\n\" id=\"DejaVuSans-61\"/>\r\n      <path d=\"M 8.015625 75.875 \r\nL 15.828125 75.875 \r\nQ 23.140625 64.359375 26.78125 53.3125 \r\nQ 30.421875 42.28125 30.421875 31.390625 \r\nQ 30.421875 20.453125 26.78125 9.375 \r\nQ 23.140625 -1.703125 15.828125 -13.1875 \r\nL 8.015625 -13.1875 \r\nQ 14.5 -2 17.703125 9.0625 \r\nQ 20.90625 20.125 20.90625 31.390625 \r\nQ 20.90625 42.671875 17.703125 53.65625 \r\nQ 14.5 64.65625 8.015625 75.875 \r\nz\r\n\" id=\"DejaVuSans-41\"/>\r\n     </defs>\r\n     <g transform=\"translate(80.78125 213.560312)scale(0.1 -0.1)\">\r\n      <use xlink:href=\"#DejaVuSans-80\"/>\r\n      <use x=\"58.052734\" xlink:href=\"#DejaVuSans-105\"/>\r\n      <use x=\"85.835938\" xlink:href=\"#DejaVuSans-112\"/>\r\n      <use x=\"149.3125\" xlink:href=\"#DejaVuSans-101\"/>\r\n      <use x=\"210.835938\" xlink:href=\"#DejaVuSans-108\"/>\r\n      <use x=\"238.619141\" xlink:href=\"#DejaVuSans-105\"/>\r\n      <use x=\"266.402344\" xlink:href=\"#DejaVuSans-110\"/>\r\n      <use x=\"329.78125\" xlink:href=\"#DejaVuSans-101\"/>\r\n      <use x=\"391.304688\" xlink:href=\"#DejaVuSans-32\"/>\r\n      <use x=\"423.091797\" xlink:href=\"#DejaVuSans-40\"/>\r\n      <use x=\"462.105469\" xlink:href=\"#DejaVuSans-65\"/>\r\n      <use x=\"530.513672\" xlink:href=\"#DejaVuSans-80\"/>\r\n      <use x=\"590.816406\" xlink:href=\"#DejaVuSans-32\"/>\r\n      <use x=\"622.603516\" xlink:href=\"#DejaVuSans-61\"/>\r\n      <use x=\"706.392578\" xlink:href=\"#DejaVuSans-32\"/>\r\n      <use x=\"738.179688\" xlink:href=\"#DejaVuSans-48\"/>\r\n      <use x=\"801.802734\" xlink:href=\"#DejaVuSans-46\"/>\r\n      <use x=\"833.589844\" xlink:href=\"#DejaVuSans-55\"/>\r\n      <use x=\"897.212891\" xlink:href=\"#DejaVuSans-54\"/>\r\n      <use x=\"960.835938\" xlink:href=\"#DejaVuSans-41\"/>\r\n     </g>\r\n    </g>\r\n   </g>\r\n  </g>\r\n </g>\r\n <defs>\r\n  <clipPath id=\"pff0ac1b279\">\r\n   <rect height=\"217.44\" width=\"334.8\" x=\"43.78125\" y=\"7.2\"/>\r\n  </clipPath>\r\n </defs>\r\n</svg>\r\n",
      "image/png": "[encoded data removed]"
     },
     "metadata": {
      "needs_background": "light"
     }
    }
   ],
   "source": [
    "plot_precision_recall_curve(estimator,X_test,y_test)"
   ]
  },
  {
   "cell_type": "code",
   "execution_count": 120,
   "metadata": {},
   "outputs": [
    {
     "output_type": "execute_result",
     "data": {
      "text/plain": [
       "<sklearn.metrics._plot.roc_curve.RocCurveDisplay at 0x2075a6e59d0>"
      ]
     },
     "metadata": {},
     "execution_count": 120
    },
    {
     "output_type": "display_data",
     "data": {
      "text/plain": "<Figure size 432x288 with 1 Axes>",
      "image/svg+xml": "<?xml version=\"1.0\" encoding=\"utf-8\" standalone=\"no\"?>\r\n<!DOCTYPE svg PUBLIC \"-//W3C//DTD SVG 1.1//EN\"\r\n  \"http://www.w3.org/Graphics/SVG/1.1/DTD/svg11.dtd\">\r\n<!-- Created with matplotlib (https://matplotlib.org/) -->\r\n<svg height=\"262.19625pt\" version=\"1.1\" viewBox=\"0 0 385.78125 262.19625\" width=\"385.78125pt\" xmlns=\"http://www.w3.org/2000/svg\" xmlns:xlink=\"http://www.w3.org/1999/xlink\">\r\n <defs>\r\n  <style type=\"text/css\">\r\n*{stroke-linecap:butt;stroke-linejoin:round;}\r\n  </style>\r\n </defs>\r\n <g id=\"figure_1\">\r\n  <g id=\"patch_1\">\r\n   <path d=\"M 0 262.19625 \r\nL 385.78125 262.19625 \r\nL 385.78125 0 \r\nL 0 0 \r\nz\r\n\" style=\"fill:none;\"/>\r\n  </g>\r\n  <g id=\"axes_1\">\r\n   <g id=\"patch_2\">\r\n    <path d=\"M 43.78125 224.64 \r\nL 378.58125 224.64 \r\nL 378.58125 7.2 \r\nL 43.78125 7.2 \r\nz\r\n\" style=\"fill:#ffffff;\"/>\r\n   </g>\r\n   <g id=\"matplotlib.axis_1\">\r\n    <g id=\"xtick_1\">\r\n     <g id=\"line2d_1\">\r\n      <defs>\r\n       <path d=\"M 0 0 \r\nL 0 3.5 \r\n\" id=\"m5b10d4c09b\" style=\"stroke:#000000;stroke-width:0.8;\"/>\r\n      </defs>\r\n      <g>\r\n       <use style=\"stroke:#000000;stroke-width:0.8;\" x=\"58.999432\" xlink:href=\"#m5b10d4c09b\" y=\"224.64\"/>\r\n      </g>\r\n     </g>\r\n     <g id=\"text_1\">\r\n      <!-- 0.0 -->\r\n      <defs>\r\n       <path d=\"M 31.78125 66.40625 \r\nQ 24.171875 66.40625 20.328125 58.90625 \r\nQ 16.5 51.421875 16.5 36.375 \r\nQ 16.5 21.390625 20.328125 13.890625 \r\nQ 24.171875 6.390625 31.78125 6.390625 \r\nQ 39.453125 6.390625 43.28125 13.890625 \r\nQ 47.125 21.390625 47.125 36.375 \r\nQ 47.125 51.421875 43.28125 58.90625 \r\nQ 39.453125 66.40625 31.78125 66.40625 \r\nz\r\nM 31.78125 74.21875 \r\nQ 44.046875 74.21875 50.515625 64.515625 \r\nQ 56.984375 54.828125 56.984375 36.375 \r\nQ 56.984375 17.96875 50.515625 8.265625 \r\nQ 44.046875 -1.421875 31.78125 -1.421875 \r\nQ 19.53125 -1.421875 13.0625 8.265625 \r\nQ 6.59375 17.96875 6.59375 36.375 \r\nQ 6.59375 54.828125 13.0625 64.515625 \r\nQ 19.53125 74.21875 31.78125 74.21875 \r\nz\r\n\" id=\"DejaVuSans-48\"/>\r\n       <path d=\"M 10.6875 12.40625 \r\nL 21 12.40625 \r\nL 21 0 \r\nL 10.6875 0 \r\nz\r\n\" id=\"DejaVuSans-46\"/>\r\n      </defs>\r\n      <g transform=\"translate(51.047869 239.238437)scale(0.1 -0.1)\">\r\n       <use xlink:href=\"#DejaVuSans-48\"/>\r\n       <use x=\"63.623047\" xlink:href=\"#DejaVuSans-46\"/>\r\n       <use x=\"95.410156\" xlink:href=\"#DejaVuSans-48\"/>\r\n      </g>\r\n     </g>\r\n    </g>\r\n    <g id=\"xtick_2\">\r\n     <g id=\"line2d_2\">\r\n      <g>\r\n       <use style=\"stroke:#000000;stroke-width:0.8;\" x=\"119.872159\" xlink:href=\"#m5b10d4c09b\" y=\"224.64\"/>\r\n      </g>\r\n     </g>\r\n     <g id=\"text_2\">\r\n      <!-- 0.2 -->\r\n      <defs>\r\n       <path d=\"M 19.1875 8.296875 \r\nL 53.609375 8.296875 \r\nL 53.609375 0 \r\nL 7.328125 0 \r\nL 7.328125 8.296875 \r\nQ 12.9375 14.109375 22.625 23.890625 \r\nQ 32.328125 33.6875 34.8125 36.53125 \r\nQ 39.546875 41.84375 41.421875 45.53125 \r\nQ 43.3125 49.21875 43.3125 52.78125 \r\nQ 43.3125 58.59375 39.234375 62.25 \r\nQ 35.15625 65.921875 28.609375 65.921875 \r\nQ 23.96875 65.921875 18.8125 64.3125 \r\nQ 13.671875 62.703125 7.8125 59.421875 \r\nL 7.8125 69.390625 \r\nQ 13.765625 71.78125 18.9375 73 \r\nQ 24.125 74.21875 28.421875 74.21875 \r\nQ 39.75 74.21875 46.484375 68.546875 \r\nQ 53.21875 62.890625 53.21875 53.421875 \r\nQ 53.21875 48.921875 51.53125 44.890625 \r\nQ 49.859375 40.875 45.40625 35.40625 \r\nQ 44.1875 33.984375 37.640625 27.21875 \r\nQ 31.109375 20.453125 19.1875 8.296875 \r\nz\r\n\" id=\"DejaVuSans-50\"/>\r\n      </defs>\r\n      <g transform=\"translate(111.920597 239.238437)scale(0.1 -0.1)\">\r\n       <use xlink:href=\"#DejaVuSans-48\"/>\r\n       <use x=\"63.623047\" xlink:href=\"#DejaVuSans-46\"/>\r\n       <use x=\"95.410156\" xlink:href=\"#DejaVuSans-50\"/>\r\n      </g>\r\n     </g>\r\n    </g>\r\n    <g id=\"xtick_3\">\r\n     <g id=\"line2d_3\">\r\n      <g>\r\n       <use style=\"stroke:#000000;stroke-width:0.8;\" x=\"180.744886\" xlink:href=\"#m5b10d4c09b\" y=\"224.64\"/>\r\n      </g>\r\n     </g>\r\n     <g id=\"text_3\">\r\n      <!-- 0.4 -->\r\n      <defs>\r\n       <path d=\"M 37.796875 64.3125 \r\nL 12.890625 25.390625 \r\nL 37.796875 25.390625 \r\nz\r\nM 35.203125 72.90625 \r\nL 47.609375 72.90625 \r\nL 47.609375 25.390625 \r\nL 58.015625 25.390625 \r\nL 58.015625 17.1875 \r\nL 47.609375 17.1875 \r\nL 47.609375 0 \r\nL 37.796875 0 \r\nL 37.796875 17.1875 \r\nL 4.890625 17.1875 \r\nL 4.890625 26.703125 \r\nz\r\n\" id=\"DejaVuSans-52\"/>\r\n      </defs>\r\n      <g transform=\"translate(172.793324 239.238437)scale(0.1 -0.1)\">\r\n       <use xlink:href=\"#DejaVuSans-48\"/>\r\n       <use x=\"63.623047\" xlink:href=\"#DejaVuSans-46\"/>\r\n       <use x=\"95.410156\" xlink:href=\"#DejaVuSans-52\"/>\r\n      </g>\r\n     </g>\r\n    </g>\r\n    <g id=\"xtick_4\">\r\n     <g id=\"line2d_4\">\r\n      <g>\r\n       <use style=\"stroke:#000000;stroke-width:0.8;\" x=\"241.617614\" xlink:href=\"#m5b10d4c09b\" y=\"224.64\"/>\r\n      </g>\r\n     </g>\r\n     <g id=\"text_4\">\r\n      <!-- 0.6 -->\r\n      <defs>\r\n       <path d=\"M 33.015625 40.375 \r\nQ 26.375 40.375 22.484375 35.828125 \r\nQ 18.609375 31.296875 18.609375 23.390625 \r\nQ 18.609375 15.53125 22.484375 10.953125 \r\nQ 26.375 6.390625 33.015625 6.390625 \r\nQ 39.65625 6.390625 43.53125 10.953125 \r\nQ 47.40625 15.53125 47.40625 23.390625 \r\nQ 47.40625 31.296875 43.53125 35.828125 \r\nQ 39.65625 40.375 33.015625 40.375 \r\nz\r\nM 52.59375 71.296875 \r\nL 52.59375 62.3125 \r\nQ 48.875 64.0625 45.09375 64.984375 \r\nQ 41.3125 65.921875 37.59375 65.921875 \r\nQ 27.828125 65.921875 22.671875 59.328125 \r\nQ 17.53125 52.734375 16.796875 39.40625 \r\nQ 19.671875 43.65625 24.015625 45.921875 \r\nQ 28.375 48.1875 33.59375 48.1875 \r\nQ 44.578125 48.1875 50.953125 41.515625 \r\nQ 57.328125 34.859375 57.328125 23.390625 \r\nQ 57.328125 12.15625 50.6875 5.359375 \r\nQ 44.046875 -1.421875 33.015625 -1.421875 \r\nQ 20.359375 -1.421875 13.671875 8.265625 \r\nQ 6.984375 17.96875 6.984375 36.375 \r\nQ 6.984375 53.65625 15.1875 63.9375 \r\nQ 23.390625 74.21875 37.203125 74.21875 \r\nQ 40.921875 74.21875 44.703125 73.484375 \r\nQ 48.484375 72.75 52.59375 71.296875 \r\nz\r\n\" id=\"DejaVuSans-54\"/>\r\n      </defs>\r\n      <g transform=\"translate(233.666051 239.238437)scale(0.1 -0.1)\">\r\n       <use xlink:href=\"#DejaVuSans-48\"/>\r\n       <use x=\"63.623047\" xlink:href=\"#DejaVuSans-46\"/>\r\n       <use x=\"95.410156\" xlink:href=\"#DejaVuSans-54\"/>\r\n      </g>\r\n     </g>\r\n    </g>\r\n    <g id=\"xtick_5\">\r\n     <g id=\"line2d_5\">\r\n      <g>\r\n       <use style=\"stroke:#000000;stroke-width:0.8;\" x=\"302.490341\" xlink:href=\"#m5b10d4c09b\" y=\"224.64\"/>\r\n      </g>\r\n     </g>\r\n     <g id=\"text_5\">\r\n      <!-- 0.8 -->\r\n      <defs>\r\n       <path d=\"M 31.78125 34.625 \r\nQ 24.75 34.625 20.71875 30.859375 \r\nQ 16.703125 27.09375 16.703125 20.515625 \r\nQ 16.703125 13.921875 20.71875 10.15625 \r\nQ 24.75 6.390625 31.78125 6.390625 \r\nQ 38.8125 6.390625 42.859375 10.171875 \r\nQ 46.921875 13.96875 46.921875 20.515625 \r\nQ 46.921875 27.09375 42.890625 30.859375 \r\nQ 38.875 34.625 31.78125 34.625 \r\nz\r\nM 21.921875 38.8125 \r\nQ 15.578125 40.375 12.03125 44.71875 \r\nQ 8.5 49.078125 8.5 55.328125 \r\nQ 8.5 64.0625 14.71875 69.140625 \r\nQ 20.953125 74.21875 31.78125 74.21875 \r\nQ 42.671875 74.21875 48.875 69.140625 \r\nQ 55.078125 64.0625 55.078125 55.328125 \r\nQ 55.078125 49.078125 51.53125 44.71875 \r\nQ 48 40.375 41.703125 38.8125 \r\nQ 48.828125 37.15625 52.796875 32.3125 \r\nQ 56.78125 27.484375 56.78125 20.515625 \r\nQ 56.78125 9.90625 50.3125 4.234375 \r\nQ 43.84375 -1.421875 31.78125 -1.421875 \r\nQ 19.734375 -1.421875 13.25 4.234375 \r\nQ 6.78125 9.90625 6.78125 20.515625 \r\nQ 6.78125 27.484375 10.78125 32.3125 \r\nQ 14.796875 37.15625 21.921875 38.8125 \r\nz\r\nM 18.3125 54.390625 \r\nQ 18.3125 48.734375 21.84375 45.5625 \r\nQ 25.390625 42.390625 31.78125 42.390625 \r\nQ 38.140625 42.390625 41.71875 45.5625 \r\nQ 45.3125 48.734375 45.3125 54.390625 \r\nQ 45.3125 60.0625 41.71875 63.234375 \r\nQ 38.140625 66.40625 31.78125 66.40625 \r\nQ 25.390625 66.40625 21.84375 63.234375 \r\nQ 18.3125 60.0625 18.3125 54.390625 \r\nz\r\n\" id=\"DejaVuSans-56\"/>\r\n      </defs>\r\n      <g transform=\"translate(294.538778 239.238437)scale(0.1 -0.1)\">\r\n       <use xlink:href=\"#DejaVuSans-48\"/>\r\n       <use x=\"63.623047\" xlink:href=\"#DejaVuSans-46\"/>\r\n       <use x=\"95.410156\" xlink:href=\"#DejaVuSans-56\"/>\r\n      </g>\r\n     </g>\r\n    </g>\r\n    <g id=\"xtick_6\">\r\n     <g id=\"line2d_6\">\r\n      <g>\r\n       <use style=\"stroke:#000000;stroke-width:0.8;\" x=\"363.363068\" xlink:href=\"#m5b10d4c09b\" y=\"224.64\"/>\r\n      </g>\r\n     </g>\r\n     <g id=\"text_6\">\r\n      <!-- 1.0 -->\r\n      <defs>\r\n       <path d=\"M 12.40625 8.296875 \r\nL 28.515625 8.296875 \r\nL 28.515625 63.921875 \r\nL 10.984375 60.40625 \r\nL 10.984375 69.390625 \r\nL 28.421875 72.90625 \r\nL 38.28125 72.90625 \r\nL 38.28125 8.296875 \r\nL 54.390625 8.296875 \r\nL 54.390625 0 \r\nL 12.40625 0 \r\nz\r\n\" id=\"DejaVuSans-49\"/>\r\n      </defs>\r\n      <g transform=\"translate(355.411506 239.238437)scale(0.1 -0.1)\">\r\n       <use xlink:href=\"#DejaVuSans-49\"/>\r\n       <use x=\"63.623047\" xlink:href=\"#DejaVuSans-46\"/>\r\n       <use x=\"95.410156\" xlink:href=\"#DejaVuSans-48\"/>\r\n      </g>\r\n     </g>\r\n    </g>\r\n    <g id=\"text_7\">\r\n     <!-- False Positive Rate -->\r\n     <defs>\r\n      <path d=\"M 9.8125 72.90625 \r\nL 51.703125 72.90625 \r\nL 51.703125 64.59375 \r\nL 19.671875 64.59375 \r\nL 19.671875 43.109375 \r\nL 48.578125 43.109375 \r\nL 48.578125 34.8125 \r\nL 19.671875 34.8125 \r\nL 19.671875 0 \r\nL 9.8125 0 \r\nz\r\n\" id=\"DejaVuSans-70\"/>\r\n      <path d=\"M 34.28125 27.484375 \r\nQ 23.390625 27.484375 19.1875 25 \r\nQ 14.984375 22.515625 14.984375 16.5 \r\nQ 14.984375 11.71875 18.140625 8.90625 \r\nQ 21.296875 6.109375 26.703125 6.109375 \r\nQ 34.1875 6.109375 38.703125 11.40625 \r\nQ 43.21875 16.703125 43.21875 25.484375 \r\nL 43.21875 27.484375 \r\nz\r\nM 52.203125 31.203125 \r\nL 52.203125 0 \r\nL 43.21875 0 \r\nL 43.21875 8.296875 \r\nQ 40.140625 3.328125 35.546875 0.953125 \r\nQ 30.953125 -1.421875 24.3125 -1.421875 \r\nQ 15.921875 -1.421875 10.953125 3.296875 \r\nQ 6 8.015625 6 15.921875 \r\nQ 6 25.140625 12.171875 29.828125 \r\nQ 18.359375 34.515625 30.609375 34.515625 \r\nL 43.21875 34.515625 \r\nL 43.21875 35.40625 \r\nQ 43.21875 41.609375 39.140625 45 \r\nQ 35.0625 48.390625 27.6875 48.390625 \r\nQ 23 48.390625 18.546875 47.265625 \r\nQ 14.109375 46.140625 10.015625 43.890625 \r\nL 10.015625 52.203125 \r\nQ 14.9375 54.109375 19.578125 55.046875 \r\nQ 24.21875 56 28.609375 56 \r\nQ 40.484375 56 46.34375 49.84375 \r\nQ 52.203125 43.703125 52.203125 31.203125 \r\nz\r\n\" id=\"DejaVuSans-97\"/>\r\n      <path d=\"M 9.421875 75.984375 \r\nL 18.40625 75.984375 \r\nL 18.40625 0 \r\nL 9.421875 0 \r\nz\r\n\" id=\"DejaVuSans-108\"/>\r\n      <path d=\"M 44.28125 53.078125 \r\nL 44.28125 44.578125 \r\nQ 40.484375 46.53125 36.375 47.5 \r\nQ 32.28125 48.484375 27.875 48.484375 \r\nQ 21.1875 48.484375 17.84375 46.4375 \r\nQ 14.5 44.390625 14.5 40.28125 \r\nQ 14.5 37.15625 16.890625 35.375 \r\nQ 19.28125 33.59375 26.515625 31.984375 \r\nL 29.59375 31.296875 \r\nQ 39.15625 29.25 43.1875 25.515625 \r\nQ 47.21875 21.78125 47.21875 15.09375 \r\nQ 47.21875 7.46875 41.1875 3.015625 \r\nQ 35.15625 -1.421875 24.609375 -1.421875 \r\nQ 20.21875 -1.421875 15.453125 -0.5625 \r\nQ 10.6875 0.296875 5.421875 2 \r\nL 5.421875 11.28125 \r\nQ 10.40625 8.6875 15.234375 7.390625 \r\nQ 20.0625 6.109375 24.8125 6.109375 \r\nQ 31.15625 6.109375 34.5625 8.28125 \r\nQ 37.984375 10.453125 37.984375 14.40625 \r\nQ 37.984375 18.0625 35.515625 20.015625 \r\nQ 33.0625 21.96875 24.703125 23.78125 \r\nL 21.578125 24.515625 \r\nQ 13.234375 26.265625 9.515625 29.90625 \r\nQ 5.8125 33.546875 5.8125 39.890625 \r\nQ 5.8125 47.609375 11.28125 51.796875 \r\nQ 16.75 56 26.8125 56 \r\nQ 31.78125 56 36.171875 55.265625 \r\nQ 40.578125 54.546875 44.28125 53.078125 \r\nz\r\n\" id=\"DejaVuSans-115\"/>\r\n      <path d=\"M 56.203125 29.59375 \r\nL 56.203125 25.203125 \r\nL 14.890625 25.203125 \r\nQ 15.484375 15.921875 20.484375 11.0625 \r\nQ 25.484375 6.203125 34.421875 6.203125 \r\nQ 39.59375 6.203125 44.453125 7.46875 \r\nQ 49.3125 8.734375 54.109375 11.28125 \r\nL 54.109375 2.78125 \r\nQ 49.265625 0.734375 44.1875 -0.34375 \r\nQ 39.109375 -1.421875 33.890625 -1.421875 \r\nQ 20.796875 -1.421875 13.15625 6.1875 \r\nQ 5.515625 13.8125 5.515625 26.8125 \r\nQ 5.515625 40.234375 12.765625 48.109375 \r\nQ 20.015625 56 32.328125 56 \r\nQ 43.359375 56 49.78125 48.890625 \r\nQ 56.203125 41.796875 56.203125 29.59375 \r\nz\r\nM 47.21875 32.234375 \r\nQ 47.125 39.59375 43.09375 43.984375 \r\nQ 39.0625 48.390625 32.421875 48.390625 \r\nQ 24.90625 48.390625 20.390625 44.140625 \r\nQ 15.875 39.890625 15.1875 32.171875 \r\nz\r\n\" id=\"DejaVuSans-101\"/>\r\n      <path id=\"DejaVuSans-32\"/>\r\n      <path d=\"M 19.671875 64.796875 \r\nL 19.671875 37.40625 \r\nL 32.078125 37.40625 \r\nQ 38.96875 37.40625 42.71875 40.96875 \r\nQ 46.484375 44.53125 46.484375 51.125 \r\nQ 46.484375 57.671875 42.71875 61.234375 \r\nQ 38.96875 64.796875 32.078125 64.796875 \r\nz\r\nM 9.8125 72.90625 \r\nL 32.078125 72.90625 \r\nQ 44.34375 72.90625 50.609375 67.359375 \r\nQ 56.890625 61.8125 56.890625 51.125 \r\nQ 56.890625 40.328125 50.609375 34.8125 \r\nQ 44.34375 29.296875 32.078125 29.296875 \r\nL 19.671875 29.296875 \r\nL 19.671875 0 \r\nL 9.8125 0 \r\nz\r\n\" id=\"DejaVuSans-80\"/>\r\n      <path d=\"M 30.609375 48.390625 \r\nQ 23.390625 48.390625 19.1875 42.75 \r\nQ 14.984375 37.109375 14.984375 27.296875 \r\nQ 14.984375 17.484375 19.15625 11.84375 \r\nQ 23.34375 6.203125 30.609375 6.203125 \r\nQ 37.796875 6.203125 41.984375 11.859375 \r\nQ 46.1875 17.53125 46.1875 27.296875 \r\nQ 46.1875 37.015625 41.984375 42.703125 \r\nQ 37.796875 48.390625 30.609375 48.390625 \r\nz\r\nM 30.609375 56 \r\nQ 42.328125 56 49.015625 48.375 \r\nQ 55.71875 40.765625 55.71875 27.296875 \r\nQ 55.71875 13.875 49.015625 6.21875 \r\nQ 42.328125 -1.421875 30.609375 -1.421875 \r\nQ 18.84375 -1.421875 12.171875 6.21875 \r\nQ 5.515625 13.875 5.515625 27.296875 \r\nQ 5.515625 40.765625 12.171875 48.375 \r\nQ 18.84375 56 30.609375 56 \r\nz\r\n\" id=\"DejaVuSans-111\"/>\r\n      <path d=\"M 9.421875 54.6875 \r\nL 18.40625 54.6875 \r\nL 18.40625 0 \r\nL 9.421875 0 \r\nz\r\nM 9.421875 75.984375 \r\nL 18.40625 75.984375 \r\nL 18.40625 64.59375 \r\nL 9.421875 64.59375 \r\nz\r\n\" id=\"DejaVuSans-105\"/>\r\n      <path d=\"M 18.3125 70.21875 \r\nL 18.3125 54.6875 \r\nL 36.8125 54.6875 \r\nL 36.8125 47.703125 \r\nL 18.3125 47.703125 \r\nL 18.3125 18.015625 \r\nQ 18.3125 11.328125 20.140625 9.421875 \r\nQ 21.96875 7.515625 27.59375 7.515625 \r\nL 36.8125 7.515625 \r\nL 36.8125 0 \r\nL 27.59375 0 \r\nQ 17.1875 0 13.234375 3.875 \r\nQ 9.28125 7.765625 9.28125 18.015625 \r\nL 9.28125 47.703125 \r\nL 2.6875 47.703125 \r\nL 2.6875 54.6875 \r\nL 9.28125 54.6875 \r\nL 9.28125 70.21875 \r\nz\r\n\" id=\"DejaVuSans-116\"/>\r\n      <path d=\"M 2.984375 54.6875 \r\nL 12.5 54.6875 \r\nL 29.59375 8.796875 \r\nL 46.6875 54.6875 \r\nL 56.203125 54.6875 \r\nL 35.6875 0 \r\nL 23.484375 0 \r\nz\r\n\" id=\"DejaVuSans-118\"/>\r\n      <path d=\"M 44.390625 34.1875 \r\nQ 47.5625 33.109375 50.5625 29.59375 \r\nQ 53.5625 26.078125 56.59375 19.921875 \r\nL 66.609375 0 \r\nL 56 0 \r\nL 46.6875 18.703125 \r\nQ 43.0625 26.03125 39.671875 28.421875 \r\nQ 36.28125 30.8125 30.421875 30.8125 \r\nL 19.671875 30.8125 \r\nL 19.671875 0 \r\nL 9.8125 0 \r\nL 9.8125 72.90625 \r\nL 32.078125 72.90625 \r\nQ 44.578125 72.90625 50.734375 67.671875 \r\nQ 56.890625 62.453125 56.890625 51.90625 \r\nQ 56.890625 45.015625 53.6875 40.46875 \r\nQ 50.484375 35.9375 44.390625 34.1875 \r\nz\r\nM 19.671875 64.796875 \r\nL 19.671875 38.921875 \r\nL 32.078125 38.921875 \r\nQ 39.203125 38.921875 42.84375 42.21875 \r\nQ 46.484375 45.515625 46.484375 51.90625 \r\nQ 46.484375 58.296875 42.84375 61.546875 \r\nQ 39.203125 64.796875 32.078125 64.796875 \r\nz\r\n\" id=\"DejaVuSans-82\"/>\r\n     </defs>\r\n     <g transform=\"translate(164.714844 252.916562)scale(0.1 -0.1)\">\r\n      <use xlink:href=\"#DejaVuSans-70\"/>\r\n      <use x=\"48.394531\" xlink:href=\"#DejaVuSans-97\"/>\r\n      <use x=\"109.673828\" xlink:href=\"#DejaVuSans-108\"/>\r\n      <use x=\"137.457031\" xlink:href=\"#DejaVuSans-115\"/>\r\n      <use x=\"189.556641\" xlink:href=\"#DejaVuSans-101\"/>\r\n      <use x=\"251.080078\" xlink:href=\"#DejaVuSans-32\"/>\r\n      <use x=\"282.867188\" xlink:href=\"#DejaVuSans-80\"/>\r\n      <use x=\"339.544922\" xlink:href=\"#DejaVuSans-111\"/>\r\n      <use x=\"400.726562\" xlink:href=\"#DejaVuSans-115\"/>\r\n      <use x=\"452.826172\" xlink:href=\"#DejaVuSans-105\"/>\r\n      <use x=\"480.609375\" xlink:href=\"#DejaVuSans-116\"/>\r\n      <use x=\"519.818359\" xlink:href=\"#DejaVuSans-105\"/>\r\n      <use x=\"547.601562\" xlink:href=\"#DejaVuSans-118\"/>\r\n      <use x=\"606.78125\" xlink:href=\"#DejaVuSans-101\"/>\r\n      <use x=\"668.304688\" xlink:href=\"#DejaVuSans-32\"/>\r\n      <use x=\"700.091797\" xlink:href=\"#DejaVuSans-82\"/>\r\n      <use x=\"767.324219\" xlink:href=\"#DejaVuSans-97\"/>\r\n      <use x=\"828.603516\" xlink:href=\"#DejaVuSans-116\"/>\r\n      <use x=\"867.8125\" xlink:href=\"#DejaVuSans-101\"/>\r\n     </g>\r\n    </g>\r\n   </g>\r\n   <g id=\"matplotlib.axis_2\">\r\n    <g id=\"ytick_1\">\r\n     <g id=\"line2d_7\">\r\n      <defs>\r\n       <path d=\"M 0 0 \r\nL -3.5 0 \r\n\" id=\"m8081bddd0c\" style=\"stroke:#000000;stroke-width:0.8;\"/>\r\n      </defs>\r\n      <g>\r\n       <use style=\"stroke:#000000;stroke-width:0.8;\" x=\"43.78125\" xlink:href=\"#m8081bddd0c\" y=\"214.756364\"/>\r\n      </g>\r\n     </g>\r\n     <g id=\"text_8\">\r\n      <!-- 0.0 -->\r\n      <g transform=\"translate(20.878125 218.555582)scale(0.1 -0.1)\">\r\n       <use xlink:href=\"#DejaVuSans-48\"/>\r\n       <use x=\"63.623047\" xlink:href=\"#DejaVuSans-46\"/>\r\n       <use x=\"95.410156\" xlink:href=\"#DejaVuSans-48\"/>\r\n      </g>\r\n     </g>\r\n    </g>\r\n    <g id=\"ytick_2\">\r\n     <g id=\"line2d_8\">\r\n      <g>\r\n       <use style=\"stroke:#000000;stroke-width:0.8;\" x=\"43.78125\" xlink:href=\"#m8081bddd0c\" y=\"175.221818\"/>\r\n      </g>\r\n     </g>\r\n     <g id=\"text_9\">\r\n      <!-- 0.2 -->\r\n      <g transform=\"translate(20.878125 179.021037)scale(0.1 -0.1)\">\r\n       <use xlink:href=\"#DejaVuSans-48\"/>\r\n       <use x=\"63.623047\" xlink:href=\"#DejaVuSans-46\"/>\r\n       <use x=\"95.410156\" xlink:href=\"#DejaVuSans-50\"/>\r\n      </g>\r\n     </g>\r\n    </g>\r\n    <g id=\"ytick_3\">\r\n     <g id=\"line2d_9\">\r\n      <g>\r\n       <use style=\"stroke:#000000;stroke-width:0.8;\" x=\"43.78125\" xlink:href=\"#m8081bddd0c\" y=\"135.687273\"/>\r\n      </g>\r\n     </g>\r\n     <g id=\"text_10\">\r\n      <!-- 0.4 -->\r\n      <g transform=\"translate(20.878125 139.486491)scale(0.1 -0.1)\">\r\n       <use xlink:href=\"#DejaVuSans-48\"/>\r\n       <use x=\"63.623047\" xlink:href=\"#DejaVuSans-46\"/>\r\n       <use x=\"95.410156\" xlink:href=\"#DejaVuSans-52\"/>\r\n      </g>\r\n     </g>\r\n    </g>\r\n    <g id=\"ytick_4\">\r\n     <g id=\"line2d_10\">\r\n      <g>\r\n       <use style=\"stroke:#000000;stroke-width:0.8;\" x=\"43.78125\" xlink:href=\"#m8081bddd0c\" y=\"96.152727\"/>\r\n      </g>\r\n     </g>\r\n     <g id=\"text_11\">\r\n      <!-- 0.6 -->\r\n      <g transform=\"translate(20.878125 99.951946)scale(0.1 -0.1)\">\r\n       <use xlink:href=\"#DejaVuSans-48\"/>\r\n       <use x=\"63.623047\" xlink:href=\"#DejaVuSans-46\"/>\r\n       <use x=\"95.410156\" xlink:href=\"#DejaVuSans-54\"/>\r\n      </g>\r\n     </g>\r\n    </g>\r\n    <g id=\"ytick_5\">\r\n     <g id=\"line2d_11\">\r\n      <g>\r\n       <use style=\"stroke:#000000;stroke-width:0.8;\" x=\"43.78125\" xlink:href=\"#m8081bddd0c\" y=\"56.618182\"/>\r\n      </g>\r\n     </g>\r\n     <g id=\"text_12\">\r\n      <!-- 0.8 -->\r\n      <g transform=\"translate(20.878125 60.417401)scale(0.1 -0.1)\">\r\n       <use xlink:href=\"#DejaVuSans-48\"/>\r\n       <use x=\"63.623047\" xlink:href=\"#DejaVuSans-46\"/>\r\n       <use x=\"95.410156\" xlink:href=\"#DejaVuSans-56\"/>\r\n      </g>\r\n     </g>\r\n    </g>\r\n    <g id=\"ytick_6\">\r\n     <g id=\"line2d_12\">\r\n      <g>\r\n       <use style=\"stroke:#000000;stroke-width:0.8;\" x=\"43.78125\" xlink:href=\"#m8081bddd0c\" y=\"17.083636\"/>\r\n      </g>\r\n     </g>\r\n     <g id=\"text_13\">\r\n      <!-- 1.0 -->\r\n      <g transform=\"translate(20.878125 20.882855)scale(0.1 -0.1)\">\r\n       <use xlink:href=\"#DejaVuSans-49\"/>\r\n       <use x=\"63.623047\" xlink:href=\"#DejaVuSans-46\"/>\r\n       <use x=\"95.410156\" xlink:href=\"#DejaVuSans-48\"/>\r\n      </g>\r\n     </g>\r\n    </g>\r\n    <g id=\"text_14\">\r\n     <!-- True Positive Rate -->\r\n     <defs>\r\n      <path d=\"M -0.296875 72.90625 \r\nL 61.375 72.90625 \r\nL 61.375 64.59375 \r\nL 35.5 64.59375 \r\nL 35.5 0 \r\nL 25.59375 0 \r\nL 25.59375 64.59375 \r\nL -0.296875 64.59375 \r\nz\r\n\" id=\"DejaVuSans-84\"/>\r\n      <path d=\"M 41.109375 46.296875 \r\nQ 39.59375 47.171875 37.8125 47.578125 \r\nQ 36.03125 48 33.890625 48 \r\nQ 26.265625 48 22.1875 43.046875 \r\nQ 18.109375 38.09375 18.109375 28.8125 \r\nL 18.109375 0 \r\nL 9.078125 0 \r\nL 9.078125 54.6875 \r\nL 18.109375 54.6875 \r\nL 18.109375 46.1875 \r\nQ 20.953125 51.171875 25.484375 53.578125 \r\nQ 30.03125 56 36.53125 56 \r\nQ 37.453125 56 38.578125 55.875 \r\nQ 39.703125 55.765625 41.0625 55.515625 \r\nz\r\n\" id=\"DejaVuSans-114\"/>\r\n      <path d=\"M 8.5 21.578125 \r\nL 8.5 54.6875 \r\nL 17.484375 54.6875 \r\nL 17.484375 21.921875 \r\nQ 17.484375 14.15625 20.5 10.265625 \r\nQ 23.53125 6.390625 29.59375 6.390625 \r\nQ 36.859375 6.390625 41.078125 11.03125 \r\nQ 45.3125 15.671875 45.3125 23.6875 \r\nL 45.3125 54.6875 \r\nL 54.296875 54.6875 \r\nL 54.296875 0 \r\nL 45.3125 0 \r\nL 45.3125 8.40625 \r\nQ 42.046875 3.421875 37.71875 1 \r\nQ 33.40625 -1.421875 27.6875 -1.421875 \r\nQ 18.265625 -1.421875 13.375 4.4375 \r\nQ 8.5 10.296875 8.5 21.578125 \r\nz\r\nM 31.109375 56 \r\nz\r\n\" id=\"DejaVuSans-117\"/>\r\n     </defs>\r\n     <g transform=\"translate(14.798438 160.449687)rotate(-90)scale(0.1 -0.1)\">\r\n      <use xlink:href=\"#DejaVuSans-84\"/>\r\n      <use x=\"46.333984\" xlink:href=\"#DejaVuSans-114\"/>\r\n      <use x=\"87.447266\" xlink:href=\"#DejaVuSans-117\"/>\r\n      <use x=\"150.826172\" xlink:href=\"#DejaVuSans-101\"/>\r\n      <use x=\"212.349609\" xlink:href=\"#DejaVuSans-32\"/>\r\n      <use x=\"244.136719\" xlink:href=\"#DejaVuSans-80\"/>\r\n      <use x=\"300.814453\" xlink:href=\"#DejaVuSans-111\"/>\r\n      <use x=\"361.996094\" xlink:href=\"#DejaVuSans-115\"/>\r\n      <use x=\"414.095703\" xlink:href=\"#DejaVuSans-105\"/>\r\n      <use x=\"441.878906\" xlink:href=\"#DejaVuSans-116\"/>\r\n      <use x=\"481.087891\" xlink:href=\"#DejaVuSans-105\"/>\r\n      <use x=\"508.871094\" xlink:href=\"#DejaVuSans-118\"/>\r\n      <use x=\"568.050781\" xlink:href=\"#DejaVuSans-101\"/>\r\n      <use x=\"629.574219\" xlink:href=\"#DejaVuSans-32\"/>\r\n      <use x=\"661.361328\" xlink:href=\"#DejaVuSans-82\"/>\r\n      <use x=\"728.59375\" xlink:href=\"#DejaVuSans-97\"/>\r\n      <use x=\"789.873047\" xlink:href=\"#DejaVuSans-116\"/>\r\n      <use x=\"829.082031\" xlink:href=\"#DejaVuSans-101\"/>\r\n     </g>\r\n    </g>\r\n   </g>\r\n   <g id=\"line2d_13\">\r\n    <path clip-path=\"url(#p12d36c4e45)\" d=\"M 58.999432 214.756364 \r\nL 59.097915 200.435176 \r\nL 59.147157 200.435176 \r\nL 59.245641 190.753247 \r\nL 59.294883 190.753247 \r\nL 59.393366 189.744712 \r\nL 59.442608 189.744712 \r\nL 59.541092 183.592653 \r\nL 59.590334 183.592653 \r\nL 59.688817 182.483265 \r\nL 59.738059 182.483265 \r\nL 59.836543 179.054249 \r\nL 59.935026 178.953395 \r\nL 60.03351 178.146568 \r\nL 60.082752 178.146568 \r\nL 60.181235 176.028646 \r\nL 60.230477 176.028646 \r\nL 60.328961 175.221818 \r\nL 60.378203 175.221818 \r\nL 60.476686 171.389388 \r\nL 60.525928 171.389388 \r\nL 60.57517 169.473173 \r\nL 60.722895 169.473173 \r\nL 60.821379 167.758664 \r\nL 60.969104 167.758664 \r\nL 61.067588 164.833915 \r\nL 61.11683 164.833915 \r\nL 61.215313 163.82538 \r\nL 61.412281 163.724527 \r\nL 61.510764 162.211725 \r\nL 61.707731 162.110872 \r\nL 61.806215 160.396364 \r\nL 61.855457 160.396364 \r\nL 61.953941 158.984416 \r\nL 62.003182 158.984416 \r\nL 62.101666 158.681855 \r\nL 62.20015 158.581002 \r\nL 62.298633 156.362226 \r\nL 62.446359 156.261373 \r\nL 62.544842 154.950278 \r\nL 62.594084 154.849425 \r\nL 62.643326 153.941744 \r\nL 62.791051 153.840891 \r\nL 62.840293 153.336623 \r\nL 62.938777 153.336623 \r\nL 63.03726 152.630649 \r\nL 63.135744 152.630649 \r\nL 63.184986 151.823822 \r\nL 63.283469 151.823822 \r\nL 63.332711 150.714434 \r\nL 63.480437 150.613581 \r\nL 63.529678 149.907607 \r\nL 63.628162 149.907607 \r\nL 63.726646 149.100779 \r\nL 63.775888 149.100779 \r\nL 63.874371 148.596512 \r\nL 63.923613 148.596512 \r\nL 64.022097 147.386271 \r\nL 64.169822 147.285417 \r\nL 64.268306 145.873469 \r\nL 64.366789 145.873469 \r\nL 64.416031 144.562375 \r\nL 64.514515 144.562375 \r\nL 64.612998 143.25128 \r\nL 64.66224 143.25128 \r\nL 64.760724 142.041039 \r\nL 64.957691 141.940186 \r\nL 65.056175 141.536772 \r\nL 65.154658 141.435918 \r\nL 65.253142 140.629091 \r\nL 65.302384 140.326531 \r\nL 65.400867 139.822263 \r\nL 65.450109 139.822263 \r\nL 65.499351 138.914583 \r\nL 65.597835 138.914583 \r\nL 65.696318 138.612022 \r\nL 65.74556 138.612022 \r\nL 65.844044 137.603488 \r\nL 66.090253 137.502635 \r\nL 66.139494 137.099221 \r\nL 66.28722 136.998367 \r\nL 66.385704 136.79666 \r\nL 66.484187 136.393247 \r\nL 66.533429 136.393247 \r\nL 66.631913 135.384712 \r\nL 66.681154 135.384712 \r\nL 66.779638 133.670204 \r\nL 66.82888 133.670204 \r\nL 66.927363 132.863377 \r\nL 66.976605 132.863377 \r\nL 66.976605 131.955696 \r\nL 67.124331 131.955696 \r\nL 67.222814 131.148868 \r\nL 67.321298 131.148868 \r\nL 67.37054 130.644601 \r\nL 67.518265 130.644601 \r\nL 67.616749 130.140334 \r\nL 67.665991 130.039481 \r\nL 67.764474 128.425826 \r\nL 67.9122 128.425826 \r\nL 67.961441 127.316438 \r\nL 68.059925 127.215584 \r\nL 68.158409 126.50961 \r\nL 68.306134 126.408757 \r\nL 68.355376 126.005343 \r\nL 68.404618 126.005343 \r\nL 68.503101 126.005343 \r\nL 68.601585 125.400223 \r\nL 68.798552 125.400223 \r\nL 68.847794 124.189981 \r\nL 69.044761 124.189981 \r\nL 69.143245 123.484007 \r\nL 69.192487 123.484007 \r\nL 69.192487 123.282301 \r\nL 69.29097 123.282301 \r\nL 69.340212 123.282301 \r\nL 69.389454 122.576327 \r\nL 69.537179 122.576327 \r\nL 69.537179 122.475473 \r\nL 69.734147 121.870353 \r\nL 69.881872 121.870353 \r\nL 69.931114 121.265232 \r\nL 70.423532 121.265232 \r\nL 70.522016 120.458404 \r\nL 70.571258 120.155844 \r\nL 70.866708 120.054991 \r\nL 70.91595 119.349017 \r\nL 71.112917 119.349017 \r\nL 71.211401 118.84475 \r\nL 71.408368 118.743896 \r\nL 71.506852 117.533655 \r\nL 71.654577 117.432801 \r\nL 71.753061 117.029388 \r\nL 71.802303 117.029388 \r\nL 71.851545 116.323414 \r\nL 71.99927 116.323414 \r\nL 72.097754 115.516586 \r\nL 72.146995 115.516586 \r\nL 72.196237 115.113173 \r\nL 72.294721 115.113173 \r\nL 72.393205 114.810612 \r\nL 72.442446 114.810612 \r\nL 72.54093 113.802078 \r\nL 72.590172 113.802078 \r\nL 72.688655 113.297811 \r\nL 72.787139 113.297811 \r\nL 72.885623 112.793544 \r\nL 72.984106 112.793544 \r\nL 73.08259 112.08757 \r\nL 73.230315 111.986716 \r\nL 73.230315 111.885863 \r\nL 73.378041 111.885863 \r\nL 73.476524 111.079035 \r\nL 73.575008 111.079035 \r\nL 73.673492 110.373061 \r\nL 73.771975 110.373061 \r\nL 73.870459 109.667087 \r\nL 73.919701 109.667087 \r\nL 74.018184 109.364527 \r\nL 74.067426 109.364527 \r\nL 74.067426 109.16282 \r\nL 74.510602 109.061967 \r\nL 74.609086 108.86026 \r\nL 74.658328 108.86026 \r\nL 74.756811 108.053432 \r\nL 74.855295 108.053432 \r\nL 74.855295 107.750872 \r\nL 75.003021 107.750872 \r\nL 75.052262 107.448312 \r\nL 75.24923 107.347458 \r\nL 75.24923 107.044898 \r\nL 75.446197 106.944045 \r\nL 75.54468 106.439777 \r\nL 75.593922 106.439777 \r\nL 75.593922 106.238071 \r\nL 75.938615 106.238071 \r\nL 76.037099 105.027829 \r\nL 76.184824 104.926976 \r\nL 76.283308 103.918442 \r\nL 76.431033 103.817588 \r\nL 76.529517 103.010761 \r\nL 76.677242 102.909907 \r\nL 76.775726 102.304787 \r\nL 76.874209 102.203933 \r\nL 76.972693 102.002226 \r\nL 77.071177 101.901373 \r\nL 77.120418 101.699666 \r\nL 77.366627 101.598813 \r\nL 77.465111 101.397106 \r\nL 77.612837 101.296252 \r\nL 77.71132 100.691132 \r\nL 77.859046 100.691132 \r\nL 77.908287 100.388571 \r\nL 78.056013 100.388571 \r\nL 78.056013 100.086011 \r\nL 78.25298 99.985158 \r\nL 78.351464 99.480891 \r\nL 78.548431 99.380037 \r\nL 78.548431 98.87577 \r\nL 78.745398 98.774917 \r\nL 78.745398 98.674063 \r\nL 79.040849 98.57321 \r\nL 79.090091 98.371503 \r\nL 79.434784 98.270649 \r\nL 79.434784 98.169796 \r\nL 79.582509 98.169796 \r\nL 79.680993 97.564675 \r\nL 79.87796 97.463822 \r\nL 79.976443 96.556141 \r\nL 80.271894 96.455288 \r\nL 80.271894 96.253581 \r\nL 80.567345 96.152727 \r\nL 80.665829 95.850167 \r\nL 80.912038 95.850167 \r\nL 81.010522 95.04334 \r\nL 81.404456 94.942486 \r\nL 81.404456 94.841633 \r\nL 81.650665 94.740779 \r\nL 81.749149 94.438219 \r\nL 81.847632 94.438219 \r\nL 81.847632 94.236512 \r\nL 82.34005 94.135659 \r\nL 82.438534 93.833098 \r\nL 82.537018 93.833098 \r\nL 82.635501 93.530538 \r\nL 82.783227 93.429685 \r\nL 82.832469 92.824564 \r\nL 82.930952 92.824564 \r\nL 82.930952 92.522004 \r\nL 83.226403 92.42115 \r\nL 83.324887 91.715176 \r\nL 83.620338 91.614323 \r\nL 83.718821 91.210909 \r\nL 83.817305 91.210909 \r\nL 83.817305 90.908349 \r\nL 84.014272 90.807495 \r\nL 84.112756 90.202375 \r\nL 84.50669 90.101521 \r\nL 84.605174 88.89128 \r\nL 84.654416 88.89128 \r\nL 84.654416 88.58872 \r\nL 84.900625 88.487866 \r\nL 84.900625 88.28616 \r\nL 85.196075 88.185306 \r\nL 85.245317 87.983599 \r\nL 85.442285 87.882746 \r\nL 85.442285 87.781892 \r\nL 85.639252 87.781892 \r\nL 85.737735 87.378479 \r\nL 85.885461 87.378479 \r\nL 85.983944 86.874212 \r\nL 86.230154 86.773358 \r\nL 86.328637 86.470798 \r\nL 86.67333 86.369944 \r\nL 86.771813 85.66397 \r\nL 87.018023 85.05885 \r\nL 87.411957 84.957996 \r\nL 87.461199 84.756289 \r\nL 87.707408 84.655436 \r\nL 87.707408 84.453729 \r\nL 88.002859 84.453729 \r\nL 88.002859 84.352876 \r\nL 88.052101 84.252022 \r\nL 88.544519 84.151169 \r\nL 88.643002 83.747755 \r\nL 88.987695 83.142635 \r\nL 89.381629 83.041781 \r\nL 89.480113 82.638367 \r\nL 89.578597 82.537514 \r\nL 89.578597 82.43666 \r\nL 89.775564 82.335807 \r\nL 89.874048 82.1341 \r\nL 90.071015 82.033247 \r\nL 90.071015 81.932393 \r\nL 90.169498 81.932393 \r\nL 90.415708 81.327273 \r\nL 90.514191 80.823006 \r\nL 90.809642 80.823006 \r\nL 90.908126 80.217885 \r\nL 91.154335 80.117032 \r\nL 91.252818 79.612764 \r\nL 91.548269 79.612764 \r\nL 91.646753 79.108497 \r\nL 91.745236 79.007644 \r\nL 91.84372 78.60423 \r\nL 92.040687 78.503377 \r\nL 92.139171 78.30167 \r\nL 92.434622 78.200816 \r\nL 92.434622 78.099963 \r\nL 92.680831 77.999109 \r\nL 92.779314 77.696549 \r\nL 92.976282 77.595696 \r\nL 93.074765 77.192282 \r\nL 93.124007 77.192282 \r\nL 93.222491 76.788868 \r\nL 93.4687 76.688015 \r\nL 93.616425 76.587161 \r\nL 93.714909 75.982041 \r\nL 94.256569 75.881187 \r\nL 94.256569 75.780334 \r\nL 94.453536 75.679481 \r\nL 94.502778 75.477774 \r\nL 94.798229 75.37692 \r\nL 94.847471 75.175213 \r\nL 94.945954 75.175213 \r\nL 94.945954 74.973506 \r\nL 95.339889 74.872653 \r\nL 95.339889 74.7718 \r\nL 95.536856 74.7718 \r\nL 95.536856 74.469239 \r\nL 95.733823 74.469239 \r\nL 95.733823 74.267532 \r\nL 95.881549 74.267532 \r\nL 95.93079 73.964972 \r\nL 96.176999 73.864119 \r\nL 96.275483 73.359852 \r\nL 96.47245 73.258998 \r\nL 96.570934 72.855584 \r\nL 96.718659 72.754731 \r\nL 96.718659 72.653878 \r\nL 97.358803 72.653878 \r\nL 97.457287 72.14961 \r\nL 97.703496 72.048757 \r\nL 97.703496 71.947904 \r\nL 98.146672 71.84705 \r\nL 98.195914 71.746197 \r\nL 98.540606 71.645343 \r\nL 98.63909 71.241929 \r\nL 98.737574 71.241929 \r\nL 98.836057 70.838516 \r\nL 98.934541 70.737662 \r\nL 98.934541 70.535955 \r\nL 99.279234 70.435102 \r\nL 99.377717 70.233395 \r\nL 99.623926 70.132542 \r\nL 99.623926 70.031688 \r\nL 99.72241 70.031688 \r\nL 99.820893 70.031688 \r\nL 99.919377 69.729128 \r\nL 100.214828 69.628275 \r\nL 100.214828 69.527421 \r\nL 100.510279 69.527421 \r\nL 100.608762 69.224861 \r\nL 100.658004 69.224861 \r\nL 100.756488 68.922301 \r\nL 100.854972 68.922301 \r\nL 100.854972 68.821447 \r\nL 100.904213 68.720594 \r\nL 101.150422 68.720594 \r\nL 101.150422 68.61974 \r\nL 101.298148 68.216327 \r\nL 101.544357 68.216327 \r\nL 101.642841 67.913766 \r\nL 101.839808 67.812913 \r\nL 101.88905 67.611206 \r\nL 102.036775 67.510353 \r\nL 102.036775 67.207792 \r\nL 102.1845 67.207792 \r\nL 102.1845 67.106939 \r\nL 103.26782 64.888163 \r\nL 103.710997 64.78731 \r\nL 103.80948 64.585603 \r\nL 104.154173 64.585603 \r\nL 104.252657 63.677922 \r\nL 104.942042 63.577069 \r\nL 104.991284 63.476215 \r\nL 105.335976 63.375362 \r\nL 105.335976 63.173655 \r\nL 105.680669 63.173655 \r\nL 105.680669 62.770241 \r\nL 105.877636 62.669388 \r\nL 105.926878 62.366827 \r\nL 106.074604 62.366827 \r\nL 106.074604 62.265974 \r\nL 106.123845 62.165121 \r\nL 106.271571 62.165121 \r\nL 106.320813 61.86256 \r\nL 106.616263 61.761707 \r\nL 106.665505 61.56 \r\nL 107.207165 61.459147 \r\nL 107.256407 60.954879 \r\nL 107.699583 60.854026 \r\nL 107.798067 60.652319 \r\nL 107.847309 60.551466 \r\nL 108.585936 60.450612 \r\nL 108.68442 60.148052 \r\nL 108.733661 60.047199 \r\nL 109.078354 60.047199 \r\nL 109.176838 59.542931 \r\nL 109.52153 59.442078 \r\nL 109.570772 59.341224 \r\nL 109.816981 59.240371 \r\nL 109.816981 59.038664 \r\nL 109.964707 59.038664 \r\nL 110.06319 58.433544 \r\nL 110.161674 58.33269 \r\nL 110.260158 58.03013 \r\nL 110.457125 57.929276 \r\nL 110.703334 57.223302 \r\nL 110.851059 57.223302 \r\nL 110.851059 57.021596 \r\nL 111.097268 57.021596 \r\nL 111.097268 56.819889 \r\nL 111.195752 56.819889 \r\nL 111.638928 56.113915 \r\nL 112.131346 56.013061 \r\nL 112.279072 55.710501 \r\nL 112.574523 55.609647 \r\nL 112.574523 55.508794 \r\nL 112.673006 55.508794 \r\nL 112.919215 55.407941 \r\nL 112.919215 55.206234 \r\nL 113.510117 55.206234 \r\nL 113.559359 54.80282 \r\nL 113.608601 54.80282 \r\nL 113.904052 54.298553 \r\nL 114.199502 54.197699 \r\nL 114.199502 54.096846 \r\nL 114.691921 53.995993 \r\nL 114.691921 53.895139 \r\nL 115.085855 53.794286 \r\nL 115.135097 53.390872 \r\nL 115.627515 53.290019 \r\nL 115.725999 53.088312 \r\nL 116.021449 52.987458 \r\nL 116.119933 52.684898 \r\nL 116.415384 52.584045 \r\nL 116.415384 52.483191 \r\nL 116.563109 52.483191 \r\nL 116.563109 52.281484 \r\nL 116.760077 52.281484 \r\nL 116.760077 52.079777 \r\nL 117.301737 51.978924 \r\nL 117.40022 51.57551 \r\nL 117.843396 51.474657 \r\nL 117.843396 51.373803 \r\nL 118.089606 51.27295 \r\nL 118.089606 51.172096 \r\nL 118.188089 51.172096 \r\nL 118.828233 51.172096 \r\nL 118.828233 50.97039 \r\nL 119.172925 50.869536 \r\nL 119.271409 50.667829 \r\nL 119.320651 50.667829 \r\nL 119.320651 50.264416 \r\nL 119.665343 50.163562 \r\nL 119.665343 50.062709 \r\nL 119.763827 50.062709 \r\nL 119.911553 49.961855 \r\nL 120.403971 49.760148 \r\nL 121.19184 49.760148 \r\nL 121.19184 49.659295 \r\nL 121.487291 49.255881 \r\nL 122.324401 49.155028 \r\nL 122.324401 49.054174 \r\nL 122.57061 49.054174 \r\nL 122.669094 48.549907 \r\nL 123.161512 48.449054 \r\nL 123.210754 48.247347 \r\nL 123.506205 48.146494 \r\nL 123.555447 47.944787 \r\nL 123.752414 47.843933 \r\nL 123.850897 47.440519 \r\nL 123.949381 47.440519 \r\nL 123.949381 47.238813 \r\nL 124.047865 47.238813 \r\nL 124.097107 47.238813 \r\nL 124.097107 47.037106 \r\nL 124.244832 47.037106 \r\nL 124.244832 46.936252 \r\nL 124.491041 46.431985 \r\nL 124.638766 46.431985 \r\nL 124.73725 46.129425 \r\nL 124.983459 46.028571 \r\nL 125.081943 45.826865 \r\nL 125.968295 45.726011 \r\nL 126.017537 45.524304 \r\nL 127.44555 45.423451 \r\nL 127.44555 45.322597 \r\nL 127.544033 45.322597 \r\nL 127.741001 44.51577 \r\nL 128.28266 44.414917 \r\nL 128.28266 44.314063 \r\nL 128.52887 44.314063 \r\nL 128.52887 44.112356 \r\nL 128.873562 44.011503 \r\nL 128.873562 43.910649 \r\nL 128.972046 43.910649 \r\nL 129.36598 43.809796 \r\nL 129.36598 43.608089 \r\nL 129.612189 43.608089 \r\nL 129.710673 43.204675 \r\nL 129.809157 43.204675 \r\nL 129.809157 42.902115 \r\nL 129.90764 42.902115 \r\nL 130.153849 42.801262 \r\nL 130.252333 42.498701 \r\nL 131.040202 42.397848 \r\nL 131.089444 41.994434 \r\nL 131.434136 41.893581 \r\nL 131.828071 41.490167 \r\nL 132.172764 41.389314 \r\nL 132.222005 41.187607 \r\nL 132.911391 41.086753 \r\nL 133.009874 40.885046 \r\nL 133.206842 40.784193 \r\nL 133.206842 40.68334 \r\nL 133.256083 40.68334 \r\nL 133.453051 40.68334 \r\nL 133.453051 40.481633 \r\nL 133.650018 40.380779 \r\nL 133.650018 40.279926 \r\nL 133.945469 40.179072 \r\nL 133.994711 39.977365 \r\nL 135.127272 39.876512 \r\nL 135.422723 39.069685 \r\nL 136.210592 38.968831 \r\nL 136.210592 38.767124 \r\nL 136.456801 38.767124 \r\nL 136.456801 38.565417 \r\nL 136.70301 38.565417 \r\nL 136.752252 38.162004 \r\nL 137.638605 38.06115 \r\nL 137.638605 37.960297 \r\nL 137.983297 37.75859 \r\nL 138.721925 37.657737 \r\nL 138.820408 37.45603 \r\nL 139.165101 37.355176 \r\nL 139.41131 37.052616 \r\nL 139.805244 36.951763 \r\nL 139.805244 36.850909 \r\nL 140.49463 36.750056 \r\nL 140.937806 36.447495 \r\nL 142.168851 36.346642 \r\nL 142.267335 36.144935 \r\nL 142.710511 36.044082 \r\nL 142.710511 35.943228 \r\nL 143.547622 35.842375 \r\nL 143.547622 35.741521 \r\nL 144.237007 35.640668 \r\nL 144.335491 35.438961 \r\nL 145.812745 35.338108 \r\nL 145.861987 35.035547 \r\nL 146.108196 34.934694 \r\nL 146.108196 34.83384 \r\nL 146.452889 34.732987 \r\nL 146.452889 34.632134 \r\nL 146.551373 34.632134 \r\nL 146.600614 34.53128 \r\nL 147.339241 34.430427 \r\nL 147.339241 34.329573 \r\nL 147.683934 34.329573 \r\nL 147.782418 34.027013 \r\nL 148.225594 33.92616 \r\nL 148.225594 33.825306 \r\nL 149.555123 33.724453 \r\nL 149.555123 33.522746 \r\nL 150.490717 33.421892 \r\nL 150.490717 33.321039 \r\nL 151.130861 33.220186 \r\nL 151.130861 33.018479 \r\nL 151.180103 33.018479 \r\nL 152.066455 32.917625 \r\nL 152.066455 32.615065 \r\nL 153.248259 32.514212 \r\nL 153.248259 32.413358 \r\nL 154.577788 32.312505 \r\nL 154.577788 32.110798 \r\nL 155.759591 32.009944 \r\nL 155.858075 31.808237 \r\nL 156.399735 31.707384 \r\nL 156.399735 31.606531 \r\nL 156.793669 31.505677 \r\nL 156.793669 31.404824 \r\nL 157.384571 31.30397 \r\nL 157.483055 31.102263 \r\nL 157.827747 31.102263 \r\nL 157.876989 30.799703 \r\nL 158.418649 30.69885 \r\nL 158.517133 30.396289 \r\nL 159.25576 30.295436 \r\nL 159.354243 30.194583 \r\nL 159.354243 29.992876 \r\nL 159.79742 29.892022 \r\nL 159.846662 29.690315 \r\nL 159.895903 29.690315 \r\nL 160.043629 29.690315 \r\nL 160.043629 29.488609 \r\nL 160.092871 29.488609 \r\nL 161.274674 29.387755 \r\nL 161.274674 29.286902 \r\nL 161.373158 29.286902 \r\nL 161.619367 29.186048 \r\nL 161.619367 29.085195 \r\nL 163.589039 28.984341 \r\nL 163.589039 28.883488 \r\nL 163.982974 28.782635 \r\nL 163.982974 28.681781 \r\nL 164.672359 28.580928 \r\nL 164.672359 28.480074 \r\nL 165.361744 28.379221 \r\nL 165.460228 28.177514 \r\nL 166.05113 28.07666 \r\nL 166.05113 27.975807 \r\nL 166.789757 27.874954 \r\nL 166.789757 27.572393 \r\nL 166.888241 27.572393 \r\nL 167.823835 27.47154 \r\nL 167.873077 27.269833 \r\nL 169.153364 27.16898 \r\nL 169.251848 26.866419 \r\nL 170.630618 26.765566 \r\nL 170.630618 26.664712 \r\nL 170.827586 26.664712 \r\nL 170.827586 26.463006 \r\nL 171.467729 26.362152 \r\nL 171.467729 26.261299 \r\nL 172.895742 26.160445 \r\nL 172.895742 25.958738 \r\nL 174.372996 25.857885 \r\nL 174.372996 25.757032 \r\nL 174.619205 25.656178 \r\nL 174.717689 25.353618 \r\nL 176.342668 25.252764 \r\nL 176.342668 25.151911 \r\nL 177.179779 25.051058 \r\nL 177.229021 24.849351 \r\nL 177.918406 24.748497 \r\nL 177.918406 24.647644 \r\nL 178.952484 24.54679 \r\nL 178.952484 24.445937 \r\nL 180.380497 24.345083 \r\nL 180.380497 24.143377 \r\nL 181.26685 24.042523 \r\nL 181.316091 23.840816 \r\nL 184.172116 23.739963 \r\nL 184.221358 23.538256 \r\nL 185.600129 23.437403 \r\nL 185.600129 23.336549 \r\nL 186.732691 23.235696 \r\nL 186.732691 23.134842 \r\nL 187.963736 23.033989 \r\nL 187.963736 22.933135 \r\nL 189.834925 22.832282 \r\nL 189.834925 22.731429 \r\nL 191.410663 22.630575 \r\nL 191.410663 22.529722 \r\nL 192.346257 22.428868 \r\nL 192.346257 22.328015 \r\nL 192.986401 22.227161 \r\nL 192.986401 22.126308 \r\nL 194.512897 22.025455 \r\nL 194.512897 21.924601 \r\nL 195.546975 21.823748 \r\nL 195.546975 21.622041 \r\nL 203.524148 21.521187 \r\nL 203.524148 21.420334 \r\nL 204.558226 21.319481 \r\nL 204.558226 21.218627 \r\nL 205.789272 21.117774 \r\nL 205.789272 20.916067 \r\nL 206.872592 20.815213 \r\nL 206.872592 20.71436 \r\nL 208.793022 20.613506 \r\nL 208.891506 20.4118 \r\nL 211.008904 20.310946 \r\nL 211.008904 20.210093 \r\nL 214.258863 20.109239 \r\nL 214.258863 20.008386 \r\nL 221.546651 19.907532 \r\nL 221.546651 19.806679 \r\nL 228.58823 19.705826 \r\nL 228.58823 19.604972 \r\nL 236.614646 19.504119 \r\nL 236.614646 19.403265 \r\nL 239.864605 19.302412 \r\nL 239.864605 19.201558 \r\nL 247.250877 19.100705 \r\nL 247.250877 18.999852 \r\nL 250.500836 18.898998 \r\nL 250.500836 18.798145 \r\nL 258.773461 18.697291 \r\nL 258.773461 18.596438 \r\nL 266.849118 18.495584 \r\nL 266.947601 18.193024 \r\nL 275.909611 18.092171 \r\nL 275.909611 17.991317 \r\nL 289.2049 17.890464 \r\nL 289.2049 17.78961 \r\nL 297.477525 17.688757 \r\nL 297.477525 17.587904 \r\nL 321.655254 17.48705 \r\nL 321.655254 17.386197 \r\nL 345.045114 17.285343 \r\nL 345.045114 17.18449 \r\nL 363.363068 17.083636 \r\nL 363.363068 17.083636 \r\n\" style=\"fill:none;stroke:#1f77b4;stroke-linecap:square;stroke-width:1.5;\"/>\r\n   </g>\r\n   <g id=\"patch_3\">\r\n    <path d=\"M 43.78125 224.64 \r\nL 43.78125 7.2 \r\n\" style=\"fill:none;stroke:#000000;stroke-linecap:square;stroke-linejoin:miter;stroke-width:0.8;\"/>\r\n   </g>\r\n   <g id=\"patch_4\">\r\n    <path d=\"M 378.58125 224.64 \r\nL 378.58125 7.2 \r\n\" style=\"fill:none;stroke:#000000;stroke-linecap:square;stroke-linejoin:miter;stroke-width:0.8;\"/>\r\n   </g>\r\n   <g id=\"patch_5\">\r\n    <path d=\"M 43.78125 224.64 \r\nL 378.58125 224.64 \r\n\" style=\"fill:none;stroke:#000000;stroke-linecap:square;stroke-linejoin:miter;stroke-width:0.8;\"/>\r\n   </g>\r\n   <g id=\"patch_6\">\r\n    <path d=\"M 43.78125 7.2 \r\nL 378.58125 7.2 \r\n\" style=\"fill:none;stroke:#000000;stroke-linecap:square;stroke-linejoin:miter;stroke-width:0.8;\"/>\r\n   </g>\r\n   <g id=\"legend_1\">\r\n    <g id=\"patch_7\">\r\n     <path d=\"M 231.325 219.64 \r\nL 371.58125 219.64 \r\nQ 373.58125 219.64 373.58125 217.64 \r\nL 373.58125 203.961875 \r\nQ 373.58125 201.961875 371.58125 201.961875 \r\nL 231.325 201.961875 \r\nQ 229.325 201.961875 229.325 203.961875 \r\nL 229.325 217.64 \r\nQ 229.325 219.64 231.325 219.64 \r\nz\r\n\" style=\"fill:#ffffff;opacity:0.8;stroke:#cccccc;stroke-linejoin:miter;\"/>\r\n    </g>\r\n    <g id=\"line2d_14\">\r\n     <path d=\"M 233.325 210.060312 \r\nL 253.325 210.060312 \r\n\" style=\"fill:none;stroke:#1f77b4;stroke-linecap:square;stroke-width:1.5;\"/>\r\n    </g>\r\n    <g id=\"line2d_15\"/>\r\n    <g id=\"text_15\">\r\n     <!-- Pipeline (AUC = 0.90) -->\r\n     <defs>\r\n      <path d=\"M 18.109375 8.203125 \r\nL 18.109375 -20.796875 \r\nL 9.078125 -20.796875 \r\nL 9.078125 54.6875 \r\nL 18.109375 54.6875 \r\nL 18.109375 46.390625 \r\nQ 20.953125 51.265625 25.265625 53.625 \r\nQ 29.59375 56 35.59375 56 \r\nQ 45.5625 56 51.78125 48.09375 \r\nQ 58.015625 40.1875 58.015625 27.296875 \r\nQ 58.015625 14.40625 51.78125 6.484375 \r\nQ 45.5625 -1.421875 35.59375 -1.421875 \r\nQ 29.59375 -1.421875 25.265625 0.953125 \r\nQ 20.953125 3.328125 18.109375 8.203125 \r\nz\r\nM 48.6875 27.296875 \r\nQ 48.6875 37.203125 44.609375 42.84375 \r\nQ 40.53125 48.484375 33.40625 48.484375 \r\nQ 26.265625 48.484375 22.1875 42.84375 \r\nQ 18.109375 37.203125 18.109375 27.296875 \r\nQ 18.109375 17.390625 22.1875 11.75 \r\nQ 26.265625 6.109375 33.40625 6.109375 \r\nQ 40.53125 6.109375 44.609375 11.75 \r\nQ 48.6875 17.390625 48.6875 27.296875 \r\nz\r\n\" id=\"DejaVuSans-112\"/>\r\n      <path d=\"M 54.890625 33.015625 \r\nL 54.890625 0 \r\nL 45.90625 0 \r\nL 45.90625 32.71875 \r\nQ 45.90625 40.484375 42.875 44.328125 \r\nQ 39.84375 48.1875 33.796875 48.1875 \r\nQ 26.515625 48.1875 22.3125 43.546875 \r\nQ 18.109375 38.921875 18.109375 30.90625 \r\nL 18.109375 0 \r\nL 9.078125 0 \r\nL 9.078125 54.6875 \r\nL 18.109375 54.6875 \r\nL 18.109375 46.1875 \r\nQ 21.34375 51.125 25.703125 53.5625 \r\nQ 30.078125 56 35.796875 56 \r\nQ 45.21875 56 50.046875 50.171875 \r\nQ 54.890625 44.34375 54.890625 33.015625 \r\nz\r\n\" id=\"DejaVuSans-110\"/>\r\n      <path d=\"M 31 75.875 \r\nQ 24.46875 64.65625 21.28125 53.65625 \r\nQ 18.109375 42.671875 18.109375 31.390625 \r\nQ 18.109375 20.125 21.3125 9.0625 \r\nQ 24.515625 -2 31 -13.1875 \r\nL 23.1875 -13.1875 \r\nQ 15.875 -1.703125 12.234375 9.375 \r\nQ 8.59375 20.453125 8.59375 31.390625 \r\nQ 8.59375 42.28125 12.203125 53.3125 \r\nQ 15.828125 64.359375 23.1875 75.875 \r\nz\r\n\" id=\"DejaVuSans-40\"/>\r\n      <path d=\"M 34.1875 63.1875 \r\nL 20.796875 26.90625 \r\nL 47.609375 26.90625 \r\nz\r\nM 28.609375 72.90625 \r\nL 39.796875 72.90625 \r\nL 67.578125 0 \r\nL 57.328125 0 \r\nL 50.6875 18.703125 \r\nL 17.828125 18.703125 \r\nL 11.1875 0 \r\nL 0.78125 0 \r\nz\r\n\" id=\"DejaVuSans-65\"/>\r\n      <path d=\"M 8.6875 72.90625 \r\nL 18.609375 72.90625 \r\nL 18.609375 28.609375 \r\nQ 18.609375 16.890625 22.84375 11.734375 \r\nQ 27.09375 6.59375 36.625 6.59375 \r\nQ 46.09375 6.59375 50.34375 11.734375 \r\nQ 54.59375 16.890625 54.59375 28.609375 \r\nL 54.59375 72.90625 \r\nL 64.5 72.90625 \r\nL 64.5 27.390625 \r\nQ 64.5 13.140625 57.4375 5.859375 \r\nQ 50.390625 -1.421875 36.625 -1.421875 \r\nQ 22.796875 -1.421875 15.734375 5.859375 \r\nQ 8.6875 13.140625 8.6875 27.390625 \r\nz\r\n\" id=\"DejaVuSans-85\"/>\r\n      <path d=\"M 64.40625 67.28125 \r\nL 64.40625 56.890625 \r\nQ 59.421875 61.53125 53.78125 63.8125 \r\nQ 48.140625 66.109375 41.796875 66.109375 \r\nQ 29.296875 66.109375 22.65625 58.46875 \r\nQ 16.015625 50.828125 16.015625 36.375 \r\nQ 16.015625 21.96875 22.65625 14.328125 \r\nQ 29.296875 6.6875 41.796875 6.6875 \r\nQ 48.140625 6.6875 53.78125 8.984375 \r\nQ 59.421875 11.28125 64.40625 15.921875 \r\nL 64.40625 5.609375 \r\nQ 59.234375 2.09375 53.4375 0.328125 \r\nQ 47.65625 -1.421875 41.21875 -1.421875 \r\nQ 24.65625 -1.421875 15.125 8.703125 \r\nQ 5.609375 18.84375 5.609375 36.375 \r\nQ 5.609375 53.953125 15.125 64.078125 \r\nQ 24.65625 74.21875 41.21875 74.21875 \r\nQ 47.75 74.21875 53.53125 72.484375 \r\nQ 59.328125 70.75 64.40625 67.28125 \r\nz\r\n\" id=\"DejaVuSans-67\"/>\r\n      <path d=\"M 10.59375 45.40625 \r\nL 73.1875 45.40625 \r\nL 73.1875 37.203125 \r\nL 10.59375 37.203125 \r\nz\r\nM 10.59375 25.484375 \r\nL 73.1875 25.484375 \r\nL 73.1875 17.1875 \r\nL 10.59375 17.1875 \r\nz\r\n\" id=\"DejaVuSans-61\"/>\r\n      <path d=\"M 10.984375 1.515625 \r\nL 10.984375 10.5 \r\nQ 14.703125 8.734375 18.5 7.8125 \r\nQ 22.3125 6.890625 25.984375 6.890625 \r\nQ 35.75 6.890625 40.890625 13.453125 \r\nQ 46.046875 20.015625 46.78125 33.40625 \r\nQ 43.953125 29.203125 39.59375 26.953125 \r\nQ 35.25 24.703125 29.984375 24.703125 \r\nQ 19.046875 24.703125 12.671875 31.3125 \r\nQ 6.296875 37.9375 6.296875 49.421875 \r\nQ 6.296875 60.640625 12.9375 67.421875 \r\nQ 19.578125 74.21875 30.609375 74.21875 \r\nQ 43.265625 74.21875 49.921875 64.515625 \r\nQ 56.59375 54.828125 56.59375 36.375 \r\nQ 56.59375 19.140625 48.40625 8.859375 \r\nQ 40.234375 -1.421875 26.421875 -1.421875 \r\nQ 22.703125 -1.421875 18.890625 -0.6875 \r\nQ 15.09375 0.046875 10.984375 1.515625 \r\nz\r\nM 30.609375 32.421875 \r\nQ 37.25 32.421875 41.125 36.953125 \r\nQ 45.015625 41.5 45.015625 49.421875 \r\nQ 45.015625 57.28125 41.125 61.84375 \r\nQ 37.25 66.40625 30.609375 66.40625 \r\nQ 23.96875 66.40625 20.09375 61.84375 \r\nQ 16.21875 57.28125 16.21875 49.421875 \r\nQ 16.21875 41.5 20.09375 36.953125 \r\nQ 23.96875 32.421875 30.609375 32.421875 \r\nz\r\n\" id=\"DejaVuSans-57\"/>\r\n      <path d=\"M 8.015625 75.875 \r\nL 15.828125 75.875 \r\nQ 23.140625 64.359375 26.78125 53.3125 \r\nQ 30.421875 42.28125 30.421875 31.390625 \r\nQ 30.421875 20.453125 26.78125 9.375 \r\nQ 23.140625 -1.703125 15.828125 -13.1875 \r\nL 8.015625 -13.1875 \r\nQ 14.5 -2 17.703125 9.0625 \r\nQ 20.90625 20.125 20.90625 31.390625 \r\nQ 20.90625 42.671875 17.703125 53.65625 \r\nQ 14.5 64.65625 8.015625 75.875 \r\nz\r\n\" id=\"DejaVuSans-41\"/>\r\n     </defs>\r\n     <g transform=\"translate(261.325 213.560312)scale(0.1 -0.1)\">\r\n      <use xlink:href=\"#DejaVuSans-80\"/>\r\n      <use x=\"58.052734\" xlink:href=\"#DejaVuSans-105\"/>\r\n      <use x=\"85.835938\" xlink:href=\"#DejaVuSans-112\"/>\r\n      <use x=\"149.3125\" xlink:href=\"#DejaVuSans-101\"/>\r\n      <use x=\"210.835938\" xlink:href=\"#DejaVuSans-108\"/>\r\n      <use x=\"238.619141\" xlink:href=\"#DejaVuSans-105\"/>\r\n      <use x=\"266.402344\" xlink:href=\"#DejaVuSans-110\"/>\r\n      <use x=\"329.78125\" xlink:href=\"#DejaVuSans-101\"/>\r\n      <use x=\"391.304688\" xlink:href=\"#DejaVuSans-32\"/>\r\n      <use x=\"423.091797\" xlink:href=\"#DejaVuSans-40\"/>\r\n      <use x=\"462.105469\" xlink:href=\"#DejaVuSans-65\"/>\r\n      <use x=\"530.513672\" xlink:href=\"#DejaVuSans-85\"/>\r\n      <use x=\"603.707031\" xlink:href=\"#DejaVuSans-67\"/>\r\n      <use x=\"673.53125\" xlink:href=\"#DejaVuSans-32\"/>\r\n      <use x=\"705.318359\" xlink:href=\"#DejaVuSans-61\"/>\r\n      <use x=\"789.107422\" xlink:href=\"#DejaVuSans-32\"/>\r\n      <use x=\"820.894531\" xlink:href=\"#DejaVuSans-48\"/>\r\n      <use x=\"884.517578\" xlink:href=\"#DejaVuSans-46\"/>\r\n      <use x=\"916.304688\" xlink:href=\"#DejaVuSans-57\"/>\r\n      <use x=\"979.927734\" xlink:href=\"#DejaVuSans-48\"/>\r\n      <use x=\"1043.550781\" xlink:href=\"#DejaVuSans-41\"/>\r\n     </g>\r\n    </g>\r\n   </g>\r\n  </g>\r\n </g>\r\n <defs>\r\n  <clipPath id=\"p12d36c4e45\">\r\n   <rect height=\"217.44\" width=\"334.8\" x=\"43.78125\" y=\"7.2\"/>\r\n  </clipPath>\r\n </defs>\r\n</svg>\r\n",
      "image/png": "[encoded data removed]"
     },
     "metadata": {
      "needs_background": "light"
     }
    }
   ],
   "source": [
    "plot_roc_curve(estimator, X_test,y_test)"
   ]
  },
  {
   "source": [
    "### Hyperparameter Tunning"
   ],
   "cell_type": "markdown",
   "metadata": {}
  },
  {
   "cell_type": "code",
   "execution_count": 122,
   "metadata": {},
   "outputs": [],
   "source": [
    "model= LogisticRegression(solver='liblinear')\n",
    "estimator= Pipeline([\n",
    "    ('preprocessing', transformer),\n",
    "    ('model',logreg)\n",
    "])"
   ]
  },
  {
   "cell_type": "code",
   "execution_count": 124,
   "metadata": {},
   "outputs": [],
   "source": [
    "hyperparam_space={\n",
    "    'model__solver':['liblinear', 'newton-cg'],\n",
    "    'model__C':[100,10,1,0.1,0.01,0.001]\n",
    "}"
   ]
  },
  {
   "cell_type": "code",
   "execution_count": 125,
   "metadata": {},
   "outputs": [],
   "source": [
    "skfold=StratifiedKFold(n_splits=5)\n",
    "grid_search=GridSearchCV(\n",
    "    estimator,\n",
    "    param_grid=hyperparam_space,\n",
    "    cv=skfold,\n",
    "    scoring='f1'\n",
    "    ,n_jobs=-1\n",
    "    )"
   ]
  },
  {
   "cell_type": "code",
   "execution_count": 128,
   "metadata": {},
   "outputs": [
    {
     "output_type": "execute_result",
     "data": {
      "text/plain": [
       "GridSearchCV(cv=StratifiedKFold(n_splits=5, random_state=None, shuffle=False),\n",
       "             estimator=Pipeline(steps=[('preprocessing',\n",
       "                                        ColumnTransformer(remainder='passthrough',\n",
       "                                                          transformers=[('one '\n",
       "                                                                         'hot '\n",
       "                                                                         'encoder',\n",
       "                                                                         OneHotEncoder(drop='first'),\n",
       "                                                                         ['relationship',\n",
       "                                                                          'race',\n",
       "                                                                          'sex']),\n",
       "                                                                        ('binary '\n",
       "                                                                         'encoder',\n",
       "                                                                         Pipeline(steps=[('imputer',\n",
       "                                                                                          SimpleImputer(fill_value='NC',\n",
       "                                                                                                        missing_values='?',\n",
       "                                                                                                        strategy='constant')),\n",
       "                                                                                         ('binary '\n",
       "                                                                                          'encoder',\n",
       "                                                                                          BinaryEncoder())]),\n",
       "                                                                         ['workclass',\n",
       "                                                                          'marital.status',\n",
       "                                                                          'occupation',\n",
       "                                                                          'native.country'])])),\n",
       "                                       ('model',\n",
       "                                        LogisticRegression(solver='liblinear'))]),\n",
       "             n_jobs=-1,\n",
       "             param_grid={'model__C': [100, 10, 1, 0.1, 0.01, 0.001],\n",
       "                         'model__solver': ['liblinear', 'newton-cg']},\n",
       "             scoring='f1')"
      ]
     },
     "metadata": {},
     "execution_count": 128
    }
   ],
   "source": [
    "grid_search.fit(X_train_val,y_train_val)"
   ]
  },
  {
   "cell_type": "code",
   "execution_count": 130,
   "metadata": {},
   "outputs": [
    {
     "output_type": "stream",
     "name": "stdout",
     "text": [
      "best_score 0.6518301336287953\nbest_param {'model__C': 100, 'model__solver': 'newton-cg'}\n"
     ]
    }
   ],
   "source": [
    "print('best_score',grid_search.best_score_)\n",
    "print('best_param',grid_search.best_params_)"
   ]
  },
  {
   "source": [
    "# Final Results Comparison"
   ],
   "cell_type": "markdown",
   "metadata": {}
  },
  {
   "cell_type": "code",
   "execution_count": 131,
   "metadata": {},
   "outputs": [
    {
     "output_type": "execute_result",
     "data": {
      "text/plain": [
       "Pipeline(steps=[('preprocessing',\n",
       "                 ColumnTransformer(remainder='passthrough',\n",
       "                                   transformers=[('one hot encoder',\n",
       "                                                  OneHotEncoder(drop='first'),\n",
       "                                                  ['relationship', 'race',\n",
       "                                                   'sex']),\n",
       "                                                 ('binary encoder',\n",
       "                                                  Pipeline(steps=[('imputer',\n",
       "                                                                   SimpleImputer(fill_value='NC',\n",
       "                                                                                 missing_values='?',\n",
       "                                                                                 strategy='constant')),\n",
       "                                                                  ('binary '\n",
       "                                                                   'encoder',\n",
       "                                                                   BinaryEncoder())]),\n",
       "                                                  ['workclass',\n",
       "                                                   'marital.status',\n",
       "                                                   'occupation',\n",
       "                                                   'native.country'])])),\n",
       "                ('model', LogisticRegression(solver='liblinear'))])"
      ]
     },
     "metadata": {},
     "execution_count": 131
    }
   ],
   "source": [
    "model= LogisticRegression(solver='liblinear')\n",
    "estimator= Pipeline([\n",
    "    ('preprocessing', transformer),\n",
    "    ('model',logreg)\n",
    "])\n",
    "estimator.fit(X_train_val,y_train_val)"
   ]
  },
  {
   "source": [
    "#### Before tunning"
   ],
   "cell_type": "markdown",
   "metadata": {}
  },
  {
   "cell_type": "code",
   "execution_count": 135,
   "metadata": {},
   "outputs": [
    {
     "output_type": "stream",
     "name": "stdout",
     "text": [
      "              precision    recall  f1-score   support\n\n           0       0.87      0.94      0.91      6181\n           1       0.75      0.57      0.65      1960\n\n    accuracy                           0.85      8141\n   macro avg       0.81      0.76      0.78      8141\nweighted avg       0.84      0.85      0.84      8141\n\n"
     ]
    }
   ],
   "source": [
    "y_pred=estimator.predict(X_test)\n",
    "print(classification_report(y_test,y_pred))"
   ]
  },
  {
   "cell_type": "code",
   "execution_count": 136,
   "metadata": {},
   "outputs": [
    {
     "output_type": "execute_result",
     "data": {
      "text/plain": [
       "0.6498988146863255"
      ]
     },
     "metadata": {},
     "execution_count": 136
    }
   ],
   "source": [
    "f1_score(y_test,y_pred)"
   ]
  },
  {
   "source": [
    "### After tunning"
   ],
   "cell_type": "markdown",
   "metadata": {}
  },
  {
   "cell_type": "code",
   "execution_count": 133,
   "metadata": {},
   "outputs": [
    {
     "output_type": "execute_result",
     "data": {
      "text/plain": [
       "Pipeline(steps=[('preprocessing',\n",
       "                 ColumnTransformer(remainder='passthrough',\n",
       "                                   transformers=[('one hot encoder',\n",
       "                                                  OneHotEncoder(drop='first'),\n",
       "                                                  ['relationship', 'race',\n",
       "                                                   'sex']),\n",
       "                                                 ('binary encoder',\n",
       "                                                  Pipeline(steps=[('imputer',\n",
       "                                                                   SimpleImputer(fill_value='NC',\n",
       "                                                                                 missing_values='?',\n",
       "                                                                                 strategy='constant')),\n",
       "                                                                  ('binary '\n",
       "                                                                   'encoder',\n",
       "                                                                   BinaryEncoder())]),\n",
       "                                                  ['workclass',\n",
       "                                                   'marital.status',\n",
       "                                                   'occupation',\n",
       "                                                   'native.country'])])),\n",
       "                ('model', LogisticRegression(C=100, solver='newton-cg'))])"
      ]
     },
     "metadata": {},
     "execution_count": 133
    }
   ],
   "source": [
    "grid_search.best_estimator_.fit(X_train_val,y_train_val)"
   ]
  },
  {
   "cell_type": "code",
   "execution_count": 134,
   "metadata": {},
   "outputs": [
    {
     "output_type": "stream",
     "name": "stdout",
     "text": [
      "              precision    recall  f1-score   support\n\n           0       0.88      0.94      0.91      6181\n           1       0.75      0.58      0.65      1960\n\n    accuracy                           0.85      8141\n   macro avg       0.81      0.76      0.78      8141\nweighted avg       0.85      0.85      0.85      8141\n\n"
     ]
    }
   ],
   "source": [
    "y_pred=grid_search.best_estimator_.predict(X_test)\n",
    "print(classification_report(y_test,y_pred))"
   ]
  },
  {
   "cell_type": "code",
   "execution_count": 137,
   "metadata": {},
   "outputs": [
    {
     "output_type": "execute_result",
     "data": {
      "text/plain": [
       "0.6498988146863255"
      ]
     },
     "metadata": {},
     "execution_count": 137
    }
   ],
   "source": [
    "f1_score(y_test,y_pred)"
   ]
  },
  {
   "source": [
    "## No change in performance after tunning"
   ],
   "cell_type": "markdown",
   "metadata": {}
  }
 ]
}